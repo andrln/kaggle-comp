{
 "cells": [
  {
   "cell_type": "markdown",
   "metadata": {
    "id": "lwnjXjk4B41V"
   },
   "source": [
    "### **Load the Data**"
   ]
  },
  {
   "cell_type": "code",
   "execution_count": null,
   "metadata": {
    "colab": {
     "base_uri": "https://localhost:8080/"
    },
    "id": "PhzGY6Rjf_YC",
    "outputId": "bdb7eccc-1193-46b1-9ded-32feb65f866a"
   },
   "outputs": [
    {
     "name": "stdout",
     "output_type": "stream",
     "text": [
      "Looking in indexes: https://pypi.org/simple, https://us-python.pkg.dev/colab-wheels/public/simple/\n",
      "Collecting catboost\n",
      "  Downloading catboost-1.2-cp310-cp310-manylinux2014_x86_64.whl (98.6 MB)\n",
      "\u001b[2K     \u001b[90m━━━━━━━━━━━━━━━━━━━━━━━━━━━━━━━━━━━━━━━━\u001b[0m \u001b[32m98.6/98.6 MB\u001b[0m \u001b[31m2.4 MB/s\u001b[0m eta \u001b[36m0:00:00\u001b[0m\n",
      "\u001b[?25hRequirement already satisfied: graphviz in /usr/local/lib/python3.10/dist-packages (from catboost) (0.20.1)\n",
      "Requirement already satisfied: matplotlib in /usr/local/lib/python3.10/dist-packages (from catboost) (3.7.1)\n",
      "Requirement already satisfied: numpy>=1.16.0 in /usr/local/lib/python3.10/dist-packages (from catboost) (1.22.4)\n",
      "Requirement already satisfied: pandas>=0.24 in /usr/local/lib/python3.10/dist-packages (from catboost) (1.5.3)\n",
      "Requirement already satisfied: scipy in /usr/local/lib/python3.10/dist-packages (from catboost) (1.10.1)\n",
      "Requirement already satisfied: plotly in /usr/local/lib/python3.10/dist-packages (from catboost) (5.13.1)\n",
      "Requirement already satisfied: six in /usr/local/lib/python3.10/dist-packages (from catboost) (1.16.0)\n",
      "Requirement already satisfied: python-dateutil>=2.8.1 in /usr/local/lib/python3.10/dist-packages (from pandas>=0.24->catboost) (2.8.2)\n",
      "Requirement already satisfied: pytz>=2020.1 in /usr/local/lib/python3.10/dist-packages (from pandas>=0.24->catboost) (2022.7.1)\n",
      "Requirement already satisfied: contourpy>=1.0.1 in /usr/local/lib/python3.10/dist-packages (from matplotlib->catboost) (1.0.7)\n",
      "Requirement already satisfied: cycler>=0.10 in /usr/local/lib/python3.10/dist-packages (from matplotlib->catboost) (0.11.0)\n",
      "Requirement already satisfied: fonttools>=4.22.0 in /usr/local/lib/python3.10/dist-packages (from matplotlib->catboost) (4.39.3)\n",
      "Requirement already satisfied: kiwisolver>=1.0.1 in /usr/local/lib/python3.10/dist-packages (from matplotlib->catboost) (1.4.4)\n",
      "Requirement already satisfied: packaging>=20.0 in /usr/local/lib/python3.10/dist-packages (from matplotlib->catboost) (23.1)\n",
      "Requirement already satisfied: pillow>=6.2.0 in /usr/local/lib/python3.10/dist-packages (from matplotlib->catboost) (8.4.0)\n",
      "Requirement already satisfied: pyparsing>=2.3.1 in /usr/local/lib/python3.10/dist-packages (from matplotlib->catboost) (3.0.9)\n",
      "Requirement already satisfied: tenacity>=6.2.0 in /usr/local/lib/python3.10/dist-packages (from plotly->catboost) (8.2.2)\n",
      "Installing collected packages: catboost\n",
      "Successfully installed catboost-1.2\n",
      "Looking in indexes: https://pypi.org/simple, https://us-python.pkg.dev/colab-wheels/public/simple/\n",
      "Requirement already satisfied: scikit-learn in /usr/local/lib/python3.10/dist-packages (1.2.2)\n",
      "Requirement already satisfied: numpy>=1.17.3 in /usr/local/lib/python3.10/dist-packages (from scikit-learn) (1.22.4)\n",
      "Requirement already satisfied: scipy>=1.3.2 in /usr/local/lib/python3.10/dist-packages (from scikit-learn) (1.10.1)\n",
      "Requirement already satisfied: joblib>=1.1.1 in /usr/local/lib/python3.10/dist-packages (from scikit-learn) (1.2.0)\n",
      "Requirement already satisfied: threadpoolctl>=2.0.0 in /usr/local/lib/python3.10/dist-packages (from scikit-learn) (3.1.0)\n"
     ]
    }
   ],
   "source": [
    "!pip install catboost\n",
    "!pip install scikit-learn"
   ]
  },
  {
   "cell_type": "code",
   "execution_count": null,
   "metadata": {
    "id": "4WRff5x-3TYI"
   },
   "outputs": [],
   "source": [
    "# This cell is necessary only if you are running on Google Colab. It downloads the files to your\n",
    "# Colab instance so you don't have to upload them here.\n",
    "\n",
    "import requests\n",
    "\n",
    "def save_file(url, file_name):\n",
    "    r = requests.get(url)\n",
    "    with open(file_name, 'wb') as f:\n",
    "      f.write(r.content)\n",
    "\n",
    "save_file('https://courses.cs.washington.edu/courses/cse416/23sp/homeworks/hw5/edx_train.csv', \n",
    "          'edx_train.csv')\n",
    "save_file('https://courses.cs.washington.edu/courses/cse416/23sp/homeworks/hw5/edx_test.csv', \n",
    "          'edx_test.csv')"
   ]
  },
  {
   "cell_type": "markdown",
   "metadata": {
    "id": "4RBuRNVKB_sa"
   },
   "source": [
    "### Random Classifier"
   ]
  },
  {
   "cell_type": "code",
   "execution_count": null,
   "metadata": {
    "colab": {
     "base_uri": "https://localhost:8080/",
     "height": 75
    },
    "id": "O_mvbzSAd5dU",
    "outputId": "e2e02b34-8569-48cd-d688-4c1354b910f4"
   },
   "outputs": [
    {
     "data": {
      "text/html": [
       "<style>#sk-container-id-1 {color: black;background-color: white;}#sk-container-id-1 pre{padding: 0;}#sk-container-id-1 div.sk-toggleable {background-color: white;}#sk-container-id-1 label.sk-toggleable__label {cursor: pointer;display: block;width: 100%;margin-bottom: 0;padding: 0.3em;box-sizing: border-box;text-align: center;}#sk-container-id-1 label.sk-toggleable__label-arrow:before {content: \"▸\";float: left;margin-right: 0.25em;color: #696969;}#sk-container-id-1 label.sk-toggleable__label-arrow:hover:before {color: black;}#sk-container-id-1 div.sk-estimator:hover label.sk-toggleable__label-arrow:before {color: black;}#sk-container-id-1 div.sk-toggleable__content {max-height: 0;max-width: 0;overflow: hidden;text-align: left;background-color: #f0f8ff;}#sk-container-id-1 div.sk-toggleable__content pre {margin: 0.2em;color: black;border-radius: 0.25em;background-color: #f0f8ff;}#sk-container-id-1 input.sk-toggleable__control:checked~div.sk-toggleable__content {max-height: 200px;max-width: 100%;overflow: auto;}#sk-container-id-1 input.sk-toggleable__control:checked~label.sk-toggleable__label-arrow:before {content: \"▾\";}#sk-container-id-1 div.sk-estimator input.sk-toggleable__control:checked~label.sk-toggleable__label {background-color: #d4ebff;}#sk-container-id-1 div.sk-label input.sk-toggleable__control:checked~label.sk-toggleable__label {background-color: #d4ebff;}#sk-container-id-1 input.sk-hidden--visually {border: 0;clip: rect(1px 1px 1px 1px);clip: rect(1px, 1px, 1px, 1px);height: 1px;margin: -1px;overflow: hidden;padding: 0;position: absolute;width: 1px;}#sk-container-id-1 div.sk-estimator {font-family: monospace;background-color: #f0f8ff;border: 1px dotted black;border-radius: 0.25em;box-sizing: border-box;margin-bottom: 0.5em;}#sk-container-id-1 div.sk-estimator:hover {background-color: #d4ebff;}#sk-container-id-1 div.sk-parallel-item::after {content: \"\";width: 100%;border-bottom: 1px solid gray;flex-grow: 1;}#sk-container-id-1 div.sk-label:hover label.sk-toggleable__label {background-color: #d4ebff;}#sk-container-id-1 div.sk-serial::before {content: \"\";position: absolute;border-left: 1px solid gray;box-sizing: border-box;top: 0;bottom: 0;left: 50%;z-index: 0;}#sk-container-id-1 div.sk-serial {display: flex;flex-direction: column;align-items: center;background-color: white;padding-right: 0.2em;padding-left: 0.2em;position: relative;}#sk-container-id-1 div.sk-item {position: relative;z-index: 1;}#sk-container-id-1 div.sk-parallel {display: flex;align-items: stretch;justify-content: center;background-color: white;position: relative;}#sk-container-id-1 div.sk-item::before, #sk-container-id-1 div.sk-parallel-item::before {content: \"\";position: absolute;border-left: 1px solid gray;box-sizing: border-box;top: 0;bottom: 0;left: 50%;z-index: -1;}#sk-container-id-1 div.sk-parallel-item {display: flex;flex-direction: column;z-index: 1;position: relative;background-color: white;}#sk-container-id-1 div.sk-parallel-item:first-child::after {align-self: flex-end;width: 50%;}#sk-container-id-1 div.sk-parallel-item:last-child::after {align-self: flex-start;width: 50%;}#sk-container-id-1 div.sk-parallel-item:only-child::after {width: 0;}#sk-container-id-1 div.sk-dashed-wrapped {border: 1px dashed gray;margin: 0 0.4em 0.5em 0.4em;box-sizing: border-box;padding-bottom: 0.4em;background-color: white;}#sk-container-id-1 div.sk-label label {font-family: monospace;font-weight: bold;display: inline-block;line-height: 1.2em;}#sk-container-id-1 div.sk-label-container {text-align: center;}#sk-container-id-1 div.sk-container {/* jupyter's `normalize.less` sets `[hidden] { display: none; }` but bootstrap.min.css set `[hidden] { display: none !important; }` so we also need the `!important` here to be able to override the default hidden behavior on the sphinx rendered scikit-learn.org. See: https://github.com/scikit-learn/scikit-learn/issues/21755 */display: inline-block !important;position: relative;}#sk-container-id-1 div.sk-text-repr-fallback {display: none;}</style><div id=\"sk-container-id-1\" class=\"sk-top-container\"><div class=\"sk-text-repr-fallback\"><pre>DummyClassifier(strategy=&#x27;uniform&#x27;)</pre><b>In a Jupyter environment, please rerun this cell to show the HTML representation or trust the notebook. <br />On GitHub, the HTML representation is unable to render, please try loading this page with nbviewer.org.</b></div><div class=\"sk-container\" hidden><div class=\"sk-item\"><div class=\"sk-estimator sk-toggleable\"><input class=\"sk-toggleable__control sk-hidden--visually\" id=\"sk-estimator-id-1\" type=\"checkbox\" checked><label for=\"sk-estimator-id-1\" class=\"sk-toggleable__label sk-toggleable__label-arrow\">DummyClassifier</label><div class=\"sk-toggleable__content\"><pre>DummyClassifier(strategy=&#x27;uniform&#x27;)</pre></div></div></div></div></div>"
      ],
      "text/plain": [
       "DummyClassifier(strategy='uniform')"
      ]
     },
     "execution_count": 2,
     "metadata": {},
     "output_type": "execute_result"
    }
   ],
   "source": [
    "import pandas as pd\n",
    "from sklearn.dummy import DummyClassifier\n",
    "\n",
    "target = \"certified\" # target column\n",
    "\n",
    "# This classifier returns labels sampled uniformly at random\n",
    "df_train = pd.read_csv('edx_train.csv')\n",
    "dummy_model = DummyClassifier(strategy=\"uniform\")\n",
    "dummy_model.fit(df_train.drop(target, axis=1), df_train[target])"
   ]
  },
  {
   "cell_type": "code",
   "execution_count": 1,
   "metadata": {
    "id": "W1vMUKAVeDWK"
   },
   "outputs": [
    {
     "ename": "NameError",
     "evalue": "name 'pd' is not defined",
     "output_type": "error",
     "traceback": [
      "\u001b[1;31m---------------------------------------------------------------------------\u001b[0m",
      "\u001b[1;31mNameError\u001b[0m                                 Traceback (most recent call last)",
      "Cell \u001b[1;32mIn[1], line 2\u001b[0m\n\u001b[0;32m      1\u001b[0m \u001b[38;5;66;03m# Generate predictions on the test set\u001b[39;00m\n\u001b[1;32m----> 2\u001b[0m df_test \u001b[38;5;241m=\u001b[39m pd\u001b[38;5;241m.\u001b[39mread_csv(\u001b[38;5;124m'\u001b[39m\u001b[38;5;124medx_test.csv\u001b[39m\u001b[38;5;124m'\u001b[39m)\n\u001b[0;32m      3\u001b[0m predictions \u001b[38;5;241m=\u001b[39m dummy_model\u001b[38;5;241m.\u001b[39mpredict(df_test)\n\u001b[0;32m      5\u001b[0m \u001b[38;5;66;03m# Save predictions as a CSV\u001b[39;00m\n",
      "\u001b[1;31mNameError\u001b[0m: name 'pd' is not defined"
     ]
    }
   ],
   "source": [
    "# Generate predictions on the test set\n",
    "df_test = pd.read_csv('edx_test.csv')\n",
    "predictions = dummy_model.predict(df_test)\n",
    "\n",
    "# Save predictions as a CSV\n",
    "to_save = df_test[['userid_DI']].copy()\n",
    "to_save.loc[:, 'certified'] = predictions\n",
    "to_save.to_csv('submission.csv', index=False)"
   ]
  },
  {
   "cell_type": "code",
   "execution_count": null,
   "metadata": {
    "id": "vkv-HyG4PRjR"
   },
   "outputs": [],
   "source": [
    "import math \n",
    "\n",
    "import matplotlib.pyplot as plt              # For plotting\n",
    "import seaborn as sns                        # For styling plots\n",
    "import torch                                 # Overall PyTorch import\n",
    "import torch.nn as nn                        # For specifying neural networks\n",
    "import torch.nn.functional as F              # For common functions\n",
    "import torch.optim as optim                  # For optimizizing model parameters\n",
    "import torchvision.datasets as datasets      # To download data\n",
    "import torchvision.transforms as transforms  # For pre-processing data\n",
    "from sklearn.model_selection import train_test_split\n",
    "from sklearn.metrics import accuracy_score\n",
    "import numpy as np"
   ]
  },
  {
   "cell_type": "code",
   "execution_count": null,
   "metadata": {
    "colab": {
     "base_uri": "https://localhost:8080/"
    },
    "id": "eU9Uq_9tsfwu",
    "outputId": "9cec4a98-cdf8-436b-dbb8-87c442e2c3c5"
   },
   "outputs": [
    {
     "data": {
      "text/plain": [
       "course_id             object\n",
       "userid_DI             object\n",
       "registered             int64\n",
       "viewed                 int64\n",
       "explored               int64\n",
       "certified              int64\n",
       "final_cc_cname_DI     object\n",
       "LoE_DI                object\n",
       "YoB                  float64\n",
       "gender                object\n",
       "start_time_DI         object\n",
       "last_event_DI         object\n",
       "nevents              float64\n",
       "ndays_act            float64\n",
       "nplay_video          float64\n",
       "nchapters            float64\n",
       "nforum_posts           int64\n",
       "dtype: object"
      ]
     },
     "execution_count": 5,
     "metadata": {},
     "output_type": "execute_result"
    }
   ],
   "source": [
    "# read data\n",
    "train_data = pd.read_csv('edx_train.csv')\n",
    "test_data = pd.read_csv('edx_test.csv')\n",
    "train_data.dtypes"
   ]
  },
  {
   "cell_type": "code",
   "execution_count": null,
   "metadata": {
    "id": "BEzsRjN4o9PE"
   },
   "outputs": [],
   "source": [
    "#majority class classifier\n",
    "train_data, validation_data = train_test_split(train_data, test_size=0.3, random_state=3)\n",
    "\n",
    "majority_label = train_data['certified'].value_counts().idxmax()\n",
    "majority_classifier_validation_accuracy = (validation_data['certified'] == majority_label).sum()/len(validation_data)\n",
    "(validation_data['certified'] == majority_label).sum()/len(validation_data)\n",
    "\n",
    "# Generate predictions on the test set\n",
    "predictions = majority_label\n",
    "\n",
    "# Save your predictions as a CSV\n",
    "to_save = df_test[['userid_DI']].copy()\n",
    "to_save.loc[:, 'certified'] = predictions\n",
    "to_save.to_csv('submission.csv', index=False)"
   ]
  },
  {
   "cell_type": "markdown",
   "metadata": {
    "id": "frT7FtNg2jy1"
   },
   "source": [
    "## Model 1: Decision Tree Classifier"
   ]
  },
  {
   "cell_type": "code",
   "execution_count": null,
   "metadata": {
    "colab": {
     "base_uri": "https://localhost:8080/",
     "height": 317
    },
    "id": "wC2d6ktt3u72",
    "outputId": "46601cf0-c9af-4236-ac3a-1064093e8a30"
   },
   "outputs": [
    {
     "data": {
      "text/html": [
       "\n",
       "  <div id=\"df-e75d6c70-2958-4c74-b246-1b41b4f3711e\">\n",
       "    <div class=\"colab-df-container\">\n",
       "      <div>\n",
       "<style scoped>\n",
       "    .dataframe tbody tr th:only-of-type {\n",
       "        vertical-align: middle;\n",
       "    }\n",
       "\n",
       "    .dataframe tbody tr th {\n",
       "        vertical-align: top;\n",
       "    }\n",
       "\n",
       "    .dataframe thead th {\n",
       "        text-align: right;\n",
       "    }\n",
       "</style>\n",
       "<table border=\"1\" class=\"dataframe\">\n",
       "  <thead>\n",
       "    <tr style=\"text-align: right;\">\n",
       "      <th></th>\n",
       "      <th>registered</th>\n",
       "      <th>viewed</th>\n",
       "      <th>explored</th>\n",
       "      <th>nforum_posts</th>\n",
       "      <th>course_id_HarvardX/CB22x/2013_Spring</th>\n",
       "      <th>course_id_HarvardX/CS50x/2012</th>\n",
       "      <th>course_id_HarvardX/ER22x/2013_Spring</th>\n",
       "      <th>course_id_HarvardX/PH207x/2012_Fall</th>\n",
       "      <th>course_id_HarvardX/PH278x/2013_Spring</th>\n",
       "      <th>final_cc_cname_DI_Australia</th>\n",
       "      <th>...</th>\n",
       "      <th>final_cc_cname_DI_Pakistan</th>\n",
       "      <th>final_cc_cname_DI_Philippines</th>\n",
       "      <th>final_cc_cname_DI_Poland</th>\n",
       "      <th>final_cc_cname_DI_Portugal</th>\n",
       "      <th>final_cc_cname_DI_Russian Federation</th>\n",
       "      <th>final_cc_cname_DI_Spain</th>\n",
       "      <th>final_cc_cname_DI_Ukraine</th>\n",
       "      <th>final_cc_cname_DI_United Kingdom</th>\n",
       "      <th>final_cc_cname_DI_United States</th>\n",
       "      <th>final_cc_cname_DI_Unknown/Other</th>\n",
       "    </tr>\n",
       "  </thead>\n",
       "  <tbody>\n",
       "    <tr>\n",
       "      <th>3636</th>\n",
       "      <td>1</td>\n",
       "      <td>0</td>\n",
       "      <td>0</td>\n",
       "      <td>0</td>\n",
       "      <td>0</td>\n",
       "      <td>1</td>\n",
       "      <td>0</td>\n",
       "      <td>0</td>\n",
       "      <td>0</td>\n",
       "      <td>0</td>\n",
       "      <td>...</td>\n",
       "      <td>0</td>\n",
       "      <td>0</td>\n",
       "      <td>0</td>\n",
       "      <td>0</td>\n",
       "      <td>0</td>\n",
       "      <td>0</td>\n",
       "      <td>0</td>\n",
       "      <td>0</td>\n",
       "      <td>0</td>\n",
       "      <td>0</td>\n",
       "    </tr>\n",
       "    <tr>\n",
       "      <th>6881</th>\n",
       "      <td>1</td>\n",
       "      <td>1</td>\n",
       "      <td>1</td>\n",
       "      <td>0</td>\n",
       "      <td>0</td>\n",
       "      <td>0</td>\n",
       "      <td>0</td>\n",
       "      <td>1</td>\n",
       "      <td>0</td>\n",
       "      <td>0</td>\n",
       "      <td>...</td>\n",
       "      <td>0</td>\n",
       "      <td>0</td>\n",
       "      <td>0</td>\n",
       "      <td>0</td>\n",
       "      <td>0</td>\n",
       "      <td>0</td>\n",
       "      <td>0</td>\n",
       "      <td>0</td>\n",
       "      <td>0</td>\n",
       "      <td>0</td>\n",
       "    </tr>\n",
       "    <tr>\n",
       "      <th>5480</th>\n",
       "      <td>1</td>\n",
       "      <td>1</td>\n",
       "      <td>1</td>\n",
       "      <td>0</td>\n",
       "      <td>0</td>\n",
       "      <td>1</td>\n",
       "      <td>0</td>\n",
       "      <td>0</td>\n",
       "      <td>0</td>\n",
       "      <td>0</td>\n",
       "      <td>...</td>\n",
       "      <td>0</td>\n",
       "      <td>0</td>\n",
       "      <td>0</td>\n",
       "      <td>0</td>\n",
       "      <td>0</td>\n",
       "      <td>0</td>\n",
       "      <td>0</td>\n",
       "      <td>0</td>\n",
       "      <td>0</td>\n",
       "      <td>0</td>\n",
       "    </tr>\n",
       "    <tr>\n",
       "      <th>4321</th>\n",
       "      <td>1</td>\n",
       "      <td>1</td>\n",
       "      <td>1</td>\n",
       "      <td>0</td>\n",
       "      <td>0</td>\n",
       "      <td>0</td>\n",
       "      <td>0</td>\n",
       "      <td>1</td>\n",
       "      <td>0</td>\n",
       "      <td>0</td>\n",
       "      <td>...</td>\n",
       "      <td>0</td>\n",
       "      <td>0</td>\n",
       "      <td>0</td>\n",
       "      <td>0</td>\n",
       "      <td>0</td>\n",
       "      <td>0</td>\n",
       "      <td>0</td>\n",
       "      <td>0</td>\n",
       "      <td>0</td>\n",
       "      <td>0</td>\n",
       "    </tr>\n",
       "    <tr>\n",
       "      <th>709</th>\n",
       "      <td>1</td>\n",
       "      <td>0</td>\n",
       "      <td>0</td>\n",
       "      <td>0</td>\n",
       "      <td>0</td>\n",
       "      <td>1</td>\n",
       "      <td>0</td>\n",
       "      <td>0</td>\n",
       "      <td>0</td>\n",
       "      <td>0</td>\n",
       "      <td>...</td>\n",
       "      <td>0</td>\n",
       "      <td>0</td>\n",
       "      <td>0</td>\n",
       "      <td>0</td>\n",
       "      <td>0</td>\n",
       "      <td>0</td>\n",
       "      <td>0</td>\n",
       "      <td>0</td>\n",
       "      <td>0</td>\n",
       "      <td>1</td>\n",
       "    </tr>\n",
       "  </tbody>\n",
       "</table>\n",
       "<p>5 rows × 43 columns</p>\n",
       "</div>\n",
       "      <button class=\"colab-df-convert\" onclick=\"convertToInteractive('df-e75d6c70-2958-4c74-b246-1b41b4f3711e')\"\n",
       "              title=\"Convert this dataframe to an interactive table.\"\n",
       "              style=\"display:none;\">\n",
       "        \n",
       "  <svg xmlns=\"http://www.w3.org/2000/svg\" height=\"24px\"viewBox=\"0 0 24 24\"\n",
       "       width=\"24px\">\n",
       "    <path d=\"M0 0h24v24H0V0z\" fill=\"none\"/>\n",
       "    <path d=\"M18.56 5.44l.94 2.06.94-2.06 2.06-.94-2.06-.94-.94-2.06-.94 2.06-2.06.94zm-11 1L8.5 8.5l.94-2.06 2.06-.94-2.06-.94L8.5 2.5l-.94 2.06-2.06.94zm10 10l.94 2.06.94-2.06 2.06-.94-2.06-.94-.94-2.06-.94 2.06-2.06.94z\"/><path d=\"M17.41 7.96l-1.37-1.37c-.4-.4-.92-.59-1.43-.59-.52 0-1.04.2-1.43.59L10.3 9.45l-7.72 7.72c-.78.78-.78 2.05 0 2.83L4 21.41c.39.39.9.59 1.41.59.51 0 1.02-.2 1.41-.59l7.78-7.78 2.81-2.81c.8-.78.8-2.07 0-2.86zM5.41 20L4 18.59l7.72-7.72 1.47 1.35L5.41 20z\"/>\n",
       "  </svg>\n",
       "      </button>\n",
       "      \n",
       "  <style>\n",
       "    .colab-df-container {\n",
       "      display:flex;\n",
       "      flex-wrap:wrap;\n",
       "      gap: 12px;\n",
       "    }\n",
       "\n",
       "    .colab-df-convert {\n",
       "      background-color: #E8F0FE;\n",
       "      border: none;\n",
       "      border-radius: 50%;\n",
       "      cursor: pointer;\n",
       "      display: none;\n",
       "      fill: #1967D2;\n",
       "      height: 32px;\n",
       "      padding: 0 0 0 0;\n",
       "      width: 32px;\n",
       "    }\n",
       "\n",
       "    .colab-df-convert:hover {\n",
       "      background-color: #E2EBFA;\n",
       "      box-shadow: 0px 1px 2px rgba(60, 64, 67, 0.3), 0px 1px 3px 1px rgba(60, 64, 67, 0.15);\n",
       "      fill: #174EA6;\n",
       "    }\n",
       "\n",
       "    [theme=dark] .colab-df-convert {\n",
       "      background-color: #3B4455;\n",
       "      fill: #D2E3FC;\n",
       "    }\n",
       "\n",
       "    [theme=dark] .colab-df-convert:hover {\n",
       "      background-color: #434B5C;\n",
       "      box-shadow: 0px 1px 3px 1px rgba(0, 0, 0, 0.15);\n",
       "      filter: drop-shadow(0px 1px 2px rgba(0, 0, 0, 0.3));\n",
       "      fill: #FFFFFF;\n",
       "    }\n",
       "  </style>\n",
       "\n",
       "      <script>\n",
       "        const buttonEl =\n",
       "          document.querySelector('#df-e75d6c70-2958-4c74-b246-1b41b4f3711e button.colab-df-convert');\n",
       "        buttonEl.style.display =\n",
       "          google.colab.kernel.accessAllowed ? 'block' : 'none';\n",
       "\n",
       "        async function convertToInteractive(key) {\n",
       "          const element = document.querySelector('#df-e75d6c70-2958-4c74-b246-1b41b4f3711e');\n",
       "          const dataTable =\n",
       "            await google.colab.kernel.invokeFunction('convertToInteractive',\n",
       "                                                     [key], {});\n",
       "          if (!dataTable) return;\n",
       "\n",
       "          const docLinkHtml = 'Like what you see? Visit the ' +\n",
       "            '<a target=\"_blank\" href=https://colab.research.google.com/notebooks/data_table.ipynb>data table notebook</a>'\n",
       "            + ' to learn more about interactive tables.';\n",
       "          element.innerHTML = '';\n",
       "          dataTable['output_type'] = 'display_data';\n",
       "          await google.colab.output.renderOutput(dataTable, element);\n",
       "          const docLink = document.createElement('div');\n",
       "          docLink.innerHTML = docLinkHtml;\n",
       "          element.appendChild(docLink);\n",
       "        }\n",
       "      </script>\n",
       "    </div>\n",
       "  </div>\n",
       "  "
      ],
      "text/plain": [
       "      registered  viewed  explored  nforum_posts  \\\n",
       "3636           1       0         0             0   \n",
       "6881           1       1         1             0   \n",
       "5480           1       1         1             0   \n",
       "4321           1       1         1             0   \n",
       "709            1       0         0             0   \n",
       "\n",
       "      course_id_HarvardX/CB22x/2013_Spring  course_id_HarvardX/CS50x/2012  \\\n",
       "3636                                     0                              1   \n",
       "6881                                     0                              0   \n",
       "5480                                     0                              1   \n",
       "4321                                     0                              0   \n",
       "709                                      0                              1   \n",
       "\n",
       "      course_id_HarvardX/ER22x/2013_Spring  \\\n",
       "3636                                     0   \n",
       "6881                                     0   \n",
       "5480                                     0   \n",
       "4321                                     0   \n",
       "709                                      0   \n",
       "\n",
       "      course_id_HarvardX/PH207x/2012_Fall  \\\n",
       "3636                                    0   \n",
       "6881                                    1   \n",
       "5480                                    0   \n",
       "4321                                    1   \n",
       "709                                     0   \n",
       "\n",
       "      course_id_HarvardX/PH278x/2013_Spring  final_cc_cname_DI_Australia  ...  \\\n",
       "3636                                      0                            0  ...   \n",
       "6881                                      0                            0  ...   \n",
       "5480                                      0                            0  ...   \n",
       "4321                                      0                            0  ...   \n",
       "709                                       0                            0  ...   \n",
       "\n",
       "      final_cc_cname_DI_Pakistan  final_cc_cname_DI_Philippines  \\\n",
       "3636                           0                              0   \n",
       "6881                           0                              0   \n",
       "5480                           0                              0   \n",
       "4321                           0                              0   \n",
       "709                            0                              0   \n",
       "\n",
       "      final_cc_cname_DI_Poland  final_cc_cname_DI_Portugal  \\\n",
       "3636                         0                           0   \n",
       "6881                         0                           0   \n",
       "5480                         0                           0   \n",
       "4321                         0                           0   \n",
       "709                          0                           0   \n",
       "\n",
       "      final_cc_cname_DI_Russian Federation  final_cc_cname_DI_Spain  \\\n",
       "3636                                     0                        0   \n",
       "6881                                     0                        0   \n",
       "5480                                     0                        0   \n",
       "4321                                     0                        0   \n",
       "709                                      0                        0   \n",
       "\n",
       "      final_cc_cname_DI_Ukraine  final_cc_cname_DI_United Kingdom  \\\n",
       "3636                          0                                 0   \n",
       "6881                          0                                 0   \n",
       "5480                          0                                 0   \n",
       "4321                          0                                 0   \n",
       "709                           0                                 0   \n",
       "\n",
       "      final_cc_cname_DI_United States  final_cc_cname_DI_Unknown/Other  \n",
       "3636                                0                                0  \n",
       "6881                                0                                0  \n",
       "5480                                0                                0  \n",
       "4321                                0                                0  \n",
       "709                                 0                                1  \n",
       "\n",
       "[5 rows x 43 columns]"
      ]
     },
     "execution_count": 8,
     "metadata": {},
     "output_type": "execute_result"
    }
   ],
   "source": [
    "# Data Preprocessing\n",
    "\n",
    "#print(train_data.isnull().sum())\n",
    "features = ['course_id', 'registered', 'viewed', 'explored', 'final_cc_cname_DI', 'nforum_posts']\n",
    "target = 'certified'\n",
    "\n",
    "train_data_trimmed = train_data[features + [target]]\n",
    "\n",
    "# One-Hot Encoding for features\n",
    "train_data_trimmed = pd.get_dummies(train_data_trimmed)\n",
    "features = list(train_data_trimmed.columns)\n",
    "features.remove('certified')\n",
    "\n",
    "# Train-Validation split\n",
    "train_dt, val_dt = train_test_split(train_data_trimmed, test_size=0.3, random_state=3)\n",
    "\n",
    "train_dt[features].head()\n"
   ]
  },
  {
   "cell_type": "code",
   "execution_count": null,
   "metadata": {
    "colab": {
     "base_uri": "https://localhost:8080/"
    },
    "id": "5mC1TGJyU4U9",
    "outputId": "d304c951-f167-42ee-d989-1c1496fbd8a5"
   },
   "outputs": [
    {
     "name": "stdout",
     "output_type": "stream",
     "text": [
      "0.9433698438592403\n",
      "0.9238716693855357\n"
     ]
    }
   ],
   "source": [
    "# Fitting Decision Tree\n",
    "from sklearn.tree import DecisionTreeClassifier\n",
    "dt_model = DecisionTreeClassifier(max_depth = 15)\n",
    "decision_tree_model = dt_model.fit(train_dt[features], train_dt[target])\n",
    "\n",
    "dt_train_accuracy = decision_tree_model.score(train_dt[features], train_dt[target])\n",
    "dt_val_accuracy = decision_tree_model.score(val_dt[features], val_dt[target])\n",
    "\n",
    "print(dt_train_accuracy)\n",
    "print(dt_val_accuracy)\n"
   ]
  },
  {
   "cell_type": "code",
   "execution_count": null,
   "metadata": {
    "colab": {
     "base_uri": "https://localhost:8080/"
    },
    "id": "_D8C_1SCAmqy",
    "outputId": "80b11f12-06e0-40aa-ffcf-fd1506f80392"
   },
   "outputs": [
    {
     "name": "stdout",
     "output_type": "stream",
     "text": [
      "{'max_depth': 15, 'min_samples_leaf': 10}\n"
     ]
    }
   ],
   "source": [
    "# Hyperparameter Tuning\n",
    "\n",
    "from sklearn.model_selection import GridSearchCV\n",
    "\n",
    "hyperparameters = {\n",
    "    'min_samples_leaf': [1, 10, 50, 100, 200, 300],\n",
    "    'max_depth': [1, 5, 10, 15, 20]\n",
    "}\n",
    "\n",
    "search = GridSearchCV(\n",
    "    estimator = DecisionTreeClassifier(),\n",
    "    param_grid = hyperparameters,\n",
    "    cv = 6, \n",
    "    return_train_score = True\n",
    ")\n",
    "\n",
    "search.fit(train_dt[features], train_dt[target])\n",
    "\n",
    "print(search.best_params_)\n"
   ]
  },
  {
   "cell_type": "code",
   "execution_count": null,
   "metadata": {
    "id": "FqlnfSRufcaD"
   },
   "outputs": [],
   "source": [
    "# Preprocessing Test Data\n",
    "features = ['course_id', 'registered', 'viewed', 'explored', 'final_cc_cname_DI', 'nforum_posts']\n",
    "test_data_trimmed = test_data[features]\n",
    "\n",
    "# One-Hot Encoding for Date and Country variables\n",
    "test_data_trimmed = pd.get_dummies(test_data_trimmed)\n",
    "features = list(test_data_trimmed.columns)\n",
    "\n",
    "# Predicting on Test Data\n",
    "predictions = dt_model.predict(test_data_trimmed[features])"
   ]
  },
  {
   "cell_type": "code",
   "execution_count": null,
   "metadata": {
    "id": "0YgrquBnctlS"
   },
   "outputs": [],
   "source": [
    "# Getting Submission CSV\n",
    "\n",
    "to_save = df_test[['userid_DI']].copy()\n",
    "to_save.loc[:, 'certified'] = predictions\n",
    "to_save.to_csv('submission.csv', index=False)"
   ]
  },
  {
   "cell_type": "code",
   "execution_count": null,
   "metadata": {
    "colab": {
     "base_uri": "https://localhost:8080/",
     "height": 449
    },
    "id": "epdXrXoUJYYb",
    "outputId": "4dd6f9ec-4c64-4631-ce25-8f9d75fbc310"
   },
   "outputs": [
    {
     "data": {
      "image/png": "[encoded data removed]",
      "text/plain": [
       "<Figure size 640x480 with 1 Axes>"
      ]
     },
     "metadata": {},
     "output_type": "display_data"
    }
   ],
   "source": [
    "max_depth_list = [1,5,10,15,20]\n",
    "train_accuracy = []\n",
    "val_accuracy = []\n",
    "\n",
    "for x in max_depth_list:\n",
    "  dtc = DecisionTreeClassifier(max_depth=x)\n",
    "  dtc.fit(train_dt[features], train_dt[target])\n",
    "  train = dtc.predict(train_dt[features])\n",
    "  val = dtc.predict(val_dt[features])\n",
    "  train_accuracy.append(accuracy_score(train_dt[target], train))\n",
    "  val_accuracy.append(accuracy_score(val_dt[target], val))\n",
    "\n",
    "x = np.arange(len(max_depth_list)) + 1\n",
    "plt.plot(x, train_accuracy, label='Training Accuracy')\n",
    "plt.plot(x, val_accuracy, label='Validation Accuracy')\n",
    "plt.xlabel('Maximum Depth')\n",
    "plt.ylabel('Accuracy')\n",
    "plt.legend()\n",
    "plt.show()"
   ]
  },
  {
   "cell_type": "markdown",
   "metadata": {
    "id": "kOLxhTNLDXEA"
   },
   "source": [
    "\n",
    "\n",
    "## Model 2: XGBoost"
   ]
  },
  {
   "cell_type": "code",
   "execution_count": null,
   "metadata": {
    "id": "77uOf2WRU7Tg"
   },
   "outputs": [],
   "source": [
    "import math \n",
    "\n",
    "import matplotlib.pyplot as plt              # For plotting\n",
    "import seaborn as sns                        # For styling plots\n",
    "#import torch                                 # Overall PyTorch import\n",
    "#import torch.nn as nn                        # For specifying neural networks\n",
    "#import torch.nn.functional as F              # For common functions\n",
    "#import torch.optim as optim                  # For optimizizing model parameters\n",
    "#import torchvision.datasets as datasets      # To download data\n",
    "#import torchvision.transforms as transforms  # For pre-processing data\n",
    "from sklearn.model_selection import train_test_split\n",
    "import xgboost as xgb\n",
    "from xgboost import XGBClassifier\n",
    "from sklearn.model_selection import train_test_split\n",
    "from sklearn.metrics import accuracy_score\n",
    "import numpy as np\n",
    "from sklearn.preprocessing import OrdinalEncoder\n",
    "import random\n",
    "from datetime import datetime"
   ]
  },
  {
   "cell_type": "code",
   "execution_count": null,
   "metadata": {
    "id": "rHdtGJJFVFsG"
   },
   "outputs": [],
   "source": [
    "# read data\n",
    "train_data = pd.read_csv('edx_train.csv')\n",
    "test_data = pd.read_csv('edx_test.csv')"
   ]
  },
  {
   "cell_type": "code",
   "execution_count": null,
   "metadata": {
    "colab": {
     "base_uri": "https://localhost:8080/"
    },
    "id": "pgyp-s8VVJS6",
    "outputId": "4ae7ee22-7048-4dcb-887b-d160b44409c2"
   },
   "outputs": [
    {
     "name": "stdout",
     "output_type": "stream",
     "text": [
      "Accuracy: 97.55%\n",
      "Train Accuracy: 99.89%\n"
     ]
    }
   ],
   "source": [
    "#xgboost\n",
    "# Extract feature and target arrays\n",
    "#train_data = train_data.drop('userid_DI', axis=1)\n",
    "x, y = train_data.drop('certified', axis=1), train_data[['certified']]\n",
    "# x['date_diff'] = (pd.to_datetime(x['last_event_DI'], infer_datetime_format=True) - pd.to_datetime(x['start_time_DI'], infer_datetime_format=True))\n",
    "# x['date_diff'] = x['date_diff'].dt.days\n",
    "# x['date_diff'] = x['date_diff'].fillna(0)\n",
    "\n",
    "y_encoded = OrdinalEncoder().fit_transform(y)\n",
    "\n",
    "#xgboost can automatically deal with categorical data\n",
    "#by casting categorical columns into pandas category type\n",
    "\n",
    "# Extract text features\n",
    "cats = x.select_dtypes(exclude=np.number).columns.tolist()\n",
    "\n",
    "# Convert to Pandas category\n",
    "for col in cats:\n",
    "    x[col] = x[col].astype('category')\n",
    "    \n",
    "#split \n",
    "x_train, x_valid, y_train, y_valid = train_test_split(x, y, test_size=.2, random_state=3)\n",
    "\n",
    "#convert datasets into xgboost dmatrices\n",
    "dtrain_reg = xgb.DMatrix(x_train, y_train, enable_categorical=True)\n",
    "dvalid_reg = xgb.DMatrix(x_valid, y_valid, enable_categorical=True)\n",
    "\n",
    "params = {\"objective\": \"binary:logistic\", \"tree_method\": \"gpu_hist\"}\n",
    "n = 100\n",
    "model = xgb.train(\n",
    "   params=params,\n",
    "   dtrain=dtrain_reg,\n",
    "   num_boost_round=n,\n",
    ")\n",
    "\n",
    "y_pred = model.predict(dvalid_reg)\n",
    "predictions = [round(value) for value in y_pred]\n",
    "accuracy = accuracy_score(y_valid, predictions)\n",
    "print(\"Accuracy: %.2f%%\" % (accuracy * 100.0))\n",
    "\n",
    "# n = 1000\n",
    "\n",
    "# results = xgb.cv(\n",
    "#    params, dtrain_reg,\n",
    "#    num_boost_round=n,\n",
    "#    nfold=5,\n",
    "#    metrics=[\"error\", 'auc'],\n",
    "# )\n",
    "\n",
    "#print(results.keys())\n",
    "#print(100*results['test-error-mean'].min())\n",
    "#results['test-auc-mean'].max()\n",
    "\n",
    "y_pred_train = model.predict(dtrain_reg)\n",
    "predictions_train = [round(value) for value in y_pred_train]\n",
    "train_accuracy = accuracy_score(y_train, predictions_train)\n",
    "print(\"Train Accuracy: %.2f%%\" % (train_accuracy * 100.0))"
   ]
  },
  {
   "cell_type": "code",
   "execution_count": null,
   "metadata": {
    "colab": {
     "base_uri": "https://localhost:8080/"
    },
    "id": "EcLWR1KWVJ1K",
    "outputId": "5982ebc2-d1c2-47de-f582-7e81cbbe7d75"
   },
   "outputs": [
    {
     "name": "stdout",
     "output_type": "stream",
     "text": [
      "   XGBoost Validation Accuracy  XGBoost Training Accuracy\n",
      "0                     0.975457                   0.998858\n"
     ]
    }
   ],
   "source": [
    "acc_data_list = {'XGBoost Validation Accuracy':  [accuracy],\n",
    "        'XGBoost Training Accuracy': [train_accuracy],\n",
    "        }\n",
    "\n",
    "acc_data = pd.DataFrame(acc_data_list)\n",
    "\n",
    "print(acc_data)"
   ]
  },
  {
   "cell_type": "code",
   "execution_count": null,
   "metadata": {
    "id": "K8zfx-ueVLnC"
   },
   "outputs": [],
   "source": [
    "#xgboost\n",
    "# Extract text features\n",
    "df_test = pd.read_csv('edx_test.csv')\n",
    "cats = df_test.select_dtypes(exclude=np.number).columns.tolist()\n",
    "df_test_date = df_test\n",
    "# df_test_date['date_diff'] = (pd.to_datetime(df_test_date['last_event_DI'], infer_datetime_format=True) - pd.to_datetime(df_test_date['start_time_DI'], infer_datetime_format=True))\n",
    "# df_test_date['date_diff'] = df_test_date['date_diff'].dt.days\n",
    "# df_test_date['date_diff'] = df_test_date['date_diff'].fillna(0)\n",
    "\n",
    "# Convert to Pandas category\n",
    "for col in cats:\n",
    "    df_test_date[col] = df_test_date[col].astype('category')\n",
    "    \n",
    "df_test_reg = xgb.DMatrix(df_test_date, enable_categorical=True)\n",
    "y_pred = model.predict(df_test_reg)\n",
    "predictions = [round(value) for value in y_pred]\n",
    "to_save = df_test[['userid_DI']].copy()\n",
    "to_save.loc[:, 'certified'] = predictions\n",
    "to_save.to_csv('submission.csv', index=False)"
   ]
  },
  {
   "cell_type": "code",
   "execution_count": null,
   "metadata": {
    "colab": {
     "base_uri": "https://localhost:8080/"
    },
    "id": "N-z9zElsVSLy",
    "outputId": "feb482c0-4bda-4cfb-cc69-aa2ebe5a384b"
   },
   "outputs": [
    {
     "name": "stdout",
     "output_type": "stream",
     "text": [
      "Accuracy: 97.32%\n",
      "Accuracy: 97.55%\n",
      "Accuracy: 97.55%\n",
      "Accuracy: 97.49%\n",
      "Accuracy: 97.37%\n",
      "Accuracy: 97.49%\n",
      "Accuracy: 97.49%\n",
      "Accuracy: 97.37%\n",
      "Accuracy: 97.49%\n",
      "Accuracy: 97.49%\n",
      "Accuracy: 96.69%\n",
      "Accuracy: 96.63%\n",
      "Accuracy: 97.49%\n",
      "Accuracy: 97.26%\n",
      "Accuracy: 97.55%\n"
     ]
    },
    {
     "data": {
      "text/plain": [
       "{'course_id': 97.31735159817352,\n",
       " 'registered': 97.54566210045662,\n",
       " 'viewed': 97.54566210045662,\n",
       " 'explored': 97.48858447488584,\n",
       " 'final_cc_cname_DI': 97.3744292237443,\n",
       " 'LoE_DI': 97.48858447488584,\n",
       " 'YoB': 97.48858447488584,\n",
       " 'gender': 97.3744292237443,\n",
       " 'start_time_DI': 97.48858447488584,\n",
       " 'last_event_DI': 97.48858447488584,\n",
       " 'nevents': 96.68949771689498,\n",
       " 'ndays_act': 96.6324200913242,\n",
       " 'nplay_video': 97.48858447488584,\n",
       " 'nchapters': 97.26027397260275,\n",
       " 'nforum_posts': 97.54566210045662}"
      ]
     },
     "execution_count": 13,
     "metadata": {},
     "output_type": "execute_result"
    }
   ],
   "source": [
    "#xgboost feature tuning\n",
    "# drop 1 feature each and try \n",
    "\n",
    "best_feature = {}\n",
    "\n",
    "y_encoded = OrdinalEncoder().fit_transform(y)\n",
    "for column in train_data.columns:\n",
    "    if column != 'userid_DI' and column != 'certified':\n",
    "        x, y = train_data.drop('certified', axis=1), train_data[['certified']]\n",
    "        x = x.drop(column, axis=1)\n",
    "        #y = y.drop(column, axis=1)\n",
    "        #xgboost can automatically deal with categorical data\n",
    "        #by casting categorical columns into pandas category type\n",
    "\n",
    "        # Extract text features\n",
    "        cats = x.select_dtypes(exclude=np.number).columns.tolist()\n",
    "\n",
    "        # Convert to Pandas category\n",
    "        for col in cats:\n",
    "            x[col] = x[col].astype('category')\n",
    "\n",
    "        #split \n",
    "        x_train, x_valid, y_train, y_valid = train_test_split(x, y, test_size=.2, random_state=3)\n",
    "\n",
    "        #convert datasets into xgboost dmatrices\n",
    "        dtrain_reg = xgb.DMatrix(x_train, y_train, enable_categorical=True)\n",
    "        dvalid_reg = xgb.DMatrix(x_valid, y_valid, enable_categorical=True)\n",
    "\n",
    "        params = {\"objective\": \"binary:logistic\", \"tree_method\": \"gpu_hist\"}\n",
    "        n = 100\n",
    "        model = xgb.train(\n",
    "           params=params,\n",
    "           dtrain=dtrain_reg,\n",
    "           num_boost_round=n,\n",
    "        )\n",
    "\n",
    "        y_pred = model.predict(dvalid_reg)\n",
    "        predictions = [round(value) for value in y_pred]\n",
    "        accuracy = accuracy_score(y_valid, predictions)\n",
    "        print(\"Accuracy: %.2f%%\" % (accuracy * 100.0))\n",
    "        best_feature.update({column: accuracy*100})\n",
    "best_feature\n",
    "\n",
    "#         n = 1000\n",
    "\n",
    "#         results = xgb.cv(\n",
    "#            params, dtrain_reg,\n",
    "#            num_boost_round=n,\n",
    "#            nfold=5,\n",
    "#            metrics=[\"error\", 'auc'],\n",
    "#         )\n",
    "\n",
    "#         print(results.keys())\n",
    "#         #print(100*results['test-error-mean'].min())\n",
    "#         results['test-auc-mean'].max()"
   ]
  },
  {
   "cell_type": "code",
   "execution_count": null,
   "metadata": {
    "colab": {
     "base_uri": "https://localhost:8080/",
     "height": 467
    },
    "id": "U19e1nxtVTZ_",
    "outputId": "f4ea280a-4e3f-47b2-b55d-32285d5d98db"
   },
   "outputs": [
    {
     "data": {
      "text/plain": [
       "[Text(0, 0.5, 'Dropped Feature'), Text(0.5, 0, 'Accuracy Score')]"
      ]
     },
     "execution_count": 14,
     "metadata": {},
     "output_type": "execute_result"
    },
    {
     "data": {
      "image/png": "[encoded data removed]",
      "text/plain": [
       "<Figure size 640x480 with 1 Axes>"
      ]
     },
     "metadata": {},
     "output_type": "display_data"
    }
   ],
   "source": [
    "#barchart of feature accuracy\n",
    "\n",
    "ax = sns.barplot(y=list(best_feature.keys()), x=list(best_feature.values()))\n",
    "ax.set(ylabel = 'Dropped Feature', xlabel = 'Accuracy Score')"
   ]
  },
  {
   "cell_type": "code",
   "execution_count": null,
   "metadata": {
    "colab": {
     "base_uri": "https://localhost:8080/",
     "height": 640
    },
    "id": "LMzdyqjZVWQg",
    "outputId": "df5106ba-feb3-4287-9fc5-7de826b170c9"
   },
   "outputs": [
    {
     "name": "stdout",
     "output_type": "stream",
     "text": [
      "0\n",
      "Accuracy: 96.63%\n",
      "Train Accuracy: 96.77%\n",
      "1\n",
      "Accuracy: 97.03%\n",
      "Train Accuracy: 97.15%\n",
      "2\n",
      "Accuracy: 97.15%\n",
      "Train Accuracy: 97.22%\n",
      "3\n",
      "4\n",
      "5\n",
      "6\n",
      "7\n"
     ]
    },
    {
     "ename": "KeyboardInterrupt",
     "evalue": "ignored",
     "output_type": "error",
     "traceback": [
      "\u001b[0;31m---------------------------------------------------------------------------\u001b[0m",
      "\u001b[0;31mKeyboardInterrupt\u001b[0m                         Traceback (most recent call last)",
      "\u001b[0;32m<ipython-input-15-7e87b64eec4f>\u001b[0m in \u001b[0;36m<cell line: 33>\u001b[0;34m()\u001b[0m\n\u001b[1;32m     38\u001b[0m              \"subsample\": random.uniform(0,1), \"lambda\": random.uniform(0,16), \"alpha\": random.uniform(0,16)}\n\u001b[1;32m     39\u001b[0m     \u001b[0mn\u001b[0m \u001b[0;34m=\u001b[0m \u001b[0mrandom\u001b[0m\u001b[0;34m.\u001b[0m\u001b[0mrandint\u001b[0m\u001b[0;34m(\u001b[0m\u001b[0;36m25\u001b[0m\u001b[0;34m,\u001b[0m\u001b[0;36m2000\u001b[0m\u001b[0;34m)\u001b[0m\u001b[0;34m\u001b[0m\u001b[0;34m\u001b[0m\u001b[0m\n\u001b[0;32m---> 40\u001b[0;31m     model = xgb.train(\n\u001b[0m\u001b[1;32m     41\u001b[0m        \u001b[0mparams\u001b[0m\u001b[0;34m=\u001b[0m\u001b[0mparams\u001b[0m\u001b[0;34m,\u001b[0m\u001b[0;34m\u001b[0m\u001b[0;34m\u001b[0m\u001b[0m\n\u001b[1;32m     42\u001b[0m        \u001b[0mdtrain\u001b[0m\u001b[0;34m=\u001b[0m\u001b[0mdtrain_reg\u001b[0m\u001b[0;34m,\u001b[0m\u001b[0;34m\u001b[0m\u001b[0;34m\u001b[0m\u001b[0m\n",
      "\u001b[0;32m/usr/local/lib/python3.10/dist-packages/xgboost/core.py\u001b[0m in \u001b[0;36minner_f\u001b[0;34m(*args, **kwargs)\u001b[0m\n\u001b[1;32m    618\u001b[0m             \u001b[0;32mfor\u001b[0m \u001b[0mk\u001b[0m\u001b[0;34m,\u001b[0m \u001b[0marg\u001b[0m \u001b[0;32min\u001b[0m \u001b[0mzip\u001b[0m\u001b[0;34m(\u001b[0m\u001b[0msig\u001b[0m\u001b[0;34m.\u001b[0m\u001b[0mparameters\u001b[0m\u001b[0;34m,\u001b[0m \u001b[0margs\u001b[0m\u001b[0;34m)\u001b[0m\u001b[0;34m:\u001b[0m\u001b[0;34m\u001b[0m\u001b[0;34m\u001b[0m\u001b[0m\n\u001b[1;32m    619\u001b[0m                 \u001b[0mkwargs\u001b[0m\u001b[0;34m[\u001b[0m\u001b[0mk\u001b[0m\u001b[0;34m]\u001b[0m \u001b[0;34m=\u001b[0m \u001b[0marg\u001b[0m\u001b[0;34m\u001b[0m\u001b[0;34m\u001b[0m\u001b[0m\n\u001b[0;32m--> 620\u001b[0;31m             \u001b[0;32mreturn\u001b[0m \u001b[0mfunc\u001b[0m\u001b[0;34m(\u001b[0m\u001b[0;34m**\u001b[0m\u001b[0mkwargs\u001b[0m\u001b[0;34m)\u001b[0m\u001b[0;34m\u001b[0m\u001b[0;34m\u001b[0m\u001b[0m\n\u001b[0m\u001b[1;32m    621\u001b[0m \u001b[0;34m\u001b[0m\u001b[0m\n\u001b[1;32m    622\u001b[0m         \u001b[0;32mreturn\u001b[0m \u001b[0minner_f\u001b[0m\u001b[0;34m\u001b[0m\u001b[0;34m\u001b[0m\u001b[0m\n",
      "\u001b[0;32m/usr/local/lib/python3.10/dist-packages/xgboost/training.py\u001b[0m in \u001b[0;36mtrain\u001b[0;34m(params, dtrain, num_boost_round, evals, obj, feval, maximize, early_stopping_rounds, evals_result, verbose_eval, xgb_model, callbacks, custom_metric)\u001b[0m\n\u001b[1;32m    183\u001b[0m         \u001b[0;32mif\u001b[0m \u001b[0mcb_container\u001b[0m\u001b[0;34m.\u001b[0m\u001b[0mbefore_iteration\u001b[0m\u001b[0;34m(\u001b[0m\u001b[0mbst\u001b[0m\u001b[0;34m,\u001b[0m \u001b[0mi\u001b[0m\u001b[0;34m,\u001b[0m \u001b[0mdtrain\u001b[0m\u001b[0;34m,\u001b[0m \u001b[0mevals\u001b[0m\u001b[0;34m)\u001b[0m\u001b[0;34m:\u001b[0m\u001b[0;34m\u001b[0m\u001b[0;34m\u001b[0m\u001b[0m\n\u001b[1;32m    184\u001b[0m             \u001b[0;32mbreak\u001b[0m\u001b[0;34m\u001b[0m\u001b[0;34m\u001b[0m\u001b[0m\n\u001b[0;32m--> 185\u001b[0;31m         \u001b[0mbst\u001b[0m\u001b[0;34m.\u001b[0m\u001b[0mupdate\u001b[0m\u001b[0;34m(\u001b[0m\u001b[0mdtrain\u001b[0m\u001b[0;34m,\u001b[0m \u001b[0mi\u001b[0m\u001b[0;34m,\u001b[0m \u001b[0mobj\u001b[0m\u001b[0;34m)\u001b[0m\u001b[0;34m\u001b[0m\u001b[0;34m\u001b[0m\u001b[0m\n\u001b[0m\u001b[1;32m    186\u001b[0m         \u001b[0;32mif\u001b[0m \u001b[0mcb_container\u001b[0m\u001b[0;34m.\u001b[0m\u001b[0mafter_iteration\u001b[0m\u001b[0;34m(\u001b[0m\u001b[0mbst\u001b[0m\u001b[0;34m,\u001b[0m \u001b[0mi\u001b[0m\u001b[0;34m,\u001b[0m \u001b[0mdtrain\u001b[0m\u001b[0;34m,\u001b[0m \u001b[0mevals\u001b[0m\u001b[0;34m)\u001b[0m\u001b[0;34m:\u001b[0m\u001b[0;34m\u001b[0m\u001b[0;34m\u001b[0m\u001b[0m\n\u001b[1;32m    187\u001b[0m             \u001b[0;32mbreak\u001b[0m\u001b[0;34m\u001b[0m\u001b[0;34m\u001b[0m\u001b[0m\n",
      "\u001b[0;32m/usr/local/lib/python3.10/dist-packages/xgboost/core.py\u001b[0m in \u001b[0;36mupdate\u001b[0;34m(self, dtrain, iteration, fobj)\u001b[0m\n\u001b[1;32m   1916\u001b[0m \u001b[0;34m\u001b[0m\u001b[0m\n\u001b[1;32m   1917\u001b[0m         \u001b[0;32mif\u001b[0m \u001b[0mfobj\u001b[0m \u001b[0;32mis\u001b[0m \u001b[0;32mNone\u001b[0m\u001b[0;34m:\u001b[0m\u001b[0;34m\u001b[0m\u001b[0;34m\u001b[0m\u001b[0m\n\u001b[0;32m-> 1918\u001b[0;31m             _check_call(_LIB.XGBoosterUpdateOneIter(self.handle,\n\u001b[0m\u001b[1;32m   1919\u001b[0m                                                     \u001b[0mctypes\u001b[0m\u001b[0;34m.\u001b[0m\u001b[0mc_int\u001b[0m\u001b[0;34m(\u001b[0m\u001b[0miteration\u001b[0m\u001b[0;34m)\u001b[0m\u001b[0;34m,\u001b[0m\u001b[0;34m\u001b[0m\u001b[0;34m\u001b[0m\u001b[0m\n\u001b[1;32m   1920\u001b[0m                                                     dtrain.handle))\n",
      "\u001b[0;31mKeyboardInterrupt\u001b[0m: "
     ]
    }
   ],
   "source": [
    "#hyperparameter tuning\n",
    "# randomsearchcv and gridsearchcv don't work with \n",
    "# xgb objects not using the sklearn wrapper\n",
    "# so we implement our own random hyperparameter search\n",
    "# Extract feature and target arrays\n",
    "x, y = train_data.drop('certified', axis=1), train_data[['certified']]\n",
    "\n",
    "\n",
    "y_encoded = OrdinalEncoder().fit_transform(y)\n",
    "\n",
    "#xgboost can automatically deal with categorical data\n",
    "#by casting categorical columns into pandas category type\n",
    "\n",
    "# Extract text features\n",
    "cats = x.select_dtypes(exclude=np.number).columns.tolist()\n",
    "\n",
    "# Convert to Pandas category\n",
    "for col in cats:\n",
    "    x[col] = x[col].astype('category')\n",
    "    \n",
    "#split \n",
    "x_train, x_valid, y_train, y_valid = train_test_split(x, y, test_size=.2, random_state=3)\n",
    "pos_weight = len(y_train[y_train['certified']==0])/len(y_train[y_train['certified']==1])\n",
    "\n",
    "#convert datasets into xgboost dmatrices\n",
    "dtrain_reg = xgb.DMatrix(x_train, y_train, enable_categorical=True)\n",
    "dvalid_reg = xgb.DMatrix(x_valid, y_valid, enable_categorical=True)\n",
    "best_accuracy = 0\n",
    "best_accuracy_train = 0\n",
    "best_parameters = {}\n",
    "acc_list = []\n",
    "random_search = []\n",
    "for i in range(100):\n",
    "    print(i)\n",
    "    params = {\"objective\": \"binary:logistic\", \"tree_method\": \"gpu_hist\", \n",
    "              'scale_pos_weight': pos_weight + random.uniform(-1,1), \n",
    "              \"max_depth\": random.randint(0,20), \"eta\": random.uniform(0,1), \"gamma\": random.uniform(0,100),\n",
    "             \"subsample\": random.uniform(0,1), \"lambda\": random.uniform(0,16), \"alpha\": random.uniform(0,16)}\n",
    "    n = random.randint(25,2000)\n",
    "    model = xgb.train(\n",
    "       params=params,\n",
    "       dtrain=dtrain_reg,\n",
    "       num_boost_round=n,\n",
    "    )\n",
    "\n",
    "    y_pred = model.predict(dvalid_reg)\n",
    "    predictions = [round(value) for value in y_pred]\n",
    "    accuracy = accuracy_score(y_valid, predictions)\n",
    "    y_pred_train = model.predict(dtrain_reg)\n",
    "    predictions_train = [round(value) for value in y_pred_train]\n",
    "    train_accuracy = accuracy_score(y_train, predictions_train)\n",
    "    random_search.append(accuracy*100.0)\n",
    "    if (accuracy * 100.0 > best_accuracy):\n",
    "        print(\"Accuracy: %.2f%%\" % (accuracy * 100.0))\n",
    "        print(\"Train Accuracy: %.2f%%\" % (train_accuracy * 100.0))\n",
    "        best_accuracy = accuracy * 100\n",
    "        best_parameters = {accuracy*100.0: params}\n",
    "        acc_list.append((best_accuracy, train_accuracy*100.0, params))\n",
    "\n",
    "    # n = 1000\n",
    "\n",
    "    # results = xgb.cv(\n",
    "    #    params, dtrain_reg,\n",
    "    #    num_boost_round=n,\n",
    "    #    nfold=5,\n",
    "    #    metrics=[\"error\", 'auc'],\n",
    "    # )\n",
    "\n",
    "    #print(results.keys())\n",
    "    #print(100*results['test-error-mean'].min())\n",
    "    #results['test-auc-mean'].max()\n",
    "\n",
    "#     y_pred_train = model.predict(dtrain_reg)\n",
    "#     predictions_train = [round(value) for value in y_pred_train]\n",
    "#     train_accuracy = accuracy_score(y_train, predictions_train)\n",
    "#     if (train_accuracy * 100.0 >= best_accuracy_train):\n",
    "#         best_accuracy_train = train_accuracy * 100\n",
    "#         print(\"Train Accuracy: %.2f%%\" % (train_accuracy * 100.0))\n",
    "#random_search_df = pd.DataFrame(random_search)"
   ]
  },
  {
   "cell_type": "markdown",
   "metadata": {
    "id": "4seB9TRiVc9R"
   },
   "source": [
    "\n",
    "## Model 3: Catboost"
   ]
  },
  {
   "cell_type": "code",
   "execution_count": null,
   "metadata": {
    "id": "J5CQ0DmwVn8r"
   },
   "outputs": [],
   "source": [
    "from catboost import CatBoostClassifier, Pool\n",
    "\n",
    "\n",
    "x = train_data.drop('certified', axis=1)\n",
    "#x = train_data.drop('userid_DI', axis=1)\n",
    "y = train_data[['certified']]\n",
    "# x['date_diff'] = (pd.to_datetime(x['last_event_DI'], infer_datetime_format=True) - pd.to_datetime(x['start_time_DI'], infer_datetime_format=True))\n",
    "# x['date_diff'] = x['date_diff'].dt.days\n",
    "# x['date_diff'] = x['date_diff'].fillna(0)\n",
    "x['LoE_DI'] = x['LoE_DI'].fillna('None')\n",
    "x['gender'] = x['gender'].fillna('None')\n",
    "x['start_time_DI'] = x['start_time_DI'].fillna('None')\n",
    "x['last_event_DI'] = x['last_event_DI'].fillna('None')\n",
    "# categorical_features_indices = np.where(x.dtypes != np.float)[0]\n",
    "    \n",
    "#split \n",
    "\n",
    "x_train, x_valid, y_train, y_valid = train_test_split(x, y, test_size=.2, random_state=3)\n",
    "pool_train = Pool(x_train, y_train,\n",
    "                  cat_features = ['course_id','userid_DI','registered','viewed','explored','final_cc_cname_DI','LoE_DI','gender','start_time_DI','last_event_DI'])\n",
    "\n",
    "pool_test = Pool(x_valid, cat_features = ['course_id','userid_DI','registered','viewed','explored','final_cc_cname_DI','LoE_DI','gender','start_time_DI','last_event_DI'])"
   ]
  },
  {
   "cell_type": "code",
   "execution_count": null,
   "metadata": {
    "colab": {
     "base_uri": "https://localhost:8080/",
     "height": 1000,
     "referenced_widgets": [
      "11c3d1dcc894419cbcf12e28998dd7a1"
     ]
    },
    "id": "5a7pP5UUVq6W",
    "outputId": "81d083af-6c34-414a-b257-8910915c914c"
   },
   "outputs": [
    {
     "data": {
      "application/vnd.jupyter.widget-view+json": {
       "model_id": "11c3d1dcc894419cbcf12e28998dd7a1",
       "version_major": 2,
       "version_minor": 0
      },
      "text/plain": [
       "MetricVisualizer(layout=Layout(align_self='stretch', height='500px'))"
      ]
     },
     "metadata": {},
     "output_type": "display_data"
    },
    {
     "name": "stdout",
     "output_type": "stream",
     "text": [
      "Learning rate set to 0.030288\n",
      "0:\tlearn: 0.6293699\ttotal: 53.8ms\tremaining: 53.8s\n",
      "1:\tlearn: 0.5716005\ttotal: 97.8ms\tremaining: 48.8s\n",
      "2:\tlearn: 0.5268586\ttotal: 138ms\tremaining: 45.8s\n",
      "3:\tlearn: 0.4797080\ttotal: 181ms\tremaining: 45.1s\n",
      "4:\tlearn: 0.4394795\ttotal: 220ms\tremaining: 43.8s\n",
      "5:\tlearn: 0.4032063\ttotal: 257ms\tremaining: 42.5s\n",
      "6:\tlearn: 0.3782920\ttotal: 289ms\tremaining: 41s\n",
      "7:\tlearn: 0.3545716\ttotal: 328ms\tremaining: 40.7s\n",
      "8:\tlearn: 0.3286119\ttotal: 371ms\tremaining: 40.8s\n",
      "9:\tlearn: 0.3099777\ttotal: 415ms\tremaining: 41.1s\n",
      "10:\tlearn: 0.2886200\ttotal: 453ms\tremaining: 40.7s\n",
      "11:\tlearn: 0.2696556\ttotal: 491ms\tremaining: 40.4s\n",
      "12:\tlearn: 0.2524495\ttotal: 531ms\tremaining: 40.3s\n",
      "13:\tlearn: 0.2387288\ttotal: 573ms\tremaining: 40.4s\n",
      "14:\tlearn: 0.2257717\ttotal: 629ms\tremaining: 41.3s\n",
      "15:\tlearn: 0.2161925\ttotal: 669ms\tremaining: 41.2s\n",
      "16:\tlearn: 0.2068672\ttotal: 719ms\tremaining: 41.6s\n",
      "17:\tlearn: 0.1976948\ttotal: 754ms\tremaining: 41.1s\n",
      "18:\tlearn: 0.1895459\ttotal: 793ms\tremaining: 41s\n",
      "19:\tlearn: 0.1815714\ttotal: 834ms\tremaining: 40.9s\n",
      "20:\tlearn: 0.1747686\ttotal: 875ms\tremaining: 40.8s\n",
      "21:\tlearn: 0.1694681\ttotal: 925ms\tremaining: 41.1s\n",
      "22:\tlearn: 0.1642752\ttotal: 964ms\tremaining: 40.9s\n",
      "23:\tlearn: 0.1591175\ttotal: 1s\tremaining: 40.8s\n",
      "24:\tlearn: 0.1534721\ttotal: 1.05s\tremaining: 41s\n",
      "25:\tlearn: 0.1480895\ttotal: 1.1s\tremaining: 41.1s\n",
      "26:\tlearn: 0.1439153\ttotal: 1.13s\tremaining: 40.9s\n",
      "27:\tlearn: 0.1417677\ttotal: 1.17s\tremaining: 40.7s\n",
      "28:\tlearn: 0.1377250\ttotal: 1.21s\tremaining: 40.6s\n",
      "29:\tlearn: 0.1346284\ttotal: 1.26s\tremaining: 40.7s\n",
      "30:\tlearn: 0.1316966\ttotal: 1.3s\tremaining: 40.6s\n",
      "31:\tlearn: 0.1281481\ttotal: 1.34s\tremaining: 40.4s\n",
      "32:\tlearn: 0.1249438\ttotal: 1.38s\tremaining: 40.3s\n",
      "33:\tlearn: 0.1224929\ttotal: 1.43s\tremaining: 40.7s\n",
      "34:\tlearn: 0.1204602\ttotal: 1.48s\tremaining: 40.8s\n",
      "35:\tlearn: 0.1182007\ttotal: 1.52s\tremaining: 40.8s\n",
      "36:\tlearn: 0.1160150\ttotal: 1.56s\tremaining: 40.6s\n",
      "37:\tlearn: 0.1143773\ttotal: 1.6s\tremaining: 40.4s\n",
      "38:\tlearn: 0.1125044\ttotal: 1.64s\tremaining: 40.4s\n",
      "39:\tlearn: 0.1104296\ttotal: 1.68s\tremaining: 40.3s\n",
      "40:\tlearn: 0.1088453\ttotal: 1.72s\tremaining: 40.2s\n",
      "41:\tlearn: 0.1074448\ttotal: 1.76s\tremaining: 40.1s\n",
      "42:\tlearn: 0.1060072\ttotal: 1.8s\tremaining: 40s\n",
      "43:\tlearn: 0.1051744\ttotal: 1.84s\tremaining: 39.9s\n",
      "44:\tlearn: 0.1044839\ttotal: 1.89s\tremaining: 40s\n",
      "45:\tlearn: 0.1028914\ttotal: 1.93s\tremaining: 40s\n",
      "46:\tlearn: 0.1018245\ttotal: 1.97s\tremaining: 39.9s\n",
      "47:\tlearn: 0.1003229\ttotal: 2.01s\tremaining: 39.8s\n",
      "48:\tlearn: 0.0990726\ttotal: 2.05s\tremaining: 39.7s\n",
      "49:\tlearn: 0.0982351\ttotal: 2.1s\tremaining: 40s\n",
      "50:\tlearn: 0.0974152\ttotal: 2.15s\tremaining: 40s\n",
      "51:\tlearn: 0.0965736\ttotal: 2.18s\tremaining: 39.8s\n",
      "52:\tlearn: 0.0958895\ttotal: 2.22s\tremaining: 39.7s\n",
      "53:\tlearn: 0.0952876\ttotal: 2.26s\tremaining: 39.6s\n",
      "54:\tlearn: 0.0948035\ttotal: 2.3s\tremaining: 39.5s\n",
      "55:\tlearn: 0.0942455\ttotal: 2.34s\tremaining: 39.4s\n",
      "56:\tlearn: 0.0935859\ttotal: 2.38s\tremaining: 39.3s\n",
      "57:\tlearn: 0.0927941\ttotal: 2.42s\tremaining: 39.3s\n",
      "58:\tlearn: 0.0922172\ttotal: 2.45s\tremaining: 39.1s\n",
      "59:\tlearn: 0.0915873\ttotal: 2.49s\tremaining: 39.1s\n",
      "60:\tlearn: 0.0910890\ttotal: 2.55s\tremaining: 39.3s\n",
      "61:\tlearn: 0.0902948\ttotal: 2.6s\tremaining: 39.4s\n",
      "62:\tlearn: 0.0897159\ttotal: 2.64s\tremaining: 39.3s\n",
      "63:\tlearn: 0.0893582\ttotal: 2.68s\tremaining: 39.2s\n",
      "64:\tlearn: 0.0887035\ttotal: 2.72s\tremaining: 39.1s\n",
      "65:\tlearn: 0.0883472\ttotal: 2.76s\tremaining: 39s\n",
      "66:\tlearn: 0.0878404\ttotal: 2.79s\tremaining: 38.9s\n",
      "67:\tlearn: 0.0872889\ttotal: 2.85s\tremaining: 39s\n",
      "68:\tlearn: 0.0865543\ttotal: 2.89s\tremaining: 39s\n",
      "69:\tlearn: 0.0862430\ttotal: 2.93s\tremaining: 38.9s\n",
      "70:\tlearn: 0.0858001\ttotal: 2.97s\tremaining: 38.8s\n",
      "71:\tlearn: 0.0853083\ttotal: 3.02s\tremaining: 38.9s\n",
      "72:\tlearn: 0.0850915\ttotal: 3.05s\tremaining: 38.8s\n",
      "73:\tlearn: 0.0849044\ttotal: 3.1s\tremaining: 38.8s\n",
      "74:\tlearn: 0.0845115\ttotal: 3.14s\tremaining: 38.7s\n",
      "75:\tlearn: 0.0842654\ttotal: 3.18s\tremaining: 38.7s\n",
      "76:\tlearn: 0.0838684\ttotal: 3.22s\tremaining: 38.6s\n",
      "77:\tlearn: 0.0834526\ttotal: 3.26s\tremaining: 38.6s\n",
      "78:\tlearn: 0.0831655\ttotal: 3.3s\tremaining: 38.5s\n",
      "79:\tlearn: 0.0828920\ttotal: 3.35s\tremaining: 38.5s\n",
      "80:\tlearn: 0.0825386\ttotal: 3.39s\tremaining: 38.5s\n",
      "81:\tlearn: 0.0822934\ttotal: 3.43s\tremaining: 38.4s\n",
      "82:\tlearn: 0.0819876\ttotal: 3.47s\tremaining: 38.4s\n",
      "83:\tlearn: 0.0817023\ttotal: 3.51s\tremaining: 38.3s\n",
      "84:\tlearn: 0.0812809\ttotal: 3.56s\tremaining: 38.3s\n",
      "85:\tlearn: 0.0810601\ttotal: 3.6s\tremaining: 38.3s\n",
      "86:\tlearn: 0.0807001\ttotal: 3.64s\tremaining: 38.2s\n",
      "87:\tlearn: 0.0805256\ttotal: 3.69s\tremaining: 38.2s\n",
      "88:\tlearn: 0.0802305\ttotal: 3.72s\tremaining: 38.1s\n",
      "89:\tlearn: 0.0801805\ttotal: 3.76s\tremaining: 38s\n",
      "90:\tlearn: 0.0798925\ttotal: 3.8s\tremaining: 38s\n",
      "91:\tlearn: 0.0796593\ttotal: 3.84s\tremaining: 37.9s\n",
      "92:\tlearn: 0.0792623\ttotal: 3.88s\tremaining: 37.9s\n",
      "93:\tlearn: 0.0791366\ttotal: 3.93s\tremaining: 37.9s\n",
      "94:\tlearn: 0.0789190\ttotal: 3.96s\tremaining: 37.8s\n",
      "95:\tlearn: 0.0784759\ttotal: 4s\tremaining: 37.7s\n",
      "96:\tlearn: 0.0783474\ttotal: 4.04s\tremaining: 37.6s\n",
      "97:\tlearn: 0.0779057\ttotal: 4.09s\tremaining: 37.7s\n",
      "98:\tlearn: 0.0776711\ttotal: 4.13s\tremaining: 37.6s\n",
      "99:\tlearn: 0.0775034\ttotal: 4.17s\tremaining: 37.6s\n",
      "100:\tlearn: 0.0772795\ttotal: 4.21s\tremaining: 37.5s\n",
      "101:\tlearn: 0.0771221\ttotal: 4.25s\tremaining: 37.4s\n",
      "102:\tlearn: 0.0769864\ttotal: 4.29s\tremaining: 37.4s\n",
      "103:\tlearn: 0.0768613\ttotal: 4.33s\tremaining: 37.3s\n",
      "104:\tlearn: 0.0765810\ttotal: 4.38s\tremaining: 37.3s\n",
      "105:\tlearn: 0.0764350\ttotal: 4.42s\tremaining: 37.3s\n",
      "106:\tlearn: 0.0763322\ttotal: 4.46s\tremaining: 37.2s\n",
      "107:\tlearn: 0.0761721\ttotal: 4.5s\tremaining: 37.1s\n",
      "108:\tlearn: 0.0759801\ttotal: 4.53s\tremaining: 37.1s\n",
      "109:\tlearn: 0.0759011\ttotal: 4.59s\tremaining: 37.1s\n",
      "110:\tlearn: 0.0755811\ttotal: 4.63s\tremaining: 37.1s\n",
      "111:\tlearn: 0.0754982\ttotal: 4.67s\tremaining: 37s\n",
      "112:\tlearn: 0.0754465\ttotal: 4.7s\tremaining: 36.9s\n",
      "113:\tlearn: 0.0753809\ttotal: 4.75s\tremaining: 36.9s\n",
      "114:\tlearn: 0.0753783\ttotal: 4.78s\tremaining: 36.8s\n",
      "115:\tlearn: 0.0752522\ttotal: 4.83s\tremaining: 36.8s\n",
      "116:\tlearn: 0.0749554\ttotal: 4.87s\tremaining: 36.8s\n",
      "117:\tlearn: 0.0748755\ttotal: 4.91s\tremaining: 36.7s\n",
      "118:\tlearn: 0.0747662\ttotal: 4.95s\tremaining: 36.6s\n",
      "119:\tlearn: 0.0746836\ttotal: 4.99s\tremaining: 36.6s\n",
      "120:\tlearn: 0.0745661\ttotal: 5.03s\tremaining: 36.5s\n",
      "121:\tlearn: 0.0744993\ttotal: 5.08s\tremaining: 36.6s\n",
      "122:\tlearn: 0.0743770\ttotal: 5.13s\tremaining: 36.6s\n",
      "123:\tlearn: 0.0743415\ttotal: 5.17s\tremaining: 36.5s\n",
      "124:\tlearn: 0.0742096\ttotal: 5.21s\tremaining: 36.4s\n",
      "125:\tlearn: 0.0740659\ttotal: 5.26s\tremaining: 36.5s\n",
      "126:\tlearn: 0.0738942\ttotal: 5.29s\tremaining: 36.4s\n",
      "127:\tlearn: 0.0737664\ttotal: 5.33s\tremaining: 36.3s\n",
      "128:\tlearn: 0.0736178\ttotal: 5.37s\tremaining: 36.3s\n",
      "129:\tlearn: 0.0735867\ttotal: 5.42s\tremaining: 36.3s\n",
      "130:\tlearn: 0.0735153\ttotal: 5.47s\tremaining: 36.3s\n",
      "131:\tlearn: 0.0733620\ttotal: 5.51s\tremaining: 36.2s\n",
      "132:\tlearn: 0.0732023\ttotal: 5.56s\tremaining: 36.3s\n",
      "133:\tlearn: 0.0730575\ttotal: 5.61s\tremaining: 36.3s\n",
      "134:\tlearn: 0.0729388\ttotal: 5.69s\tremaining: 36.5s\n",
      "135:\tlearn: 0.0727173\ttotal: 5.77s\tremaining: 36.7s\n",
      "136:\tlearn: 0.0725040\ttotal: 5.86s\tremaining: 36.9s\n",
      "137:\tlearn: 0.0723739\ttotal: 6.01s\tremaining: 37.6s\n",
      "138:\tlearn: 0.0722936\ttotal: 6.18s\tremaining: 38.3s\n",
      "139:\tlearn: 0.0721214\ttotal: 6.29s\tremaining: 38.7s\n",
      "140:\tlearn: 0.0719041\ttotal: 6.47s\tremaining: 39.4s\n",
      "141:\tlearn: 0.0717144\ttotal: 6.64s\tremaining: 40.1s\n",
      "142:\tlearn: 0.0715588\ttotal: 6.79s\tremaining: 40.7s\n",
      "143:\tlearn: 0.0715226\ttotal: 6.95s\tremaining: 41.3s\n",
      "144:\tlearn: 0.0714113\ttotal: 7.12s\tremaining: 42s\n",
      "145:\tlearn: 0.0711832\ttotal: 7.28s\tremaining: 42.6s\n",
      "146:\tlearn: 0.0710295\ttotal: 7.44s\tremaining: 43.2s\n",
      "147:\tlearn: 0.0708024\ttotal: 7.62s\tremaining: 43.9s\n",
      "148:\tlearn: 0.0707105\ttotal: 7.78s\tremaining: 44.5s\n",
      "149:\tlearn: 0.0706133\ttotal: 7.94s\tremaining: 45s\n",
      "150:\tlearn: 0.0705677\ttotal: 8.03s\tremaining: 45.1s\n",
      "151:\tlearn: 0.0705188\ttotal: 8.08s\tremaining: 45.1s\n",
      "152:\tlearn: 0.0703502\ttotal: 8.14s\tremaining: 45.1s\n",
      "153:\tlearn: 0.0702032\ttotal: 8.19s\tremaining: 45s\n",
      "154:\tlearn: 0.0701744\ttotal: 8.22s\tremaining: 44.8s\n",
      "155:\tlearn: 0.0700841\ttotal: 8.26s\tremaining: 44.7s\n",
      "156:\tlearn: 0.0700009\ttotal: 8.3s\tremaining: 44.6s\n",
      "157:\tlearn: 0.0698872\ttotal: 8.36s\tremaining: 44.5s\n",
      "158:\tlearn: 0.0697938\ttotal: 8.39s\tremaining: 44.4s\n",
      "159:\tlearn: 0.0696096\ttotal: 8.45s\tremaining: 44.3s\n",
      "160:\tlearn: 0.0695301\ttotal: 8.48s\tremaining: 44.2s\n",
      "161:\tlearn: 0.0695213\ttotal: 8.52s\tremaining: 44.1s\n",
      "162:\tlearn: 0.0694385\ttotal: 8.57s\tremaining: 44s\n",
      "163:\tlearn: 0.0694194\ttotal: 8.61s\tremaining: 43.9s\n",
      "164:\tlearn: 0.0693296\ttotal: 8.65s\tremaining: 43.8s\n",
      "165:\tlearn: 0.0693052\ttotal: 8.69s\tremaining: 43.7s\n",
      "166:\tlearn: 0.0692132\ttotal: 8.73s\tremaining: 43.6s\n",
      "167:\tlearn: 0.0691539\ttotal: 8.77s\tremaining: 43.4s\n",
      "168:\tlearn: 0.0690881\ttotal: 8.82s\tremaining: 43.4s\n",
      "169:\tlearn: 0.0690737\ttotal: 8.86s\tremaining: 43.2s\n",
      "170:\tlearn: 0.0690201\ttotal: 8.91s\tremaining: 43.2s\n",
      "171:\tlearn: 0.0689681\ttotal: 8.95s\tremaining: 43.1s\n",
      "172:\tlearn: 0.0688465\ttotal: 8.99s\tremaining: 43s\n",
      "173:\tlearn: 0.0687525\ttotal: 9.03s\tremaining: 42.9s\n",
      "174:\tlearn: 0.0686845\ttotal: 9.07s\tremaining: 42.8s\n",
      "175:\tlearn: 0.0686345\ttotal: 9.12s\tremaining: 42.7s\n",
      "176:\tlearn: 0.0685250\ttotal: 9.16s\tremaining: 42.6s\n",
      "177:\tlearn: 0.0684738\ttotal: 9.22s\tremaining: 42.6s\n",
      "178:\tlearn: 0.0683131\ttotal: 9.26s\tremaining: 42.5s\n",
      "179:\tlearn: 0.0682779\ttotal: 9.29s\tremaining: 42.3s\n",
      "180:\tlearn: 0.0682204\ttotal: 9.34s\tremaining: 42.3s\n",
      "181:\tlearn: 0.0681552\ttotal: 9.38s\tremaining: 42.1s\n",
      "182:\tlearn: 0.0679992\ttotal: 9.41s\tremaining: 42s\n",
      "183:\tlearn: 0.0678871\ttotal: 9.46s\tremaining: 42s\n",
      "184:\tlearn: 0.0677579\ttotal: 9.5s\tremaining: 41.8s\n",
      "185:\tlearn: 0.0676534\ttotal: 9.54s\tremaining: 41.7s\n",
      "186:\tlearn: 0.0675858\ttotal: 9.58s\tremaining: 41.6s\n",
      "187:\tlearn: 0.0674583\ttotal: 9.63s\tremaining: 41.6s\n",
      "188:\tlearn: 0.0674326\ttotal: 9.67s\tremaining: 41.5s\n",
      "189:\tlearn: 0.0673365\ttotal: 9.71s\tremaining: 41.4s\n",
      "190:\tlearn: 0.0673082\ttotal: 9.74s\tremaining: 41.3s\n",
      "191:\tlearn: 0.0671535\ttotal: 9.78s\tremaining: 41.2s\n",
      "192:\tlearn: 0.0670877\ttotal: 9.82s\tremaining: 41.1s\n",
      "193:\tlearn: 0.0670658\ttotal: 9.87s\tremaining: 41s\n",
      "194:\tlearn: 0.0670019\ttotal: 9.92s\tremaining: 40.9s\n",
      "195:\tlearn: 0.0669225\ttotal: 9.96s\tremaining: 40.8s\n",
      "196:\tlearn: 0.0667925\ttotal: 9.99s\tremaining: 40.7s\n",
      "197:\tlearn: 0.0667490\ttotal: 10s\tremaining: 40.7s\n",
      "198:\tlearn: 0.0666713\ttotal: 10.1s\tremaining: 40.6s\n",
      "199:\tlearn: 0.0666291\ttotal: 10.1s\tremaining: 40.5s\n",
      "200:\tlearn: 0.0665352\ttotal: 10.2s\tremaining: 40.4s\n",
      "201:\tlearn: 0.0663874\ttotal: 10.2s\tremaining: 40.3s\n",
      "202:\tlearn: 0.0663259\ttotal: 10.2s\tremaining: 40.2s\n",
      "203:\tlearn: 0.0662285\ttotal: 10.3s\tremaining: 40.1s\n",
      "204:\tlearn: 0.0661601\ttotal: 10.3s\tremaining: 40.1s\n",
      "205:\tlearn: 0.0660615\ttotal: 10.4s\tremaining: 40s\n",
      "206:\tlearn: 0.0659081\ttotal: 10.4s\tremaining: 39.9s\n",
      "207:\tlearn: 0.0657128\ttotal: 10.5s\tremaining: 39.8s\n",
      "208:\tlearn: 0.0656794\ttotal: 10.5s\tremaining: 39.7s\n",
      "209:\tlearn: 0.0655656\ttotal: 10.5s\tremaining: 39.6s\n",
      "210:\tlearn: 0.0655505\ttotal: 10.6s\tremaining: 39.6s\n",
      "211:\tlearn: 0.0655079\ttotal: 10.6s\tremaining: 39.5s\n",
      "212:\tlearn: 0.0654398\ttotal: 10.7s\tremaining: 39.4s\n",
      "213:\tlearn: 0.0653501\ttotal: 10.7s\tremaining: 39.3s\n",
      "214:\tlearn: 0.0652673\ttotal: 10.8s\tremaining: 39.3s\n",
      "215:\tlearn: 0.0651821\ttotal: 10.8s\tremaining: 39.2s\n",
      "216:\tlearn: 0.0650603\ttotal: 10.8s\tremaining: 39.1s\n",
      "217:\tlearn: 0.0649846\ttotal: 10.9s\tremaining: 39s\n",
      "218:\tlearn: 0.0649473\ttotal: 10.9s\tremaining: 39s\n",
      "219:\tlearn: 0.0649203\ttotal: 11s\tremaining: 38.9s\n",
      "220:\tlearn: 0.0648892\ttotal: 11s\tremaining: 38.8s\n",
      "221:\tlearn: 0.0647890\ttotal: 11.1s\tremaining: 38.7s\n",
      "222:\tlearn: 0.0647338\ttotal: 11.1s\tremaining: 38.6s\n",
      "223:\tlearn: 0.0646672\ttotal: 11.1s\tremaining: 38.6s\n",
      "224:\tlearn: 0.0644871\ttotal: 11.2s\tremaining: 38.5s\n",
      "225:\tlearn: 0.0644239\ttotal: 11.2s\tremaining: 38.4s\n",
      "226:\tlearn: 0.0643838\ttotal: 11.3s\tremaining: 38.3s\n",
      "227:\tlearn: 0.0642969\ttotal: 11.3s\tremaining: 38.3s\n",
      "228:\tlearn: 0.0642035\ttotal: 11.3s\tremaining: 38.2s\n",
      "229:\tlearn: 0.0641279\ttotal: 11.4s\tremaining: 38.1s\n",
      "230:\tlearn: 0.0639907\ttotal: 11.4s\tremaining: 38s\n",
      "231:\tlearn: 0.0638578\ttotal: 11.5s\tremaining: 38s\n",
      "232:\tlearn: 0.0638206\ttotal: 11.5s\tremaining: 37.9s\n",
      "233:\tlearn: 0.0637808\ttotal: 11.5s\tremaining: 37.8s\n",
      "234:\tlearn: 0.0636641\ttotal: 11.6s\tremaining: 37.7s\n",
      "235:\tlearn: 0.0635890\ttotal: 11.6s\tremaining: 37.7s\n",
      "236:\tlearn: 0.0635734\ttotal: 11.7s\tremaining: 37.6s\n",
      "237:\tlearn: 0.0634818\ttotal: 11.7s\tremaining: 37.5s\n",
      "238:\tlearn: 0.0634092\ttotal: 11.7s\tremaining: 37.4s\n",
      "239:\tlearn: 0.0632100\ttotal: 11.8s\tremaining: 37.3s\n",
      "240:\tlearn: 0.0631168\ttotal: 11.8s\tremaining: 37.3s\n",
      "241:\tlearn: 0.0630949\ttotal: 11.9s\tremaining: 37.2s\n",
      "242:\tlearn: 0.0629081\ttotal: 11.9s\tremaining: 37.2s\n",
      "243:\tlearn: 0.0628633\ttotal: 12s\tremaining: 37.1s\n",
      "244:\tlearn: 0.0628192\ttotal: 12s\tremaining: 37s\n",
      "245:\tlearn: 0.0627969\ttotal: 12.1s\tremaining: 37s\n",
      "246:\tlearn: 0.0626759\ttotal: 12.1s\tremaining: 36.9s\n",
      "247:\tlearn: 0.0626528\ttotal: 12.1s\tremaining: 36.8s\n",
      "248:\tlearn: 0.0625800\ttotal: 12.2s\tremaining: 36.7s\n",
      "249:\tlearn: 0.0625283\ttotal: 12.2s\tremaining: 36.7s\n",
      "250:\tlearn: 0.0624777\ttotal: 12.3s\tremaining: 36.6s\n",
      "251:\tlearn: 0.0624106\ttotal: 12.3s\tremaining: 36.5s\n",
      "252:\tlearn: 0.0623880\ttotal: 12.3s\tremaining: 36.4s\n",
      "253:\tlearn: 0.0623675\ttotal: 12.4s\tremaining: 36.4s\n",
      "254:\tlearn: 0.0623462\ttotal: 12.4s\tremaining: 36.3s\n",
      "255:\tlearn: 0.0622690\ttotal: 12.5s\tremaining: 36.2s\n",
      "256:\tlearn: 0.0622144\ttotal: 12.5s\tremaining: 36.1s\n",
      "257:\tlearn: 0.0620808\ttotal: 12.5s\tremaining: 36.1s\n",
      "258:\tlearn: 0.0620340\ttotal: 12.6s\tremaining: 36s\n",
      "259:\tlearn: 0.0619608\ttotal: 12.6s\tremaining: 35.9s\n",
      "260:\tlearn: 0.0619007\ttotal: 12.7s\tremaining: 35.9s\n",
      "261:\tlearn: 0.0618669\ttotal: 12.7s\tremaining: 35.8s\n",
      "262:\tlearn: 0.0618102\ttotal: 12.7s\tremaining: 35.7s\n",
      "263:\tlearn: 0.0617594\ttotal: 12.8s\tremaining: 35.7s\n",
      "264:\tlearn: 0.0616395\ttotal: 12.8s\tremaining: 35.6s\n",
      "265:\tlearn: 0.0616128\ttotal: 12.9s\tremaining: 35.5s\n",
      "266:\tlearn: 0.0615122\ttotal: 12.9s\tremaining: 35.5s\n",
      "267:\tlearn: 0.0614907\ttotal: 13s\tremaining: 35.4s\n",
      "268:\tlearn: 0.0614203\ttotal: 13s\tremaining: 35.3s\n",
      "269:\tlearn: 0.0613782\ttotal: 13.1s\tremaining: 35.3s\n",
      "270:\tlearn: 0.0612757\ttotal: 13.1s\tremaining: 35.2s\n",
      "271:\tlearn: 0.0612453\ttotal: 13.1s\tremaining: 35.2s\n",
      "272:\tlearn: 0.0611749\ttotal: 13.2s\tremaining: 35.1s\n",
      "273:\tlearn: 0.0611621\ttotal: 13.2s\tremaining: 35.1s\n",
      "274:\tlearn: 0.0610293\ttotal: 13.3s\tremaining: 35s\n",
      "275:\tlearn: 0.0609413\ttotal: 13.3s\tremaining: 34.9s\n",
      "276:\tlearn: 0.0607279\ttotal: 13.4s\tremaining: 34.9s\n",
      "277:\tlearn: 0.0607028\ttotal: 13.4s\tremaining: 34.8s\n",
      "278:\tlearn: 0.0606659\ttotal: 13.4s\tremaining: 34.7s\n",
      "279:\tlearn: 0.0606235\ttotal: 13.5s\tremaining: 34.7s\n",
      "280:\tlearn: 0.0605024\ttotal: 13.5s\tremaining: 34.6s\n",
      "281:\tlearn: 0.0603711\ttotal: 13.6s\tremaining: 34.5s\n",
      "282:\tlearn: 0.0602379\ttotal: 13.6s\tremaining: 34.5s\n",
      "283:\tlearn: 0.0601979\ttotal: 13.6s\tremaining: 34.4s\n",
      "284:\tlearn: 0.0601790\ttotal: 13.7s\tremaining: 34.3s\n",
      "285:\tlearn: 0.0601476\ttotal: 13.7s\tremaining: 34.3s\n",
      "286:\tlearn: 0.0601408\ttotal: 13.8s\tremaining: 34.2s\n",
      "287:\tlearn: 0.0600900\ttotal: 13.8s\tremaining: 34.1s\n",
      "288:\tlearn: 0.0600771\ttotal: 13.8s\tremaining: 34.1s\n",
      "289:\tlearn: 0.0600472\ttotal: 13.9s\tremaining: 34s\n",
      "290:\tlearn: 0.0600082\ttotal: 13.9s\tremaining: 34s\n",
      "291:\tlearn: 0.0599819\ttotal: 14s\tremaining: 33.9s\n",
      "292:\tlearn: 0.0599555\ttotal: 14s\tremaining: 33.8s\n",
      "293:\tlearn: 0.0598149\ttotal: 14.1s\tremaining: 33.8s\n",
      "294:\tlearn: 0.0597901\ttotal: 14.1s\tremaining: 33.7s\n",
      "295:\tlearn: 0.0597344\ttotal: 14.1s\tremaining: 33.6s\n",
      "296:\tlearn: 0.0596717\ttotal: 14.2s\tremaining: 33.6s\n",
      "297:\tlearn: 0.0596027\ttotal: 14.2s\tremaining: 33.5s\n",
      "298:\tlearn: 0.0594557\ttotal: 14.3s\tremaining: 33.5s\n",
      "299:\tlearn: 0.0593876\ttotal: 14.3s\tremaining: 33.4s\n",
      "300:\tlearn: 0.0593200\ttotal: 14.4s\tremaining: 33.4s\n",
      "301:\tlearn: 0.0592999\ttotal: 14.4s\tremaining: 33.3s\n",
      "302:\tlearn: 0.0592473\ttotal: 14.4s\tremaining: 33.2s\n",
      "303:\tlearn: 0.0591529\ttotal: 14.5s\tremaining: 33.2s\n",
      "304:\tlearn: 0.0590018\ttotal: 14.5s\tremaining: 33.1s\n",
      "305:\tlearn: 0.0589209\ttotal: 14.6s\tremaining: 33s\n",
      "306:\tlearn: 0.0588429\ttotal: 14.6s\tremaining: 33s\n",
      "307:\tlearn: 0.0587821\ttotal: 14.7s\tremaining: 33s\n",
      "308:\tlearn: 0.0586531\ttotal: 14.7s\tremaining: 32.9s\n",
      "309:\tlearn: 0.0584682\ttotal: 14.7s\tremaining: 32.8s\n",
      "310:\tlearn: 0.0583957\ttotal: 14.8s\tremaining: 32.8s\n",
      "311:\tlearn: 0.0582525\ttotal: 14.8s\tremaining: 32.7s\n",
      "312:\tlearn: 0.0582187\ttotal: 14.9s\tremaining: 32.6s\n",
      "313:\tlearn: 0.0581801\ttotal: 14.9s\tremaining: 32.6s\n",
      "314:\tlearn: 0.0581691\ttotal: 15s\tremaining: 32.6s\n",
      "315:\tlearn: 0.0581257\ttotal: 15s\tremaining: 32.5s\n",
      "316:\tlearn: 0.0580970\ttotal: 15.1s\tremaining: 32.4s\n",
      "317:\tlearn: 0.0580453\ttotal: 15.1s\tremaining: 32.4s\n",
      "318:\tlearn: 0.0579806\ttotal: 15.1s\tremaining: 32.3s\n",
      "319:\tlearn: 0.0579043\ttotal: 15.2s\tremaining: 32.3s\n",
      "320:\tlearn: 0.0578520\ttotal: 15.2s\tremaining: 32.2s\n",
      "321:\tlearn: 0.0576884\ttotal: 15.3s\tremaining: 32.2s\n",
      "322:\tlearn: 0.0576272\ttotal: 15.3s\tremaining: 32.1s\n",
      "323:\tlearn: 0.0574917\ttotal: 15.4s\tremaining: 32.1s\n",
      "324:\tlearn: 0.0574169\ttotal: 15.4s\tremaining: 32s\n",
      "325:\tlearn: 0.0573812\ttotal: 15.5s\tremaining: 32s\n",
      "326:\tlearn: 0.0572923\ttotal: 15.5s\tremaining: 31.9s\n",
      "327:\tlearn: 0.0572252\ttotal: 15.5s\tremaining: 31.8s\n",
      "328:\tlearn: 0.0572037\ttotal: 15.6s\tremaining: 31.8s\n",
      "329:\tlearn: 0.0571222\ttotal: 15.6s\tremaining: 31.7s\n",
      "330:\tlearn: 0.0570819\ttotal: 15.7s\tremaining: 31.6s\n",
      "331:\tlearn: 0.0570241\ttotal: 15.7s\tremaining: 31.6s\n",
      "332:\tlearn: 0.0569973\ttotal: 15.7s\tremaining: 31.5s\n",
      "333:\tlearn: 0.0569479\ttotal: 15.8s\tremaining: 31.5s\n",
      "334:\tlearn: 0.0569318\ttotal: 15.8s\tremaining: 31.4s\n",
      "335:\tlearn: 0.0568817\ttotal: 15.9s\tremaining: 31.3s\n",
      "336:\tlearn: 0.0568578\ttotal: 15.9s\tremaining: 31.3s\n",
      "337:\tlearn: 0.0567425\ttotal: 16s\tremaining: 31.3s\n",
      "338:\tlearn: 0.0567110\ttotal: 16s\tremaining: 31.2s\n",
      "339:\tlearn: 0.0566934\ttotal: 16s\tremaining: 31.1s\n",
      "340:\tlearn: 0.0566028\ttotal: 16.1s\tremaining: 31.1s\n",
      "341:\tlearn: 0.0565726\ttotal: 16.1s\tremaining: 31s\n",
      "342:\tlearn: 0.0565235\ttotal: 16.2s\tremaining: 30.9s\n",
      "343:\tlearn: 0.0564367\ttotal: 16.2s\tremaining: 30.9s\n",
      "344:\tlearn: 0.0563819\ttotal: 16.2s\tremaining: 30.8s\n",
      "345:\tlearn: 0.0563495\ttotal: 16.3s\tremaining: 30.8s\n",
      "346:\tlearn: 0.0562034\ttotal: 16.3s\tremaining: 30.7s\n",
      "347:\tlearn: 0.0561664\ttotal: 16.4s\tremaining: 30.7s\n",
      "348:\tlearn: 0.0560942\ttotal: 16.4s\tremaining: 30.6s\n",
      "349:\tlearn: 0.0559901\ttotal: 16.4s\tremaining: 30.5s\n",
      "350:\tlearn: 0.0558942\ttotal: 16.5s\tremaining: 30.5s\n",
      "351:\tlearn: 0.0558715\ttotal: 16.5s\tremaining: 30.4s\n",
      "352:\tlearn: 0.0558501\ttotal: 16.6s\tremaining: 30.4s\n",
      "353:\tlearn: 0.0558391\ttotal: 16.6s\tremaining: 30.3s\n",
      "354:\tlearn: 0.0557651\ttotal: 16.7s\tremaining: 30.3s\n",
      "355:\tlearn: 0.0557078\ttotal: 16.7s\tremaining: 30.2s\n",
      "356:\tlearn: 0.0555871\ttotal: 16.7s\tremaining: 30.1s\n",
      "357:\tlearn: 0.0555368\ttotal: 16.8s\tremaining: 30.1s\n",
      "358:\tlearn: 0.0555186\ttotal: 16.8s\tremaining: 30s\n",
      "359:\tlearn: 0.0554175\ttotal: 16.9s\tremaining: 30s\n",
      "360:\tlearn: 0.0553341\ttotal: 16.9s\tremaining: 29.9s\n",
      "361:\tlearn: 0.0553259\ttotal: 17s\tremaining: 29.9s\n",
      "362:\tlearn: 0.0553158\ttotal: 17s\tremaining: 29.8s\n",
      "363:\tlearn: 0.0553001\ttotal: 17s\tremaining: 29.8s\n",
      "364:\tlearn: 0.0552861\ttotal: 17.1s\tremaining: 29.7s\n",
      "365:\tlearn: 0.0552553\ttotal: 17.1s\tremaining: 29.7s\n",
      "366:\tlearn: 0.0551908\ttotal: 17.2s\tremaining: 29.6s\n",
      "367:\tlearn: 0.0551427\ttotal: 17.2s\tremaining: 29.6s\n",
      "368:\tlearn: 0.0551329\ttotal: 17.3s\tremaining: 29.5s\n",
      "369:\tlearn: 0.0550617\ttotal: 17.3s\tremaining: 29.5s\n",
      "370:\tlearn: 0.0550168\ttotal: 17.3s\tremaining: 29.4s\n",
      "371:\tlearn: 0.0549681\ttotal: 17.4s\tremaining: 29.4s\n",
      "372:\tlearn: 0.0549424\ttotal: 17.4s\tremaining: 29.3s\n",
      "373:\tlearn: 0.0549361\ttotal: 17.5s\tremaining: 29.3s\n",
      "374:\tlearn: 0.0548384\ttotal: 17.5s\tremaining: 29.2s\n",
      "375:\tlearn: 0.0547594\ttotal: 17.6s\tremaining: 29.2s\n",
      "376:\tlearn: 0.0546821\ttotal: 17.6s\tremaining: 29.1s\n",
      "377:\tlearn: 0.0546061\ttotal: 17.7s\tremaining: 29s\n",
      "378:\tlearn: 0.0545899\ttotal: 17.7s\tremaining: 29s\n",
      "379:\tlearn: 0.0545374\ttotal: 17.7s\tremaining: 28.9s\n",
      "380:\tlearn: 0.0544771\ttotal: 17.8s\tremaining: 28.9s\n",
      "381:\tlearn: 0.0544218\ttotal: 17.8s\tremaining: 28.8s\n",
      "382:\tlearn: 0.0543422\ttotal: 17.8s\tremaining: 28.8s\n",
      "383:\tlearn: 0.0543263\ttotal: 17.9s\tremaining: 28.7s\n",
      "384:\tlearn: 0.0542742\ttotal: 18s\tremaining: 28.7s\n",
      "385:\tlearn: 0.0542724\ttotal: 18s\tremaining: 28.7s\n",
      "386:\tlearn: 0.0542665\ttotal: 18.1s\tremaining: 28.6s\n",
      "387:\tlearn: 0.0541937\ttotal: 18.1s\tremaining: 28.6s\n",
      "388:\tlearn: 0.0541497\ttotal: 18.2s\tremaining: 28.5s\n",
      "389:\tlearn: 0.0540262\ttotal: 18.2s\tremaining: 28.5s\n",
      "390:\tlearn: 0.0540044\ttotal: 18.4s\tremaining: 28.7s\n",
      "391:\tlearn: 0.0539509\ttotal: 18.5s\tremaining: 28.7s\n",
      "392:\tlearn: 0.0539359\ttotal: 18.5s\tremaining: 28.6s\n",
      "393:\tlearn: 0.0538845\ttotal: 18.6s\tremaining: 28.6s\n",
      "394:\tlearn: 0.0538603\ttotal: 18.6s\tremaining: 28.5s\n",
      "395:\tlearn: 0.0538210\ttotal: 18.7s\tremaining: 28.5s\n",
      "396:\tlearn: 0.0538196\ttotal: 18.8s\tremaining: 28.5s\n",
      "397:\tlearn: 0.0536941\ttotal: 18.9s\tremaining: 28.7s\n",
      "398:\tlearn: 0.0535947\ttotal: 19.1s\tremaining: 28.8s\n",
      "399:\tlearn: 0.0535683\ttotal: 19.3s\tremaining: 29s\n",
      "400:\tlearn: 0.0534969\ttotal: 19.5s\tremaining: 29.1s\n",
      "401:\tlearn: 0.0534445\ttotal: 19.6s\tremaining: 29.2s\n",
      "402:\tlearn: 0.0533109\ttotal: 19.8s\tremaining: 29.4s\n",
      "403:\tlearn: 0.0532862\ttotal: 20s\tremaining: 29.5s\n",
      "404:\tlearn: 0.0532531\ttotal: 20.1s\tremaining: 29.6s\n",
      "405:\tlearn: 0.0531850\ttotal: 20.3s\tremaining: 29.7s\n",
      "406:\tlearn: 0.0531819\ttotal: 20.5s\tremaining: 29.8s\n",
      "407:\tlearn: 0.0531215\ttotal: 20.6s\tremaining: 29.9s\n",
      "408:\tlearn: 0.0531105\ttotal: 20.6s\tremaining: 29.8s\n",
      "409:\tlearn: 0.0529966\ttotal: 20.7s\tremaining: 29.8s\n",
      "410:\tlearn: 0.0529819\ttotal: 20.8s\tremaining: 29.7s\n",
      "411:\tlearn: 0.0529580\ttotal: 20.8s\tremaining: 29.7s\n",
      "412:\tlearn: 0.0529502\ttotal: 20.9s\tremaining: 29.6s\n",
      "413:\tlearn: 0.0529125\ttotal: 20.9s\tremaining: 29.6s\n",
      "414:\tlearn: 0.0528398\ttotal: 20.9s\tremaining: 29.5s\n",
      "415:\tlearn: 0.0528191\ttotal: 21s\tremaining: 29.5s\n",
      "416:\tlearn: 0.0528035\ttotal: 21.1s\tremaining: 29.5s\n",
      "417:\tlearn: 0.0527868\ttotal: 21.1s\tremaining: 29.4s\n",
      "418:\tlearn: 0.0527624\ttotal: 21.1s\tremaining: 29.3s\n",
      "419:\tlearn: 0.0527141\ttotal: 21.2s\tremaining: 29.3s\n",
      "420:\tlearn: 0.0526532\ttotal: 21.2s\tremaining: 29.2s\n",
      "421:\tlearn: 0.0526421\ttotal: 21.3s\tremaining: 29.1s\n",
      "422:\tlearn: 0.0526374\ttotal: 21.3s\tremaining: 29.1s\n",
      "423:\tlearn: 0.0526067\ttotal: 21.4s\tremaining: 29s\n",
      "424:\tlearn: 0.0525961\ttotal: 21.4s\tremaining: 29s\n",
      "425:\tlearn: 0.0525851\ttotal: 21.4s\tremaining: 28.9s\n",
      "426:\tlearn: 0.0525717\ttotal: 21.5s\tremaining: 28.8s\n",
      "427:\tlearn: 0.0524959\ttotal: 21.5s\tremaining: 28.8s\n",
      "428:\tlearn: 0.0524809\ttotal: 21.6s\tremaining: 28.7s\n",
      "429:\tlearn: 0.0524327\ttotal: 21.6s\tremaining: 28.6s\n",
      "430:\tlearn: 0.0523737\ttotal: 21.6s\tremaining: 28.6s\n",
      "431:\tlearn: 0.0522899\ttotal: 21.7s\tremaining: 28.5s\n",
      "432:\tlearn: 0.0522851\ttotal: 21.7s\tremaining: 28.5s\n",
      "433:\tlearn: 0.0521592\ttotal: 21.8s\tremaining: 28.4s\n",
      "434:\tlearn: 0.0521252\ttotal: 21.8s\tremaining: 28.3s\n",
      "435:\tlearn: 0.0520535\ttotal: 21.9s\tremaining: 28.3s\n",
      "436:\tlearn: 0.0520066\ttotal: 21.9s\tremaining: 28.2s\n",
      "437:\tlearn: 0.0519979\ttotal: 21.9s\tremaining: 28.2s\n",
      "438:\tlearn: 0.0519677\ttotal: 22s\tremaining: 28.1s\n",
      "439:\tlearn: 0.0519005\ttotal: 22s\tremaining: 28s\n",
      "440:\tlearn: 0.0518122\ttotal: 22.1s\tremaining: 28s\n",
      "441:\tlearn: 0.0517470\ttotal: 22.1s\tremaining: 27.9s\n",
      "442:\tlearn: 0.0516997\ttotal: 22.2s\tremaining: 27.9s\n",
      "443:\tlearn: 0.0516295\ttotal: 22.2s\tremaining: 27.8s\n",
      "444:\tlearn: 0.0515660\ttotal: 22.2s\tremaining: 27.7s\n",
      "445:\tlearn: 0.0514885\ttotal: 22.3s\tremaining: 27.7s\n",
      "446:\tlearn: 0.0514747\ttotal: 22.3s\tremaining: 27.6s\n",
      "447:\tlearn: 0.0514557\ttotal: 22.4s\tremaining: 27.6s\n",
      "448:\tlearn: 0.0513928\ttotal: 22.4s\tremaining: 27.5s\n",
      "449:\tlearn: 0.0513151\ttotal: 22.5s\tremaining: 27.5s\n",
      "450:\tlearn: 0.0512544\ttotal: 22.5s\tremaining: 27.4s\n",
      "451:\tlearn: 0.0512329\ttotal: 22.5s\tremaining: 27.3s\n",
      "452:\tlearn: 0.0511746\ttotal: 22.6s\tremaining: 27.3s\n",
      "453:\tlearn: 0.0511254\ttotal: 22.6s\tremaining: 27.2s\n",
      "454:\tlearn: 0.0510507\ttotal: 22.7s\tremaining: 27.2s\n",
      "455:\tlearn: 0.0509529\ttotal: 22.7s\tremaining: 27.1s\n",
      "456:\tlearn: 0.0508813\ttotal: 22.8s\tremaining: 27s\n",
      "457:\tlearn: 0.0508451\ttotal: 22.8s\tremaining: 27s\n",
      "458:\tlearn: 0.0508175\ttotal: 22.8s\tremaining: 26.9s\n",
      "459:\tlearn: 0.0507199\ttotal: 22.9s\tremaining: 26.9s\n",
      "460:\tlearn: 0.0506816\ttotal: 22.9s\tremaining: 26.8s\n",
      "461:\tlearn: 0.0505788\ttotal: 23s\tremaining: 26.7s\n",
      "462:\tlearn: 0.0505459\ttotal: 23s\tremaining: 26.7s\n",
      "463:\tlearn: 0.0505109\ttotal: 23s\tremaining: 26.6s\n",
      "464:\tlearn: 0.0504680\ttotal: 23.1s\tremaining: 26.6s\n",
      "465:\tlearn: 0.0504646\ttotal: 23.2s\tremaining: 26.5s\n",
      "466:\tlearn: 0.0504338\ttotal: 23.2s\tremaining: 26.5s\n",
      "467:\tlearn: 0.0504026\ttotal: 23.2s\tremaining: 26.4s\n",
      "468:\tlearn: 0.0503671\ttotal: 23.3s\tremaining: 26.4s\n",
      "469:\tlearn: 0.0501970\ttotal: 23.3s\tremaining: 26.3s\n",
      "470:\tlearn: 0.0501504\ttotal: 23.4s\tremaining: 26.3s\n",
      "471:\tlearn: 0.0501210\ttotal: 23.4s\tremaining: 26.2s\n",
      "472:\tlearn: 0.0501127\ttotal: 23.5s\tremaining: 26.2s\n",
      "473:\tlearn: 0.0500842\ttotal: 23.5s\tremaining: 26.1s\n",
      "474:\tlearn: 0.0500556\ttotal: 23.6s\tremaining: 26.1s\n",
      "475:\tlearn: 0.0499028\ttotal: 23.6s\tremaining: 26s\n",
      "476:\tlearn: 0.0498884\ttotal: 23.7s\tremaining: 25.9s\n",
      "477:\tlearn: 0.0498449\ttotal: 23.7s\tremaining: 25.9s\n",
      "478:\tlearn: 0.0498278\ttotal: 23.7s\tremaining: 25.8s\n",
      "479:\tlearn: 0.0497714\ttotal: 23.8s\tremaining: 25.8s\n",
      "480:\tlearn: 0.0497517\ttotal: 23.8s\tremaining: 25.7s\n",
      "481:\tlearn: 0.0497354\ttotal: 23.9s\tremaining: 25.6s\n",
      "482:\tlearn: 0.0497217\ttotal: 23.9s\tremaining: 25.6s\n",
      "483:\tlearn: 0.0496559\ttotal: 23.9s\tremaining: 25.5s\n",
      "484:\tlearn: 0.0496419\ttotal: 24s\tremaining: 25.5s\n",
      "485:\tlearn: 0.0495484\ttotal: 24s\tremaining: 25.4s\n",
      "486:\tlearn: 0.0493958\ttotal: 24.1s\tremaining: 25.3s\n",
      "487:\tlearn: 0.0493756\ttotal: 24.1s\tremaining: 25.3s\n",
      "488:\tlearn: 0.0493634\ttotal: 24.2s\tremaining: 25.2s\n",
      "489:\tlearn: 0.0493533\ttotal: 24.2s\tremaining: 25.2s\n",
      "490:\tlearn: 0.0493393\ttotal: 24.2s\tremaining: 25.1s\n",
      "491:\tlearn: 0.0493056\ttotal: 24.3s\tremaining: 25.1s\n",
      "492:\tlearn: 0.0492208\ttotal: 24.3s\tremaining: 25s\n",
      "493:\tlearn: 0.0492183\ttotal: 24.4s\tremaining: 24.9s\n",
      "494:\tlearn: 0.0491824\ttotal: 24.4s\tremaining: 24.9s\n",
      "495:\tlearn: 0.0491098\ttotal: 24.5s\tremaining: 24.9s\n",
      "496:\tlearn: 0.0490553\ttotal: 24.5s\tremaining: 24.8s\n",
      "497:\tlearn: 0.0490293\ttotal: 24.5s\tremaining: 24.7s\n",
      "498:\tlearn: 0.0490170\ttotal: 24.6s\tremaining: 24.7s\n",
      "499:\tlearn: 0.0490054\ttotal: 24.6s\tremaining: 24.6s\n",
      "500:\tlearn: 0.0489978\ttotal: 24.7s\tremaining: 24.6s\n",
      "501:\tlearn: 0.0489121\ttotal: 24.7s\tremaining: 24.5s\n",
      "502:\tlearn: 0.0489053\ttotal: 24.7s\tremaining: 24.5s\n",
      "503:\tlearn: 0.0488667\ttotal: 24.8s\tremaining: 24.4s\n",
      "504:\tlearn: 0.0488003\ttotal: 24.8s\tremaining: 24.3s\n",
      "505:\tlearn: 0.0487905\ttotal: 24.9s\tremaining: 24.3s\n",
      "506:\tlearn: 0.0487585\ttotal: 24.9s\tremaining: 24.2s\n",
      "507:\tlearn: 0.0487067\ttotal: 24.9s\tremaining: 24.2s\n",
      "508:\tlearn: 0.0486642\ttotal: 25s\tremaining: 24.1s\n",
      "509:\tlearn: 0.0486595\ttotal: 25s\tremaining: 24.1s\n",
      "510:\tlearn: 0.0485893\ttotal: 25.1s\tremaining: 24s\n",
      "511:\tlearn: 0.0485805\ttotal: 25.1s\tremaining: 24s\n",
      "512:\tlearn: 0.0485464\ttotal: 25.2s\tremaining: 23.9s\n",
      "513:\tlearn: 0.0484632\ttotal: 25.2s\tremaining: 23.9s\n",
      "514:\tlearn: 0.0484349\ttotal: 25.3s\tremaining: 23.8s\n",
      "515:\tlearn: 0.0483137\ttotal: 25.3s\tremaining: 23.7s\n",
      "516:\tlearn: 0.0482700\ttotal: 25.4s\tremaining: 23.7s\n",
      "517:\tlearn: 0.0482633\ttotal: 25.4s\tremaining: 23.6s\n",
      "518:\tlearn: 0.0482543\ttotal: 25.4s\tremaining: 23.6s\n",
      "519:\tlearn: 0.0482100\ttotal: 25.5s\tremaining: 23.5s\n",
      "520:\tlearn: 0.0481829\ttotal: 25.5s\tremaining: 23.5s\n",
      "521:\tlearn: 0.0481402\ttotal: 25.6s\tremaining: 23.4s\n",
      "522:\tlearn: 0.0481377\ttotal: 25.6s\tremaining: 23.4s\n",
      "523:\tlearn: 0.0481067\ttotal: 25.7s\tremaining: 23.3s\n",
      "524:\tlearn: 0.0480994\ttotal: 25.7s\tremaining: 23.2s\n",
      "525:\tlearn: 0.0480429\ttotal: 25.7s\tremaining: 23.2s\n",
      "526:\tlearn: 0.0480286\ttotal: 25.8s\tremaining: 23.1s\n",
      "527:\tlearn: 0.0479948\ttotal: 25.8s\tremaining: 23.1s\n",
      "528:\tlearn: 0.0479904\ttotal: 25.9s\tremaining: 23s\n",
      "529:\tlearn: 0.0479728\ttotal: 25.9s\tremaining: 23s\n",
      "530:\tlearn: 0.0479508\ttotal: 25.9s\tremaining: 22.9s\n",
      "531:\tlearn: 0.0479236\ttotal: 26s\tremaining: 22.9s\n",
      "532:\tlearn: 0.0479136\ttotal: 26s\tremaining: 22.8s\n",
      "533:\tlearn: 0.0478511\ttotal: 26.1s\tremaining: 22.7s\n",
      "534:\tlearn: 0.0478212\ttotal: 26.1s\tremaining: 22.7s\n",
      "535:\tlearn: 0.0477797\ttotal: 26.2s\tremaining: 22.6s\n",
      "536:\tlearn: 0.0477477\ttotal: 26.2s\tremaining: 22.6s\n",
      "537:\tlearn: 0.0477423\ttotal: 26.2s\tremaining: 22.5s\n",
      "538:\tlearn: 0.0477290\ttotal: 26.3s\tremaining: 22.5s\n",
      "539:\tlearn: 0.0477250\ttotal: 26.3s\tremaining: 22.4s\n",
      "540:\tlearn: 0.0477109\ttotal: 26.4s\tremaining: 22.4s\n",
      "541:\tlearn: 0.0477084\ttotal: 26.4s\tremaining: 22.3s\n",
      "542:\tlearn: 0.0476903\ttotal: 26.5s\tremaining: 22.3s\n",
      "543:\tlearn: 0.0476863\ttotal: 26.5s\tremaining: 22.2s\n",
      "544:\tlearn: 0.0476826\ttotal: 26.5s\tremaining: 22.2s\n",
      "545:\tlearn: 0.0476718\ttotal: 26.6s\tremaining: 22.1s\n",
      "546:\tlearn: 0.0476532\ttotal: 26.6s\tremaining: 22s\n",
      "547:\tlearn: 0.0476223\ttotal: 26.7s\tremaining: 22s\n",
      "548:\tlearn: 0.0476114\ttotal: 26.7s\tremaining: 21.9s\n",
      "549:\tlearn: 0.0475701\ttotal: 26.7s\tremaining: 21.9s\n",
      "550:\tlearn: 0.0475657\ttotal: 26.8s\tremaining: 21.8s\n",
      "551:\tlearn: 0.0475614\ttotal: 26.8s\tremaining: 21.8s\n",
      "552:\tlearn: 0.0474518\ttotal: 26.9s\tremaining: 21.7s\n",
      "553:\tlearn: 0.0474381\ttotal: 26.9s\tremaining: 21.7s\n",
      "554:\tlearn: 0.0474349\ttotal: 26.9s\tremaining: 21.6s\n",
      "555:\tlearn: 0.0474294\ttotal: 27s\tremaining: 21.6s\n",
      "556:\tlearn: 0.0474018\ttotal: 27s\tremaining: 21.5s\n",
      "557:\tlearn: 0.0473662\ttotal: 27.1s\tremaining: 21.4s\n",
      "558:\tlearn: 0.0473651\ttotal: 27.1s\tremaining: 21.4s\n",
      "559:\tlearn: 0.0473381\ttotal: 27.2s\tremaining: 21.4s\n",
      "560:\tlearn: 0.0473316\ttotal: 27.2s\tremaining: 21.3s\n",
      "561:\tlearn: 0.0473293\ttotal: 27.3s\tremaining: 21.3s\n",
      "562:\tlearn: 0.0472747\ttotal: 27.3s\tremaining: 21.2s\n",
      "563:\tlearn: 0.0472698\ttotal: 27.3s\tremaining: 21.1s\n",
      "564:\tlearn: 0.0472563\ttotal: 27.4s\tremaining: 21.1s\n",
      "565:\tlearn: 0.0472320\ttotal: 27.4s\tremaining: 21s\n",
      "566:\tlearn: 0.0471066\ttotal: 27.5s\tremaining: 21s\n",
      "567:\tlearn: 0.0471044\ttotal: 27.5s\tremaining: 20.9s\n",
      "568:\tlearn: 0.0469981\ttotal: 27.6s\tremaining: 20.9s\n",
      "569:\tlearn: 0.0469756\ttotal: 27.6s\tremaining: 20.8s\n",
      "570:\tlearn: 0.0469455\ttotal: 27.7s\tremaining: 20.8s\n",
      "571:\tlearn: 0.0469404\ttotal: 27.7s\tremaining: 20.7s\n",
      "572:\tlearn: 0.0469202\ttotal: 27.7s\tremaining: 20.7s\n",
      "573:\tlearn: 0.0469132\ttotal: 27.8s\tremaining: 20.6s\n",
      "574:\tlearn: 0.0469119\ttotal: 27.8s\tremaining: 20.6s\n",
      "575:\tlearn: 0.0469019\ttotal: 27.9s\tremaining: 20.5s\n",
      "576:\tlearn: 0.0468902\ttotal: 27.9s\tremaining: 20.4s\n",
      "577:\tlearn: 0.0468837\ttotal: 27.9s\tremaining: 20.4s\n",
      "578:\tlearn: 0.0468441\ttotal: 28s\tremaining: 20.3s\n",
      "579:\tlearn: 0.0468286\ttotal: 28s\tremaining: 20.3s\n",
      "580:\tlearn: 0.0467410\ttotal: 28.1s\tremaining: 20.2s\n",
      "581:\tlearn: 0.0466989\ttotal: 28.1s\tremaining: 20.2s\n",
      "582:\tlearn: 0.0466065\ttotal: 28.1s\tremaining: 20.1s\n",
      "583:\tlearn: 0.0466044\ttotal: 28.2s\tremaining: 20.1s\n",
      "584:\tlearn: 0.0465988\ttotal: 28.2s\tremaining: 20s\n",
      "585:\tlearn: 0.0465520\ttotal: 28.3s\tremaining: 20s\n",
      "586:\tlearn: 0.0465289\ttotal: 28.3s\tremaining: 19.9s\n",
      "587:\tlearn: 0.0465127\ttotal: 28.4s\tremaining: 19.9s\n",
      "588:\tlearn: 0.0464791\ttotal: 28.4s\tremaining: 19.8s\n",
      "589:\tlearn: 0.0464508\ttotal: 28.5s\tremaining: 19.8s\n",
      "590:\tlearn: 0.0464499\ttotal: 28.5s\tremaining: 19.7s\n",
      "591:\tlearn: 0.0464185\ttotal: 28.6s\tremaining: 19.7s\n",
      "592:\tlearn: 0.0464013\ttotal: 28.6s\tremaining: 19.6s\n",
      "593:\tlearn: 0.0463766\ttotal: 28.6s\tremaining: 19.6s\n",
      "594:\tlearn: 0.0463715\ttotal: 28.7s\tremaining: 19.5s\n",
      "595:\tlearn: 0.0463225\ttotal: 28.7s\tremaining: 19.5s\n",
      "596:\tlearn: 0.0463138\ttotal: 28.8s\tremaining: 19.4s\n",
      "597:\tlearn: 0.0462993\ttotal: 28.8s\tremaining: 19.4s\n",
      "598:\tlearn: 0.0462840\ttotal: 28.8s\tremaining: 19.3s\n",
      "599:\tlearn: 0.0462316\ttotal: 28.9s\tremaining: 19.3s\n",
      "600:\tlearn: 0.0462013\ttotal: 28.9s\tremaining: 19.2s\n",
      "601:\tlearn: 0.0461336\ttotal: 29s\tremaining: 19.2s\n",
      "602:\tlearn: 0.0461240\ttotal: 29s\tremaining: 19.1s\n",
      "603:\tlearn: 0.0460116\ttotal: 29.1s\tremaining: 19s\n",
      "604:\tlearn: 0.0459640\ttotal: 29.1s\tremaining: 19s\n",
      "605:\tlearn: 0.0459024\ttotal: 29.1s\tremaining: 18.9s\n",
      "606:\tlearn: 0.0458942\ttotal: 29.2s\tremaining: 18.9s\n",
      "607:\tlearn: 0.0458924\ttotal: 29.2s\tremaining: 18.9s\n",
      "608:\tlearn: 0.0458398\ttotal: 29.3s\tremaining: 18.8s\n",
      "609:\tlearn: 0.0458022\ttotal: 29.3s\tremaining: 18.8s\n",
      "610:\tlearn: 0.0458009\ttotal: 29.4s\tremaining: 18.7s\n",
      "611:\tlearn: 0.0457892\ttotal: 29.4s\tremaining: 18.6s\n",
      "612:\tlearn: 0.0457848\ttotal: 29.5s\tremaining: 18.6s\n",
      "613:\tlearn: 0.0457115\ttotal: 29.5s\tremaining: 18.6s\n",
      "614:\tlearn: 0.0457017\ttotal: 29.6s\tremaining: 18.5s\n",
      "615:\tlearn: 0.0456989\ttotal: 29.6s\tremaining: 18.4s\n",
      "616:\tlearn: 0.0456971\ttotal: 29.6s\tremaining: 18.4s\n",
      "617:\tlearn: 0.0456954\ttotal: 29.7s\tremaining: 18.3s\n",
      "618:\tlearn: 0.0456919\ttotal: 29.7s\tremaining: 18.3s\n",
      "619:\tlearn: 0.0456381\ttotal: 29.7s\tremaining: 18.2s\n",
      "620:\tlearn: 0.0456314\ttotal: 29.8s\tremaining: 18.2s\n",
      "621:\tlearn: 0.0456145\ttotal: 29.8s\tremaining: 18.1s\n",
      "622:\tlearn: 0.0456003\ttotal: 29.9s\tremaining: 18.1s\n",
      "623:\tlearn: 0.0455941\ttotal: 29.9s\tremaining: 18s\n",
      "624:\tlearn: 0.0455220\ttotal: 30s\tremaining: 18s\n",
      "625:\tlearn: 0.0454994\ttotal: 30s\tremaining: 17.9s\n",
      "626:\tlearn: 0.0454277\ttotal: 30s\tremaining: 17.9s\n",
      "627:\tlearn: 0.0454228\ttotal: 30.1s\tremaining: 17.8s\n",
      "628:\tlearn: 0.0454140\ttotal: 30.1s\tremaining: 17.8s\n",
      "629:\tlearn: 0.0454130\ttotal: 30.2s\tremaining: 17.7s\n",
      "630:\tlearn: 0.0454000\ttotal: 30.2s\tremaining: 17.7s\n",
      "631:\tlearn: 0.0453604\ttotal: 30.3s\tremaining: 17.6s\n",
      "632:\tlearn: 0.0452921\ttotal: 30.3s\tremaining: 17.6s\n",
      "633:\tlearn: 0.0452455\ttotal: 30.4s\tremaining: 17.5s\n",
      "634:\tlearn: 0.0452192\ttotal: 30.4s\tremaining: 17.5s\n",
      "635:\tlearn: 0.0452180\ttotal: 30.4s\tremaining: 17.4s\n",
      "636:\tlearn: 0.0451956\ttotal: 30.5s\tremaining: 17.4s\n",
      "637:\tlearn: 0.0451673\ttotal: 30.5s\tremaining: 17.3s\n",
      "638:\tlearn: 0.0451249\ttotal: 30.6s\tremaining: 17.3s\n",
      "639:\tlearn: 0.0450553\ttotal: 30.7s\tremaining: 17.2s\n",
      "640:\tlearn: 0.0449801\ttotal: 30.8s\tremaining: 17.2s\n",
      "641:\tlearn: 0.0449793\ttotal: 30.8s\tremaining: 17.2s\n",
      "642:\tlearn: 0.0449685\ttotal: 30.9s\tremaining: 17.2s\n",
      "643:\tlearn: 0.0449471\ttotal: 31s\tremaining: 17.1s\n",
      "644:\tlearn: 0.0449441\ttotal: 31.2s\tremaining: 17.1s\n",
      "645:\tlearn: 0.0448251\ttotal: 31.4s\tremaining: 17.2s\n",
      "646:\tlearn: 0.0447812\ttotal: 31.5s\tremaining: 17.2s\n",
      "647:\tlearn: 0.0447709\ttotal: 31.7s\tremaining: 17.2s\n",
      "648:\tlearn: 0.0447684\ttotal: 31.8s\tremaining: 17.2s\n",
      "649:\tlearn: 0.0447635\ttotal: 31.9s\tremaining: 17.2s\n",
      "650:\tlearn: 0.0446994\ttotal: 31.9s\tremaining: 17.1s\n",
      "651:\tlearn: 0.0446929\ttotal: 32s\tremaining: 17.1s\n",
      "652:\tlearn: 0.0446525\ttotal: 32s\tremaining: 17s\n",
      "653:\tlearn: 0.0445856\ttotal: 32.1s\tremaining: 17s\n",
      "654:\tlearn: 0.0445812\ttotal: 32.1s\tremaining: 16.9s\n",
      "655:\tlearn: 0.0445639\ttotal: 32.2s\tremaining: 16.9s\n",
      "656:\tlearn: 0.0445530\ttotal: 32.3s\tremaining: 16.9s\n",
      "657:\tlearn: 0.0445071\ttotal: 32.4s\tremaining: 16.9s\n",
      "658:\tlearn: 0.0443923\ttotal: 32.6s\tremaining: 16.9s\n",
      "659:\tlearn: 0.0443203\ttotal: 32.7s\tremaining: 16.9s\n",
      "660:\tlearn: 0.0442854\ttotal: 32.9s\tremaining: 16.9s\n",
      "661:\tlearn: 0.0442850\ttotal: 33s\tremaining: 16.9s\n",
      "662:\tlearn: 0.0442832\ttotal: 33.1s\tremaining: 16.8s\n",
      "663:\tlearn: 0.0442588\ttotal: 33.1s\tremaining: 16.8s\n",
      "664:\tlearn: 0.0442333\ttotal: 33.2s\tremaining: 16.7s\n",
      "665:\tlearn: 0.0441970\ttotal: 33.2s\tremaining: 16.7s\n",
      "666:\tlearn: 0.0441789\ttotal: 33.3s\tremaining: 16.6s\n",
      "667:\tlearn: 0.0441179\ttotal: 33.3s\tremaining: 16.6s\n",
      "668:\tlearn: 0.0441073\ttotal: 33.4s\tremaining: 16.5s\n",
      "669:\tlearn: 0.0440944\ttotal: 33.4s\tremaining: 16.5s\n",
      "670:\tlearn: 0.0440270\ttotal: 33.5s\tremaining: 16.4s\n",
      "671:\tlearn: 0.0440189\ttotal: 33.5s\tremaining: 16.4s\n",
      "672:\tlearn: 0.0440123\ttotal: 33.6s\tremaining: 16.3s\n",
      "673:\tlearn: 0.0440102\ttotal: 33.6s\tremaining: 16.3s\n",
      "674:\tlearn: 0.0439283\ttotal: 33.7s\tremaining: 16.2s\n",
      "675:\tlearn: 0.0439272\ttotal: 33.7s\tremaining: 16.2s\n",
      "676:\tlearn: 0.0439255\ttotal: 33.7s\tremaining: 16.1s\n",
      "677:\tlearn: 0.0439047\ttotal: 33.8s\tremaining: 16s\n",
      "678:\tlearn: 0.0438737\ttotal: 33.8s\tremaining: 16s\n",
      "679:\tlearn: 0.0438602\ttotal: 33.9s\tremaining: 15.9s\n",
      "680:\tlearn: 0.0438581\ttotal: 33.9s\tremaining: 15.9s\n",
      "681:\tlearn: 0.0438547\ttotal: 33.9s\tremaining: 15.8s\n",
      "682:\tlearn: 0.0438534\ttotal: 34s\tremaining: 15.8s\n",
      "683:\tlearn: 0.0438529\ttotal: 34s\tremaining: 15.7s\n",
      "684:\tlearn: 0.0438512\ttotal: 34.1s\tremaining: 15.7s\n",
      "685:\tlearn: 0.0438505\ttotal: 34.1s\tremaining: 15.6s\n",
      "686:\tlearn: 0.0438499\ttotal: 34.1s\tremaining: 15.6s\n",
      "687:\tlearn: 0.0438477\ttotal: 34.2s\tremaining: 15.5s\n",
      "688:\tlearn: 0.0438418\ttotal: 34.2s\tremaining: 15.4s\n",
      "689:\tlearn: 0.0438038\ttotal: 34.3s\tremaining: 15.4s\n",
      "690:\tlearn: 0.0438034\ttotal: 34.3s\tremaining: 15.3s\n",
      "691:\tlearn: 0.0438012\ttotal: 34.3s\tremaining: 15.3s\n",
      "692:\tlearn: 0.0437992\ttotal: 34.4s\tremaining: 15.2s\n",
      "693:\tlearn: 0.0437931\ttotal: 34.4s\tremaining: 15.2s\n",
      "694:\tlearn: 0.0437619\ttotal: 34.5s\tremaining: 15.1s\n",
      "695:\tlearn: 0.0437533\ttotal: 34.5s\tremaining: 15.1s\n",
      "696:\tlearn: 0.0437454\ttotal: 34.6s\tremaining: 15s\n",
      "697:\tlearn: 0.0437361\ttotal: 34.6s\tremaining: 15s\n",
      "698:\tlearn: 0.0437315\ttotal: 34.7s\tremaining: 14.9s\n",
      "699:\tlearn: 0.0437294\ttotal: 34.7s\tremaining: 14.9s\n",
      "700:\tlearn: 0.0437237\ttotal: 34.7s\tremaining: 14.8s\n",
      "701:\tlearn: 0.0437194\ttotal: 34.8s\tremaining: 14.8s\n",
      "702:\tlearn: 0.0437100\ttotal: 34.8s\tremaining: 14.7s\n",
      "703:\tlearn: 0.0436807\ttotal: 34.9s\tremaining: 14.7s\n",
      "704:\tlearn: 0.0436660\ttotal: 34.9s\tremaining: 14.6s\n",
      "705:\tlearn: 0.0436654\ttotal: 34.9s\tremaining: 14.6s\n",
      "706:\tlearn: 0.0436635\ttotal: 35s\tremaining: 14.5s\n",
      "707:\tlearn: 0.0436630\ttotal: 35s\tremaining: 14.4s\n",
      "708:\tlearn: 0.0436627\ttotal: 35.1s\tremaining: 14.4s\n",
      "709:\tlearn: 0.0436367\ttotal: 35.1s\tremaining: 14.3s\n",
      "710:\tlearn: 0.0436158\ttotal: 35.1s\tremaining: 14.3s\n",
      "711:\tlearn: 0.0435922\ttotal: 35.2s\tremaining: 14.2s\n",
      "712:\tlearn: 0.0435344\ttotal: 35.2s\tremaining: 14.2s\n",
      "713:\tlearn: 0.0435336\ttotal: 35.3s\tremaining: 14.1s\n",
      "714:\tlearn: 0.0435257\ttotal: 35.3s\tremaining: 14.1s\n",
      "715:\tlearn: 0.0435252\ttotal: 35.3s\tremaining: 14s\n",
      "716:\tlearn: 0.0435191\ttotal: 35.4s\tremaining: 14s\n",
      "717:\tlearn: 0.0434308\ttotal: 35.5s\tremaining: 13.9s\n",
      "718:\tlearn: 0.0434203\ttotal: 35.5s\tremaining: 13.9s\n",
      "719:\tlearn: 0.0434095\ttotal: 35.5s\tremaining: 13.8s\n",
      "720:\tlearn: 0.0433531\ttotal: 35.6s\tremaining: 13.8s\n",
      "721:\tlearn: 0.0433524\ttotal: 35.6s\tremaining: 13.7s\n",
      "722:\tlearn: 0.0433485\ttotal: 35.7s\tremaining: 13.7s\n",
      "723:\tlearn: 0.0433468\ttotal: 35.7s\tremaining: 13.6s\n",
      "724:\tlearn: 0.0433004\ttotal: 35.7s\tremaining: 13.6s\n",
      "725:\tlearn: 0.0432604\ttotal: 35.8s\tremaining: 13.5s\n",
      "726:\tlearn: 0.0432286\ttotal: 35.8s\tremaining: 13.5s\n",
      "727:\tlearn: 0.0431321\ttotal: 35.9s\tremaining: 13.4s\n",
      "728:\tlearn: 0.0431064\ttotal: 35.9s\tremaining: 13.3s\n",
      "729:\tlearn: 0.0430888\ttotal: 36s\tremaining: 13.3s\n",
      "730:\tlearn: 0.0430631\ttotal: 36s\tremaining: 13.2s\n",
      "731:\tlearn: 0.0430588\ttotal: 36s\tremaining: 13.2s\n",
      "732:\tlearn: 0.0430029\ttotal: 36.1s\tremaining: 13.1s\n",
      "733:\tlearn: 0.0430009\ttotal: 36.1s\tremaining: 13.1s\n",
      "734:\tlearn: 0.0429940\ttotal: 36.1s\tremaining: 13s\n",
      "735:\tlearn: 0.0429889\ttotal: 36.2s\tremaining: 13s\n",
      "736:\tlearn: 0.0429355\ttotal: 36.2s\tremaining: 12.9s\n",
      "737:\tlearn: 0.0429306\ttotal: 36.3s\tremaining: 12.9s\n",
      "738:\tlearn: 0.0429028\ttotal: 36.3s\tremaining: 12.8s\n",
      "739:\tlearn: 0.0428970\ttotal: 36.3s\tremaining: 12.8s\n",
      "740:\tlearn: 0.0428768\ttotal: 36.4s\tremaining: 12.7s\n",
      "741:\tlearn: 0.0428746\ttotal: 36.5s\tremaining: 12.7s\n",
      "742:\tlearn: 0.0428653\ttotal: 36.5s\tremaining: 12.6s\n",
      "743:\tlearn: 0.0428482\ttotal: 36.6s\tremaining: 12.6s\n",
      "744:\tlearn: 0.0428051\ttotal: 36.6s\tremaining: 12.5s\n",
      "745:\tlearn: 0.0427767\ttotal: 36.6s\tremaining: 12.5s\n",
      "746:\tlearn: 0.0427671\ttotal: 36.7s\tremaining: 12.4s\n",
      "747:\tlearn: 0.0427304\ttotal: 36.7s\tremaining: 12.4s\n",
      "748:\tlearn: 0.0427109\ttotal: 36.8s\tremaining: 12.3s\n",
      "749:\tlearn: 0.0427097\ttotal: 36.8s\tremaining: 12.3s\n",
      "750:\tlearn: 0.0426868\ttotal: 36.9s\tremaining: 12.2s\n",
      "751:\tlearn: 0.0426767\ttotal: 36.9s\tremaining: 12.2s\n",
      "752:\tlearn: 0.0426401\ttotal: 36.9s\tremaining: 12.1s\n",
      "753:\tlearn: 0.0425902\ttotal: 37s\tremaining: 12.1s\n",
      "754:\tlearn: 0.0425271\ttotal: 37s\tremaining: 12s\n",
      "755:\tlearn: 0.0425071\ttotal: 37.1s\tremaining: 12s\n",
      "756:\tlearn: 0.0424879\ttotal: 37.1s\tremaining: 11.9s\n",
      "757:\tlearn: 0.0424834\ttotal: 37.1s\tremaining: 11.9s\n",
      "758:\tlearn: 0.0424760\ttotal: 37.2s\tremaining: 11.8s\n",
      "759:\tlearn: 0.0424587\ttotal: 37.2s\tremaining: 11.8s\n",
      "760:\tlearn: 0.0424012\ttotal: 37.3s\tremaining: 11.7s\n",
      "761:\tlearn: 0.0423253\ttotal: 37.3s\tremaining: 11.7s\n",
      "762:\tlearn: 0.0422973\ttotal: 37.4s\tremaining: 11.6s\n",
      "763:\tlearn: 0.0422949\ttotal: 37.4s\tremaining: 11.6s\n",
      "764:\tlearn: 0.0422715\ttotal: 37.5s\tremaining: 11.5s\n",
      "765:\tlearn: 0.0422710\ttotal: 37.5s\tremaining: 11.5s\n",
      "766:\tlearn: 0.0422328\ttotal: 37.6s\tremaining: 11.4s\n",
      "767:\tlearn: 0.0422170\ttotal: 37.6s\tremaining: 11.4s\n",
      "768:\tlearn: 0.0421711\ttotal: 37.6s\tremaining: 11.3s\n",
      "769:\tlearn: 0.0421350\ttotal: 37.7s\tremaining: 11.3s\n",
      "770:\tlearn: 0.0421279\ttotal: 37.7s\tremaining: 11.2s\n",
      "771:\tlearn: 0.0420902\ttotal: 37.8s\tremaining: 11.2s\n",
      "772:\tlearn: 0.0420635\ttotal: 37.8s\tremaining: 11.1s\n",
      "773:\tlearn: 0.0419868\ttotal: 37.9s\tremaining: 11.1s\n",
      "774:\tlearn: 0.0419845\ttotal: 37.9s\tremaining: 11s\n",
      "775:\tlearn: 0.0419739\ttotal: 38s\tremaining: 11s\n",
      "776:\tlearn: 0.0419734\ttotal: 38s\tremaining: 10.9s\n",
      "777:\tlearn: 0.0419599\ttotal: 38s\tremaining: 10.8s\n",
      "778:\tlearn: 0.0419453\ttotal: 38.1s\tremaining: 10.8s\n",
      "779:\tlearn: 0.0419438\ttotal: 38.1s\tremaining: 10.7s\n",
      "780:\tlearn: 0.0419310\ttotal: 38.2s\tremaining: 10.7s\n",
      "781:\tlearn: 0.0419273\ttotal: 38.2s\tremaining: 10.6s\n",
      "782:\tlearn: 0.0418877\ttotal: 38.2s\tremaining: 10.6s\n",
      "783:\tlearn: 0.0418601\ttotal: 38.3s\tremaining: 10.5s\n",
      "784:\tlearn: 0.0418233\ttotal: 38.3s\tremaining: 10.5s\n",
      "785:\tlearn: 0.0417573\ttotal: 38.4s\tremaining: 10.4s\n",
      "786:\tlearn: 0.0417545\ttotal: 38.4s\tremaining: 10.4s\n",
      "787:\tlearn: 0.0417459\ttotal: 38.4s\tremaining: 10.3s\n",
      "788:\tlearn: 0.0417456\ttotal: 38.5s\tremaining: 10.3s\n",
      "789:\tlearn: 0.0417429\ttotal: 38.5s\tremaining: 10.2s\n",
      "790:\tlearn: 0.0417426\ttotal: 38.6s\tremaining: 10.2s\n",
      "791:\tlearn: 0.0417277\ttotal: 38.6s\tremaining: 10.1s\n",
      "792:\tlearn: 0.0417154\ttotal: 38.7s\tremaining: 10.1s\n",
      "793:\tlearn: 0.0417122\ttotal: 38.7s\tremaining: 10s\n",
      "794:\tlearn: 0.0417027\ttotal: 38.7s\tremaining: 9.99s\n",
      "795:\tlearn: 0.0417021\ttotal: 38.8s\tremaining: 9.94s\n",
      "796:\tlearn: 0.0416550\ttotal: 38.8s\tremaining: 9.89s\n",
      "797:\tlearn: 0.0416519\ttotal: 38.9s\tremaining: 9.84s\n",
      "798:\tlearn: 0.0416322\ttotal: 38.9s\tremaining: 9.79s\n",
      "799:\tlearn: 0.0415684\ttotal: 38.9s\tremaining: 9.73s\n",
      "800:\tlearn: 0.0415636\ttotal: 39s\tremaining: 9.68s\n",
      "801:\tlearn: 0.0415321\ttotal: 39s\tremaining: 9.63s\n",
      "802:\tlearn: 0.0415307\ttotal: 39.1s\tremaining: 9.58s\n",
      "803:\tlearn: 0.0415064\ttotal: 39.1s\tremaining: 9.53s\n",
      "804:\tlearn: 0.0414913\ttotal: 39.1s\tremaining: 9.48s\n",
      "805:\tlearn: 0.0414748\ttotal: 39.2s\tremaining: 9.43s\n",
      "806:\tlearn: 0.0414515\ttotal: 39.2s\tremaining: 9.38s\n",
      "807:\tlearn: 0.0413905\ttotal: 39.3s\tremaining: 9.33s\n",
      "808:\tlearn: 0.0413883\ttotal: 39.3s\tremaining: 9.28s\n",
      "809:\tlearn: 0.0413778\ttotal: 39.3s\tremaining: 9.23s\n",
      "810:\tlearn: 0.0412805\ttotal: 39.4s\tremaining: 9.18s\n",
      "811:\tlearn: 0.0412793\ttotal: 39.4s\tremaining: 9.13s\n",
      "812:\tlearn: 0.0412156\ttotal: 39.5s\tremaining: 9.08s\n",
      "813:\tlearn: 0.0412035\ttotal: 39.6s\tremaining: 9.04s\n",
      "814:\tlearn: 0.0411999\ttotal: 39.6s\tremaining: 8.99s\n",
      "815:\tlearn: 0.0410433\ttotal: 39.7s\tremaining: 8.94s\n",
      "816:\tlearn: 0.0409888\ttotal: 39.7s\tremaining: 8.89s\n",
      "817:\tlearn: 0.0409735\ttotal: 39.7s\tremaining: 8.84s\n",
      "818:\tlearn: 0.0409708\ttotal: 39.8s\tremaining: 8.79s\n",
      "819:\tlearn: 0.0409685\ttotal: 39.8s\tremaining: 8.74s\n",
      "820:\tlearn: 0.0409516\ttotal: 39.9s\tremaining: 8.69s\n",
      "821:\tlearn: 0.0409405\ttotal: 39.9s\tremaining: 8.64s\n",
      "822:\tlearn: 0.0409401\ttotal: 39.9s\tremaining: 8.59s\n",
      "823:\tlearn: 0.0409303\ttotal: 40s\tremaining: 8.54s\n",
      "824:\tlearn: 0.0409052\ttotal: 40s\tremaining: 8.49s\n",
      "825:\tlearn: 0.0409048\ttotal: 40s\tremaining: 8.44s\n",
      "826:\tlearn: 0.0408996\ttotal: 40.1s\tremaining: 8.39s\n",
      "827:\tlearn: 0.0408985\ttotal: 40.1s\tremaining: 8.34s\n",
      "828:\tlearn: 0.0408799\ttotal: 40.2s\tremaining: 8.29s\n",
      "829:\tlearn: 0.0408793\ttotal: 40.2s\tremaining: 8.23s\n",
      "830:\tlearn: 0.0408788\ttotal: 40.2s\tremaining: 8.18s\n",
      "831:\tlearn: 0.0408786\ttotal: 40.3s\tremaining: 8.13s\n",
      "832:\tlearn: 0.0408255\ttotal: 40.3s\tremaining: 8.08s\n",
      "833:\tlearn: 0.0408252\ttotal: 40.4s\tremaining: 8.03s\n",
      "834:\tlearn: 0.0407279\ttotal: 40.4s\tremaining: 7.99s\n",
      "835:\tlearn: 0.0407015\ttotal: 40.5s\tremaining: 7.93s\n",
      "836:\tlearn: 0.0406249\ttotal: 40.5s\tremaining: 7.89s\n",
      "837:\tlearn: 0.0406149\ttotal: 40.6s\tremaining: 7.84s\n",
      "838:\tlearn: 0.0406136\ttotal: 40.6s\tremaining: 7.79s\n",
      "839:\tlearn: 0.0406093\ttotal: 40.7s\tremaining: 7.74s\n",
      "840:\tlearn: 0.0406092\ttotal: 40.7s\tremaining: 7.7s\n",
      "841:\tlearn: 0.0406045\ttotal: 40.7s\tremaining: 7.64s\n",
      "842:\tlearn: 0.0405801\ttotal: 40.8s\tremaining: 7.6s\n",
      "843:\tlearn: 0.0405789\ttotal: 40.9s\tremaining: 7.55s\n",
      "844:\tlearn: 0.0405780\ttotal: 40.9s\tremaining: 7.5s\n",
      "845:\tlearn: 0.0405762\ttotal: 40.9s\tremaining: 7.45s\n",
      "846:\tlearn: 0.0405485\ttotal: 41s\tremaining: 7.41s\n",
      "847:\tlearn: 0.0405002\ttotal: 41.1s\tremaining: 7.36s\n",
      "848:\tlearn: 0.0404909\ttotal: 41.1s\tremaining: 7.31s\n",
      "849:\tlearn: 0.0404708\ttotal: 41.1s\tremaining: 7.26s\n",
      "850:\tlearn: 0.0404275\ttotal: 41.2s\tremaining: 7.21s\n",
      "851:\tlearn: 0.0403912\ttotal: 41.2s\tremaining: 7.16s\n",
      "852:\tlearn: 0.0403880\ttotal: 41.4s\tremaining: 7.13s\n",
      "853:\tlearn: 0.0403359\ttotal: 41.5s\tremaining: 7.09s\n",
      "854:\tlearn: 0.0403326\ttotal: 41.5s\tremaining: 7.04s\n",
      "855:\tlearn: 0.0402200\ttotal: 41.6s\tremaining: 7s\n",
      "856:\tlearn: 0.0402173\ttotal: 41.7s\tremaining: 6.95s\n",
      "857:\tlearn: 0.0402171\ttotal: 41.7s\tremaining: 6.91s\n",
      "858:\tlearn: 0.0402133\ttotal: 41.9s\tremaining: 6.88s\n",
      "859:\tlearn: 0.0402105\ttotal: 42s\tremaining: 6.84s\n",
      "860:\tlearn: 0.0402024\ttotal: 42.2s\tremaining: 6.81s\n",
      "861:\tlearn: 0.0402023\ttotal: 42.3s\tremaining: 6.78s\n",
      "862:\tlearn: 0.0401888\ttotal: 42.5s\tremaining: 6.74s\n",
      "863:\tlearn: 0.0401361\ttotal: 42.8s\tremaining: 6.73s\n",
      "864:\tlearn: 0.0401355\ttotal: 43.1s\tremaining: 6.72s\n",
      "865:\tlearn: 0.0401315\ttotal: 43.5s\tremaining: 6.73s\n",
      "866:\tlearn: 0.0400854\ttotal: 43.9s\tremaining: 6.74s\n",
      "867:\tlearn: 0.0400843\ttotal: 44.2s\tremaining: 6.72s\n",
      "868:\tlearn: 0.0400379\ttotal: 44.4s\tremaining: 6.7s\n",
      "869:\tlearn: 0.0400057\ttotal: 44.7s\tremaining: 6.68s\n",
      "870:\tlearn: 0.0400046\ttotal: 45.1s\tremaining: 6.68s\n",
      "871:\tlearn: 0.0400041\ttotal: 45.3s\tremaining: 6.65s\n",
      "872:\tlearn: 0.0399785\ttotal: 45.5s\tremaining: 6.63s\n",
      "873:\tlearn: 0.0399753\ttotal: 45.7s\tremaining: 6.59s\n",
      "874:\tlearn: 0.0399747\ttotal: 45.9s\tremaining: 6.55s\n",
      "875:\tlearn: 0.0399187\ttotal: 46s\tremaining: 6.51s\n",
      "876:\tlearn: 0.0399182\ttotal: 46s\tremaining: 6.46s\n",
      "877:\tlearn: 0.0399022\ttotal: 46.1s\tremaining: 6.41s\n",
      "878:\tlearn: 0.0398985\ttotal: 46.2s\tremaining: 6.36s\n",
      "879:\tlearn: 0.0398884\ttotal: 46.3s\tremaining: 6.31s\n",
      "880:\tlearn: 0.0398775\ttotal: 46.3s\tremaining: 6.26s\n",
      "881:\tlearn: 0.0398405\ttotal: 46.4s\tremaining: 6.2s\n",
      "882:\tlearn: 0.0398396\ttotal: 46.4s\tremaining: 6.15s\n",
      "883:\tlearn: 0.0398384\ttotal: 46.5s\tremaining: 6.09s\n",
      "884:\tlearn: 0.0398150\ttotal: 46.5s\tremaining: 6.04s\n",
      "885:\tlearn: 0.0398118\ttotal: 46.5s\tremaining: 5.99s\n",
      "886:\tlearn: 0.0397736\ttotal: 46.6s\tremaining: 5.93s\n",
      "887:\tlearn: 0.0397694\ttotal: 46.6s\tremaining: 5.88s\n",
      "888:\tlearn: 0.0397539\ttotal: 46.7s\tremaining: 5.83s\n",
      "889:\tlearn: 0.0397485\ttotal: 46.7s\tremaining: 5.77s\n",
      "890:\tlearn: 0.0397296\ttotal: 46.8s\tremaining: 5.72s\n",
      "891:\tlearn: 0.0397285\ttotal: 46.8s\tremaining: 5.67s\n",
      "892:\tlearn: 0.0397225\ttotal: 46.8s\tremaining: 5.61s\n",
      "893:\tlearn: 0.0397081\ttotal: 46.9s\tremaining: 5.56s\n",
      "894:\tlearn: 0.0396689\ttotal: 46.9s\tremaining: 5.51s\n",
      "895:\tlearn: 0.0396685\ttotal: 47s\tremaining: 5.45s\n",
      "896:\tlearn: 0.0396545\ttotal: 47s\tremaining: 5.4s\n",
      "897:\tlearn: 0.0395694\ttotal: 47.1s\tremaining: 5.34s\n",
      "898:\tlearn: 0.0395273\ttotal: 47.1s\tremaining: 5.29s\n",
      "899:\tlearn: 0.0394572\ttotal: 47.1s\tremaining: 5.24s\n",
      "900:\tlearn: 0.0394541\ttotal: 47.2s\tremaining: 5.19s\n",
      "901:\tlearn: 0.0394434\ttotal: 47.3s\tremaining: 5.13s\n",
      "902:\tlearn: 0.0394191\ttotal: 47.3s\tremaining: 5.08s\n",
      "903:\tlearn: 0.0394191\ttotal: 47.4s\tremaining: 5.03s\n",
      "904:\tlearn: 0.0394106\ttotal: 47.4s\tremaining: 4.97s\n",
      "905:\tlearn: 0.0394091\ttotal: 47.4s\tremaining: 4.92s\n",
      "906:\tlearn: 0.0393812\ttotal: 47.5s\tremaining: 4.87s\n",
      "907:\tlearn: 0.0393809\ttotal: 47.5s\tremaining: 4.82s\n",
      "908:\tlearn: 0.0393599\ttotal: 47.6s\tremaining: 4.76s\n",
      "909:\tlearn: 0.0393598\ttotal: 47.6s\tremaining: 4.71s\n",
      "910:\tlearn: 0.0393257\ttotal: 47.6s\tremaining: 4.65s\n",
      "911:\tlearn: 0.0393255\ttotal: 47.7s\tremaining: 4.6s\n",
      "912:\tlearn: 0.0393198\ttotal: 47.7s\tremaining: 4.55s\n",
      "913:\tlearn: 0.0393185\ttotal: 47.8s\tremaining: 4.49s\n",
      "914:\tlearn: 0.0393184\ttotal: 47.8s\tremaining: 4.44s\n",
      "915:\tlearn: 0.0393165\ttotal: 47.8s\tremaining: 4.39s\n",
      "916:\tlearn: 0.0393113\ttotal: 47.9s\tremaining: 4.33s\n",
      "917:\tlearn: 0.0392844\ttotal: 47.9s\tremaining: 4.28s\n",
      "918:\tlearn: 0.0392778\ttotal: 47.9s\tremaining: 4.23s\n",
      "919:\tlearn: 0.0392749\ttotal: 48s\tremaining: 4.17s\n",
      "920:\tlearn: 0.0392747\ttotal: 48s\tremaining: 4.12s\n",
      "921:\tlearn: 0.0392746\ttotal: 48.1s\tremaining: 4.07s\n",
      "922:\tlearn: 0.0392642\ttotal: 48.1s\tremaining: 4.01s\n",
      "923:\tlearn: 0.0392635\ttotal: 48.2s\tremaining: 3.96s\n",
      "924:\tlearn: 0.0392484\ttotal: 48.2s\tremaining: 3.91s\n",
      "925:\tlearn: 0.0392480\ttotal: 48.2s\tremaining: 3.85s\n",
      "926:\tlearn: 0.0392471\ttotal: 48.3s\tremaining: 3.8s\n",
      "927:\tlearn: 0.0392436\ttotal: 48.4s\tremaining: 3.75s\n",
      "928:\tlearn: 0.0391822\ttotal: 48.4s\tremaining: 3.7s\n",
      "929:\tlearn: 0.0391681\ttotal: 48.4s\tremaining: 3.65s\n",
      "930:\tlearn: 0.0391658\ttotal: 48.5s\tremaining: 3.59s\n",
      "931:\tlearn: 0.0391616\ttotal: 48.5s\tremaining: 3.54s\n",
      "932:\tlearn: 0.0391596\ttotal: 48.6s\tremaining: 3.49s\n",
      "933:\tlearn: 0.0391587\ttotal: 48.6s\tremaining: 3.43s\n",
      "934:\tlearn: 0.0391571\ttotal: 48.6s\tremaining: 3.38s\n",
      "935:\tlearn: 0.0391442\ttotal: 48.7s\tremaining: 3.33s\n",
      "936:\tlearn: 0.0391414\ttotal: 48.7s\tremaining: 3.27s\n",
      "937:\tlearn: 0.0391012\ttotal: 48.8s\tremaining: 3.22s\n",
      "938:\tlearn: 0.0391009\ttotal: 48.8s\tremaining: 3.17s\n",
      "939:\tlearn: 0.0391004\ttotal: 48.9s\tremaining: 3.12s\n",
      "940:\tlearn: 0.0390998\ttotal: 48.9s\tremaining: 3.06s\n",
      "941:\tlearn: 0.0390885\ttotal: 48.9s\tremaining: 3.01s\n",
      "942:\tlearn: 0.0390884\ttotal: 49s\tremaining: 2.96s\n",
      "943:\tlearn: 0.0390881\ttotal: 49s\tremaining: 2.91s\n",
      "944:\tlearn: 0.0390871\ttotal: 49.1s\tremaining: 2.86s\n",
      "945:\tlearn: 0.0390416\ttotal: 49.1s\tremaining: 2.8s\n",
      "946:\tlearn: 0.0389900\ttotal: 49.2s\tremaining: 2.75s\n",
      "947:\tlearn: 0.0389506\ttotal: 49.2s\tremaining: 2.7s\n",
      "948:\tlearn: 0.0389127\ttotal: 49.3s\tremaining: 2.65s\n",
      "949:\tlearn: 0.0389126\ttotal: 49.3s\tremaining: 2.6s\n",
      "950:\tlearn: 0.0389113\ttotal: 49.4s\tremaining: 2.54s\n",
      "951:\tlearn: 0.0388849\ttotal: 49.4s\tremaining: 2.49s\n",
      "952:\tlearn: 0.0388757\ttotal: 49.5s\tremaining: 2.44s\n",
      "953:\tlearn: 0.0388728\ttotal: 49.5s\tremaining: 2.39s\n",
      "954:\tlearn: 0.0388663\ttotal: 49.5s\tremaining: 2.33s\n",
      "955:\tlearn: 0.0388655\ttotal: 49.6s\tremaining: 2.28s\n",
      "956:\tlearn: 0.0388472\ttotal: 49.6s\tremaining: 2.23s\n",
      "957:\tlearn: 0.0388469\ttotal: 49.7s\tremaining: 2.18s\n",
      "958:\tlearn: 0.0388247\ttotal: 49.7s\tremaining: 2.12s\n",
      "959:\tlearn: 0.0387952\ttotal: 49.7s\tremaining: 2.07s\n",
      "960:\tlearn: 0.0387571\ttotal: 49.8s\tremaining: 2.02s\n",
      "961:\tlearn: 0.0387568\ttotal: 49.8s\tremaining: 1.97s\n",
      "962:\tlearn: 0.0387457\ttotal: 49.8s\tremaining: 1.92s\n",
      "963:\tlearn: 0.0387265\ttotal: 49.9s\tremaining: 1.86s\n",
      "964:\tlearn: 0.0387263\ttotal: 49.9s\tremaining: 1.81s\n",
      "965:\tlearn: 0.0387259\ttotal: 50s\tremaining: 1.76s\n",
      "966:\tlearn: 0.0387166\ttotal: 50s\tremaining: 1.71s\n",
      "967:\tlearn: 0.0387150\ttotal: 50s\tremaining: 1.65s\n",
      "968:\tlearn: 0.0387064\ttotal: 50.1s\tremaining: 1.6s\n",
      "969:\tlearn: 0.0387047\ttotal: 50.1s\tremaining: 1.55s\n",
      "970:\tlearn: 0.0386855\ttotal: 50.2s\tremaining: 1.5s\n",
      "971:\tlearn: 0.0386429\ttotal: 50.2s\tremaining: 1.45s\n",
      "972:\tlearn: 0.0386342\ttotal: 50.3s\tremaining: 1.4s\n",
      "973:\tlearn: 0.0386331\ttotal: 50.3s\tremaining: 1.34s\n",
      "974:\tlearn: 0.0386330\ttotal: 50.4s\tremaining: 1.29s\n",
      "975:\tlearn: 0.0386328\ttotal: 50.4s\tremaining: 1.24s\n",
      "976:\tlearn: 0.0386037\ttotal: 50.5s\tremaining: 1.19s\n",
      "977:\tlearn: 0.0386014\ttotal: 50.5s\tremaining: 1.14s\n",
      "978:\tlearn: 0.0385935\ttotal: 50.6s\tremaining: 1.08s\n",
      "979:\tlearn: 0.0385934\ttotal: 50.6s\tremaining: 1.03s\n",
      "980:\tlearn: 0.0385933\ttotal: 50.6s\tremaining: 981ms\n",
      "981:\tlearn: 0.0385930\ttotal: 50.7s\tremaining: 929ms\n",
      "982:\tlearn: 0.0385914\ttotal: 50.7s\tremaining: 877ms\n",
      "983:\tlearn: 0.0385913\ttotal: 50.7s\tremaining: 825ms\n",
      "984:\tlearn: 0.0385840\ttotal: 50.8s\tremaining: 774ms\n",
      "985:\tlearn: 0.0385367\ttotal: 50.8s\tremaining: 722ms\n",
      "986:\tlearn: 0.0385359\ttotal: 50.9s\tremaining: 670ms\n",
      "987:\tlearn: 0.0385359\ttotal: 50.9s\tremaining: 618ms\n",
      "988:\tlearn: 0.0385350\ttotal: 51s\tremaining: 567ms\n",
      "989:\tlearn: 0.0385288\ttotal: 51s\tremaining: 515ms\n",
      "990:\tlearn: 0.0384675\ttotal: 51s\tremaining: 464ms\n",
      "991:\tlearn: 0.0384675\ttotal: 51.1s\tremaining: 412ms\n",
      "992:\tlearn: 0.0384515\ttotal: 51.1s\tremaining: 360ms\n",
      "993:\tlearn: 0.0384214\ttotal: 51.2s\tremaining: 309ms\n",
      "994:\tlearn: 0.0384131\ttotal: 51.2s\tremaining: 257ms\n",
      "995:\tlearn: 0.0384119\ttotal: 51.3s\tremaining: 206ms\n",
      "996:\tlearn: 0.0384088\ttotal: 51.3s\tremaining: 154ms\n",
      "997:\tlearn: 0.0383774\ttotal: 51.4s\tremaining: 103ms\n",
      "998:\tlearn: 0.0383761\ttotal: 51.4s\tremaining: 51.5ms\n",
      "999:\tlearn: 0.0383739\ttotal: 51.5s\tremaining: 0us\n",
      "Accuracy: 97.60%\n",
      "Train Accuracy: 98.57%\n"
     ]
    }
   ],
   "source": [
    "#predict\n",
    "\n",
    "cat = CatBoostClassifier(task_type=\"GPU\")\n",
    "cat.fit(pool_train,plot=True)\n",
    "y_pred = cat.predict(pool_test)\n",
    "\n",
    "predictions = [round(value) for value in y_pred]\n",
    "accuracy = accuracy_score(y_valid, predictions)\n",
    "print(\"Accuracy: %.2f%%\" % (accuracy * 100.0))\n",
    "\n",
    "y_pred_train = cat.predict(pool_train)\n",
    "predictions_train = [round(value) for value in y_pred_train]\n",
    "train_accuracy = accuracy_score(y_train, predictions_train)\n",
    "print(\"Train Accuracy: %.2f%%\" % (train_accuracy * 100.0))"
   ]
  },
  {
   "cell_type": "code",
   "execution_count": null,
   "metadata": {
    "id": "sP8UfnmfVraY"
   },
   "outputs": [],
   "source": [
    "#add accuracy data for future plotting comparison\n",
    "acc_data['Catboost Validation Accuracy'] = [accuracy]\n",
    "acc_data['Catboost Training Accuracy'] = [train_accuracy]"
   ]
  },
  {
   "cell_type": "code",
   "execution_count": null,
   "metadata": {
    "colab": {
     "base_uri": "https://localhost:8080/",
     "height": 487
    },
    "id": "Sm39t7-EVssn",
    "outputId": "e3d85a09-00d9-405b-b103-410153066798"
   },
   "outputs": [
    {
     "data": {
      "image/png": "[encoded data removed]",
      "text/plain": [
       "<Figure size 640x480 with 1 Axes>"
      ]
     },
     "metadata": {},
     "output_type": "display_data"
    }
   ],
   "source": [
    "#compare accuracy data\n",
    "acc_data\n",
    "ax = sns.barplot(data=acc_data)\n",
    "ax.set_xticklabels(ax.get_xticklabels(), rotation=40, ha=\"right\")\n",
    "ax.set(xlabel='Models', ylabel='Accuracy %')\n",
    "plt.tight_layout()\n",
    "plt.show()"
   ]
  },
  {
   "cell_type": "code",
   "execution_count": null,
   "metadata": {
    "colab": {
     "base_uri": "https://localhost:8080/",
     "height": 1000
    },
    "id": "Qaa33osvWGtQ",
    "outputId": "91e98080-1db4-4442-d03a-142e17c19775"
   },
   "outputs": [
    {
     "name": "stdout",
     "output_type": "stream",
     "text": [
      "0\n",
      "Accuracy: 97.15%\n",
      "Train Accuracy: 97.63%\n",
      "New highest Accuracy: 97.15%\n",
      "Train Accuracy: 97.63%\n",
      "1\n",
      "Accuracy: 96.92%\n",
      "Train Accuracy: 97.20%\n",
      "2\n",
      "Accuracy: 96.97%\n",
      "Train Accuracy: 96.99%\n",
      "3\n",
      "Accuracy: 97.15%\n",
      "Train Accuracy: 97.60%\n",
      "4\n",
      "Accuracy: 97.09%\n",
      "Train Accuracy: 97.46%\n",
      "5\n",
      "Accuracy: 96.69%\n",
      "Train Accuracy: 96.73%\n",
      "6\n",
      "Accuracy: 97.03%\n",
      "Train Accuracy: 97.19%\n",
      "7\n",
      "Accuracy: 96.86%\n",
      "Train Accuracy: 96.85%\n",
      "8\n",
      "Accuracy: 96.69%\n",
      "Train Accuracy: 96.25%\n",
      "9\n",
      "Accuracy: 96.86%\n",
      "Train Accuracy: 96.62%\n",
      "10\n",
      "Accuracy: 96.92%\n",
      "Train Accuracy: 97.13%\n",
      "11\n",
      "Accuracy: 97.09%\n",
      "Train Accuracy: 97.32%\n",
      "12\n",
      "Accuracy: 97.15%\n",
      "Train Accuracy: 97.64%\n",
      "13\n",
      "Accuracy: 96.80%\n",
      "Train Accuracy: 96.67%\n",
      "14\n",
      "Accuracy: 97.26%\n",
      "Train Accuracy: 97.96%\n",
      "New highest Accuracy: 97.26%\n",
      "Train Accuracy: 97.96%\n",
      "15\n",
      "Accuracy: 96.75%\n",
      "Train Accuracy: 96.86%\n",
      "16\n",
      "Accuracy: 96.00%\n",
      "Train Accuracy: 95.76%\n",
      "17\n",
      "Accuracy: 96.86%\n",
      "Train Accuracy: 96.92%\n",
      "18\n",
      "Accuracy: 97.03%\n",
      "Train Accuracy: 97.19%\n",
      "19\n",
      "Accuracy: 96.86%\n",
      "Train Accuracy: 96.76%\n",
      "20\n",
      "Accuracy: 96.80%\n",
      "Train Accuracy: 96.83%\n",
      "21\n",
      "Accuracy: 96.92%\n",
      "Train Accuracy: 96.86%\n",
      "22\n",
      "Accuracy: 96.80%\n",
      "Train Accuracy: 96.56%\n",
      "23\n",
      "Accuracy: 96.86%\n",
      "Train Accuracy: 96.83%\n",
      "24\n",
      "Accuracy: 96.92%\n",
      "Train Accuracy: 97.13%\n",
      "25\n",
      "Accuracy: 97.20%\n",
      "Train Accuracy: 97.73%\n",
      "26\n",
      "Accuracy: 97.09%\n",
      "Train Accuracy: 97.93%\n",
      "27\n",
      "Accuracy: 97.37%\n",
      "Train Accuracy: 97.89%\n",
      "New highest Accuracy: 97.37%\n",
      "Train Accuracy: 97.89%\n",
      "28\n",
      "Accuracy: 95.83%\n",
      "Train Accuracy: 95.55%\n",
      "29\n",
      "Accuracy: 95.89%\n",
      "Train Accuracy: 95.58%\n",
      "30\n",
      "Accuracy: 96.92%\n",
      "Train Accuracy: 96.96%\n",
      "31\n",
      "Accuracy: 96.80%\n",
      "Train Accuracy: 96.57%\n",
      "32\n",
      "Accuracy: 97.15%\n",
      "Train Accuracy: 97.29%\n",
      "33\n",
      "Accuracy: 96.86%\n",
      "Train Accuracy: 96.99%\n",
      "34\n",
      "Accuracy: 96.97%\n",
      "Train Accuracy: 97.16%\n",
      "35\n",
      "Accuracy: 96.97%\n",
      "Train Accuracy: 97.19%\n",
      "36\n",
      "Accuracy: 97.09%\n",
      "Train Accuracy: 97.33%\n",
      "37\n",
      "Accuracy: 96.86%\n",
      "Train Accuracy: 96.79%\n",
      "38\n",
      "Accuracy: 96.63%\n",
      "Train Accuracy: 96.67%\n",
      "39\n",
      "Accuracy: 97.09%\n",
      "Train Accuracy: 97.23%\n",
      "40\n",
      "Accuracy: 96.69%\n",
      "Train Accuracy: 96.29%\n",
      "41\n",
      "Accuracy: 97.03%\n",
      "Train Accuracy: 97.13%\n",
      "42\n",
      "Accuracy: 96.86%\n",
      "Train Accuracy: 96.99%\n",
      "43\n",
      "Accuracy: 96.75%\n",
      "Train Accuracy: 96.79%\n",
      "44\n",
      "Accuracy: 96.35%\n",
      "Train Accuracy: 96.10%\n",
      "45\n",
      "Accuracy: 95.89%\n",
      "Train Accuracy: 95.72%\n",
      "46\n"
     ]
    },
    {
     "ename": "KeyboardInterrupt",
     "evalue": "ignored",
     "output_type": "error",
     "traceback": [
      "\u001b[0;31m---------------------------------------------------------------------------\u001b[0m",
      "\u001b[0;31mKeyboardInterrupt\u001b[0m                         Traceback (most recent call last)",
      "\u001b[0;32m<ipython-input-36-be7314cb2cdc>\u001b[0m in \u001b[0;36m<cell line: 7>\u001b[0;34m()\u001b[0m\n\u001b[1;32m     14\u001b[0m     \u001b[0my_pred\u001b[0m \u001b[0;34m=\u001b[0m \u001b[0mcat\u001b[0m\u001b[0;34m.\u001b[0m\u001b[0mpredict\u001b[0m\u001b[0;34m(\u001b[0m\u001b[0mpool_test\u001b[0m\u001b[0;34m)\u001b[0m\u001b[0;34m\u001b[0m\u001b[0;34m\u001b[0m\u001b[0m\n\u001b[1;32m     15\u001b[0m     \u001b[0mpredictions\u001b[0m \u001b[0;34m=\u001b[0m \u001b[0;34m[\u001b[0m\u001b[0mround\u001b[0m\u001b[0;34m(\u001b[0m\u001b[0mvalue\u001b[0m\u001b[0;34m)\u001b[0m \u001b[0;32mfor\u001b[0m \u001b[0mvalue\u001b[0m \u001b[0;32min\u001b[0m \u001b[0my_pred\u001b[0m\u001b[0;34m]\u001b[0m\u001b[0;34m\u001b[0m\u001b[0;34m\u001b[0m\u001b[0m\n\u001b[0;32m---> 16\u001b[0;31m     \u001b[0maccuracy\u001b[0m \u001b[0;34m=\u001b[0m \u001b[0maccuracy_score\u001b[0m\u001b[0;34m(\u001b[0m\u001b[0my_valid\u001b[0m\u001b[0;34m,\u001b[0m \u001b[0mpredictions\u001b[0m\u001b[0;34m)\u001b[0m\u001b[0;34m\u001b[0m\u001b[0;34m\u001b[0m\u001b[0m\n\u001b[0m\u001b[1;32m     17\u001b[0m     \u001b[0mprint\u001b[0m\u001b[0;34m(\u001b[0m\u001b[0;34m\"Accuracy: %.2f%%\"\u001b[0m \u001b[0;34m%\u001b[0m \u001b[0;34m(\u001b[0m\u001b[0maccuracy\u001b[0m \u001b[0;34m*\u001b[0m \u001b[0;36m100.0\u001b[0m\u001b[0;34m)\u001b[0m\u001b[0;34m)\u001b[0m\u001b[0;34m\u001b[0m\u001b[0;34m\u001b[0m\u001b[0m\n\u001b[1;32m     18\u001b[0m \u001b[0;34m\u001b[0m\u001b[0m\n",
      "\u001b[0;32m/usr/local/lib/python3.10/dist-packages/sklearn/utils/_param_validation.py\u001b[0m in \u001b[0;36mwrapper\u001b[0;34m(*args, **kwargs)\u001b[0m\n\u001b[1;32m    190\u001b[0m \u001b[0;34m\u001b[0m\u001b[0m\n\u001b[1;32m    191\u001b[0m             \u001b[0;32mtry\u001b[0m\u001b[0;34m:\u001b[0m\u001b[0;34m\u001b[0m\u001b[0;34m\u001b[0m\u001b[0m\n\u001b[0;32m--> 192\u001b[0;31m                 \u001b[0;32mreturn\u001b[0m \u001b[0mfunc\u001b[0m\u001b[0;34m(\u001b[0m\u001b[0;34m*\u001b[0m\u001b[0margs\u001b[0m\u001b[0;34m,\u001b[0m \u001b[0;34m**\u001b[0m\u001b[0mkwargs\u001b[0m\u001b[0;34m)\u001b[0m\u001b[0;34m\u001b[0m\u001b[0;34m\u001b[0m\u001b[0m\n\u001b[0m\u001b[1;32m    193\u001b[0m             \u001b[0;32mexcept\u001b[0m \u001b[0mInvalidParameterError\u001b[0m \u001b[0;32mas\u001b[0m \u001b[0me\u001b[0m\u001b[0;34m:\u001b[0m\u001b[0;34m\u001b[0m\u001b[0;34m\u001b[0m\u001b[0m\n\u001b[1;32m    194\u001b[0m                 \u001b[0;31m# When the function is just a wrapper around an estimator, we allow\u001b[0m\u001b[0;34m\u001b[0m\u001b[0;34m\u001b[0m\u001b[0m\n",
      "\u001b[0;32m/usr/local/lib/python3.10/dist-packages/sklearn/metrics/_classification.py\u001b[0m in \u001b[0;36maccuracy_score\u001b[0;34m(y_true, y_pred, normalize, sample_weight)\u001b[0m\n\u001b[1;32m    219\u001b[0m \u001b[0;34m\u001b[0m\u001b[0m\n\u001b[1;32m    220\u001b[0m     \u001b[0;31m# Compute accuracy for each possible representation\u001b[0m\u001b[0;34m\u001b[0m\u001b[0;34m\u001b[0m\u001b[0m\n\u001b[0;32m--> 221\u001b[0;31m     \u001b[0my_type\u001b[0m\u001b[0;34m,\u001b[0m \u001b[0my_true\u001b[0m\u001b[0;34m,\u001b[0m \u001b[0my_pred\u001b[0m \u001b[0;34m=\u001b[0m \u001b[0m_check_targets\u001b[0m\u001b[0;34m(\u001b[0m\u001b[0my_true\u001b[0m\u001b[0;34m,\u001b[0m \u001b[0my_pred\u001b[0m\u001b[0;34m)\u001b[0m\u001b[0;34m\u001b[0m\u001b[0;34m\u001b[0m\u001b[0m\n\u001b[0m\u001b[1;32m    222\u001b[0m     \u001b[0mcheck_consistent_length\u001b[0m\u001b[0;34m(\u001b[0m\u001b[0my_true\u001b[0m\u001b[0;34m,\u001b[0m \u001b[0my_pred\u001b[0m\u001b[0;34m,\u001b[0m \u001b[0msample_weight\u001b[0m\u001b[0;34m)\u001b[0m\u001b[0;34m\u001b[0m\u001b[0;34m\u001b[0m\u001b[0m\n\u001b[1;32m    223\u001b[0m     \u001b[0;32mif\u001b[0m \u001b[0my_type\u001b[0m\u001b[0;34m.\u001b[0m\u001b[0mstartswith\u001b[0m\u001b[0;34m(\u001b[0m\u001b[0;34m\"multilabel\"\u001b[0m\u001b[0;34m)\u001b[0m\u001b[0;34m:\u001b[0m\u001b[0;34m\u001b[0m\u001b[0;34m\u001b[0m\u001b[0m\n",
      "\u001b[0;32m/usr/local/lib/python3.10/dist-packages/sklearn/metrics/_classification.py\u001b[0m in \u001b[0;36m_check_targets\u001b[0;34m(y_true, y_pred)\u001b[0m\n\u001b[1;32m    107\u001b[0m \u001b[0;34m\u001b[0m\u001b[0m\n\u001b[1;32m    108\u001b[0m     \u001b[0;32mif\u001b[0m \u001b[0my_type\u001b[0m \u001b[0;32min\u001b[0m \u001b[0;34m[\u001b[0m\u001b[0;34m\"binary\"\u001b[0m\u001b[0;34m,\u001b[0m \u001b[0;34m\"multiclass\"\u001b[0m\u001b[0;34m]\u001b[0m\u001b[0;34m:\u001b[0m\u001b[0;34m\u001b[0m\u001b[0;34m\u001b[0m\u001b[0m\n\u001b[0;32m--> 109\u001b[0;31m         \u001b[0my_true\u001b[0m \u001b[0;34m=\u001b[0m \u001b[0mcolumn_or_1d\u001b[0m\u001b[0;34m(\u001b[0m\u001b[0my_true\u001b[0m\u001b[0;34m)\u001b[0m\u001b[0;34m\u001b[0m\u001b[0;34m\u001b[0m\u001b[0m\n\u001b[0m\u001b[1;32m    110\u001b[0m         \u001b[0my_pred\u001b[0m \u001b[0;34m=\u001b[0m \u001b[0mcolumn_or_1d\u001b[0m\u001b[0;34m(\u001b[0m\u001b[0my_pred\u001b[0m\u001b[0;34m)\u001b[0m\u001b[0;34m\u001b[0m\u001b[0;34m\u001b[0m\u001b[0m\n\u001b[1;32m    111\u001b[0m         \u001b[0;32mif\u001b[0m \u001b[0my_type\u001b[0m \u001b[0;34m==\u001b[0m \u001b[0;34m\"binary\"\u001b[0m\u001b[0;34m:\u001b[0m\u001b[0;34m\u001b[0m\u001b[0;34m\u001b[0m\u001b[0m\n",
      "\u001b[0;32m/usr/local/lib/python3.10/dist-packages/sklearn/utils/validation.py\u001b[0m in \u001b[0;36mcolumn_or_1d\u001b[0;34m(y, dtype, warn)\u001b[0m\n\u001b[1;32m   1177\u001b[0m     \"\"\"\n\u001b[1;32m   1178\u001b[0m     \u001b[0mxp\u001b[0m\u001b[0;34m,\u001b[0m \u001b[0m_\u001b[0m \u001b[0;34m=\u001b[0m \u001b[0mget_namespace\u001b[0m\u001b[0;34m(\u001b[0m\u001b[0my\u001b[0m\u001b[0;34m)\u001b[0m\u001b[0;34m\u001b[0m\u001b[0;34m\u001b[0m\u001b[0m\n\u001b[0;32m-> 1179\u001b[0;31m     y = check_array(\n\u001b[0m\u001b[1;32m   1180\u001b[0m         \u001b[0my\u001b[0m\u001b[0;34m,\u001b[0m\u001b[0;34m\u001b[0m\u001b[0;34m\u001b[0m\u001b[0m\n\u001b[1;32m   1181\u001b[0m         \u001b[0mensure_2d\u001b[0m\u001b[0;34m=\u001b[0m\u001b[0;32mFalse\u001b[0m\u001b[0;34m,\u001b[0m\u001b[0;34m\u001b[0m\u001b[0;34m\u001b[0m\u001b[0m\n",
      "\u001b[0;32m/usr/local/lib/python3.10/dist-packages/sklearn/utils/validation.py\u001b[0m in \u001b[0;36mcheck_array\u001b[0;34m(array, accept_sparse, accept_large_sparse, dtype, order, copy, force_all_finite, ensure_2d, allow_nd, ensure_min_samples, ensure_min_features, estimator, input_name)\u001b[0m\n\u001b[1;32m    765\u001b[0m             \u001b[0;32mfrom\u001b[0m \u001b[0mpandas\u001b[0m\u001b[0;34m.\u001b[0m\u001b[0mapi\u001b[0m\u001b[0;34m.\u001b[0m\u001b[0mtypes\u001b[0m \u001b[0;32mimport\u001b[0m \u001b[0mis_sparse\u001b[0m\u001b[0;34m\u001b[0m\u001b[0;34m\u001b[0m\u001b[0m\n\u001b[1;32m    766\u001b[0m \u001b[0;34m\u001b[0m\u001b[0m\n\u001b[0;32m--> 767\u001b[0;31m             \u001b[0;32mif\u001b[0m \u001b[0;32mnot\u001b[0m \u001b[0mhasattr\u001b[0m\u001b[0;34m(\u001b[0m\u001b[0marray\u001b[0m\u001b[0;34m,\u001b[0m \u001b[0;34m\"sparse\"\u001b[0m\u001b[0;34m)\u001b[0m \u001b[0;32mand\u001b[0m \u001b[0marray\u001b[0m\u001b[0;34m.\u001b[0m\u001b[0mdtypes\u001b[0m\u001b[0;34m.\u001b[0m\u001b[0mapply\u001b[0m\u001b[0;34m(\u001b[0m\u001b[0mis_sparse\u001b[0m\u001b[0;34m)\u001b[0m\u001b[0;34m.\u001b[0m\u001b[0many\u001b[0m\u001b[0;34m(\u001b[0m\u001b[0;34m)\u001b[0m\u001b[0;34m:\u001b[0m\u001b[0;34m\u001b[0m\u001b[0;34m\u001b[0m\u001b[0m\n\u001b[0m\u001b[1;32m    768\u001b[0m                 warnings.warn(\n\u001b[1;32m    769\u001b[0m                     \u001b[0;34m\"pandas.DataFrame with sparse columns found.\"\u001b[0m\u001b[0;34m\u001b[0m\u001b[0;34m\u001b[0m\u001b[0m\n",
      "\u001b[0;32m/usr/local/lib/python3.10/dist-packages/pandas/util/_decorators.py\u001b[0m in \u001b[0;36mwrapper\u001b[0;34m(*args, **kwargs)\u001b[0m\n\u001b[1;32m    329\u001b[0m                     \u001b[0mstacklevel\u001b[0m\u001b[0;34m=\u001b[0m\u001b[0mfind_stack_level\u001b[0m\u001b[0;34m(\u001b[0m\u001b[0;34m)\u001b[0m\u001b[0;34m,\u001b[0m\u001b[0;34m\u001b[0m\u001b[0;34m\u001b[0m\u001b[0m\n\u001b[1;32m    330\u001b[0m                 )\n\u001b[0;32m--> 331\u001b[0;31m             \u001b[0;32mreturn\u001b[0m \u001b[0mfunc\u001b[0m\u001b[0;34m(\u001b[0m\u001b[0;34m*\u001b[0m\u001b[0margs\u001b[0m\u001b[0;34m,\u001b[0m \u001b[0;34m**\u001b[0m\u001b[0mkwargs\u001b[0m\u001b[0;34m)\u001b[0m\u001b[0;34m\u001b[0m\u001b[0;34m\u001b[0m\u001b[0m\n\u001b[0m\u001b[1;32m    332\u001b[0m \u001b[0;34m\u001b[0m\u001b[0m\n\u001b[1;32m    333\u001b[0m         \u001b[0;31m# error: \"Callable[[VarArg(Any), KwArg(Any)], Any]\" has no\u001b[0m\u001b[0;34m\u001b[0m\u001b[0;34m\u001b[0m\u001b[0m\n",
      "\u001b[0;32m/usr/local/lib/python3.10/dist-packages/pandas/core/generic.py\u001b[0m in \u001b[0;36many\u001b[0;34m(self, axis, bool_only, skipna, level, **kwargs)\u001b[0m\n\u001b[1;32m  11612\u001b[0m         )\n\u001b[1;32m  11613\u001b[0m         \u001b[0;32mdef\u001b[0m \u001b[0many\u001b[0m\u001b[0;34m(\u001b[0m\u001b[0mself\u001b[0m\u001b[0;34m,\u001b[0m \u001b[0maxis\u001b[0m\u001b[0;34m=\u001b[0m\u001b[0;36m0\u001b[0m\u001b[0;34m,\u001b[0m \u001b[0mbool_only\u001b[0m\u001b[0;34m=\u001b[0m\u001b[0;32mNone\u001b[0m\u001b[0;34m,\u001b[0m \u001b[0mskipna\u001b[0m\u001b[0;34m=\u001b[0m\u001b[0;32mTrue\u001b[0m\u001b[0;34m,\u001b[0m \u001b[0mlevel\u001b[0m\u001b[0;34m=\u001b[0m\u001b[0;32mNone\u001b[0m\u001b[0;34m,\u001b[0m \u001b[0;34m**\u001b[0m\u001b[0mkwargs\u001b[0m\u001b[0;34m)\u001b[0m\u001b[0;34m:\u001b[0m\u001b[0;34m\u001b[0m\u001b[0;34m\u001b[0m\u001b[0m\n\u001b[0;32m> 11614\u001b[0;31m             \u001b[0;32mreturn\u001b[0m \u001b[0mNDFrame\u001b[0m\u001b[0;34m.\u001b[0m\u001b[0many\u001b[0m\u001b[0;34m(\u001b[0m\u001b[0mself\u001b[0m\u001b[0;34m,\u001b[0m \u001b[0maxis\u001b[0m\u001b[0;34m,\u001b[0m \u001b[0mbool_only\u001b[0m\u001b[0;34m,\u001b[0m \u001b[0mskipna\u001b[0m\u001b[0;34m,\u001b[0m \u001b[0mlevel\u001b[0m\u001b[0;34m,\u001b[0m \u001b[0;34m**\u001b[0m\u001b[0mkwargs\u001b[0m\u001b[0;34m)\u001b[0m\u001b[0;34m\u001b[0m\u001b[0;34m\u001b[0m\u001b[0m\n\u001b[0m\u001b[1;32m  11615\u001b[0m \u001b[0;34m\u001b[0m\u001b[0m\n\u001b[1;32m  11616\u001b[0m         \u001b[0msetattr\u001b[0m\u001b[0;34m(\u001b[0m\u001b[0mcls\u001b[0m\u001b[0;34m,\u001b[0m \u001b[0;34m\"any\"\u001b[0m\u001b[0;34m,\u001b[0m \u001b[0many\u001b[0m\u001b[0;34m)\u001b[0m\u001b[0;34m\u001b[0m\u001b[0;34m\u001b[0m\u001b[0m\n",
      "\u001b[0;32m/usr/local/lib/python3.10/dist-packages/pandas/core/generic.py\u001b[0m in \u001b[0;36many\u001b[0;34m(self, axis, bool_only, skipna, level, **kwargs)\u001b[0m\n\u001b[1;32m  11172\u001b[0m         \u001b[0;34m**\u001b[0m\u001b[0mkwargs\u001b[0m\u001b[0;34m,\u001b[0m\u001b[0;34m\u001b[0m\u001b[0;34m\u001b[0m\u001b[0m\n\u001b[1;32m  11173\u001b[0m     ) -> DataFrame | Series | bool_t:\n\u001b[0;32m> 11174\u001b[0;31m         return self._logical_func(\n\u001b[0m\u001b[1;32m  11175\u001b[0m             \u001b[0;34m\"any\"\u001b[0m\u001b[0;34m,\u001b[0m \u001b[0mnanops\u001b[0m\u001b[0;34m.\u001b[0m\u001b[0mnanany\u001b[0m\u001b[0;34m,\u001b[0m \u001b[0maxis\u001b[0m\u001b[0;34m,\u001b[0m \u001b[0mbool_only\u001b[0m\u001b[0;34m,\u001b[0m \u001b[0mskipna\u001b[0m\u001b[0;34m,\u001b[0m \u001b[0mlevel\u001b[0m\u001b[0;34m,\u001b[0m \u001b[0;34m**\u001b[0m\u001b[0mkwargs\u001b[0m\u001b[0;34m\u001b[0m\u001b[0;34m\u001b[0m\u001b[0m\n\u001b[1;32m  11176\u001b[0m         )\n",
      "\u001b[0;32m/usr/local/lib/python3.10/dist-packages/pandas/core/generic.py\u001b[0m in \u001b[0;36m_logical_func\u001b[0;34m(self, name, func, axis, bool_only, skipna, level, **kwargs)\u001b[0m\n\u001b[1;32m  11155\u001b[0m             \u001b[0;32mreturn\u001b[0m \u001b[0mobj\u001b[0m\u001b[0;34m.\u001b[0m\u001b[0m_reduce_axis1\u001b[0m\u001b[0;34m(\u001b[0m\u001b[0mname\u001b[0m\u001b[0;34m,\u001b[0m \u001b[0mfunc\u001b[0m\u001b[0;34m,\u001b[0m \u001b[0mskipna\u001b[0m\u001b[0;34m=\u001b[0m\u001b[0mskipna\u001b[0m\u001b[0;34m)\u001b[0m\u001b[0;34m\u001b[0m\u001b[0;34m\u001b[0m\u001b[0m\n\u001b[1;32m  11156\u001b[0m \u001b[0;34m\u001b[0m\u001b[0m\n\u001b[0;32m> 11157\u001b[0;31m         return self._reduce(\n\u001b[0m\u001b[1;32m  11158\u001b[0m             \u001b[0mfunc\u001b[0m\u001b[0;34m,\u001b[0m\u001b[0;34m\u001b[0m\u001b[0;34m\u001b[0m\u001b[0m\n\u001b[1;32m  11159\u001b[0m             \u001b[0mname\u001b[0m\u001b[0;34m=\u001b[0m\u001b[0mname\u001b[0m\u001b[0;34m,\u001b[0m\u001b[0;34m\u001b[0m\u001b[0;34m\u001b[0m\u001b[0m\n",
      "\u001b[0;32m/usr/local/lib/python3.10/dist-packages/pandas/core/series.py\u001b[0m in \u001b[0;36m_reduce\u001b[0;34m(self, op, name, axis, skipna, numeric_only, filter_type, **kwds)\u001b[0m\n\u001b[1;32m   4813\u001b[0m                     \u001b[0;34mf\"Series.{name} does not implement {kwd_name}.\"\u001b[0m\u001b[0;34m\u001b[0m\u001b[0;34m\u001b[0m\u001b[0m\n\u001b[1;32m   4814\u001b[0m                 )\n\u001b[0;32m-> 4815\u001b[0;31m             \u001b[0;32mwith\u001b[0m \u001b[0mnp\u001b[0m\u001b[0;34m.\u001b[0m\u001b[0merrstate\u001b[0m\u001b[0;34m(\u001b[0m\u001b[0mall\u001b[0m\u001b[0;34m=\u001b[0m\u001b[0;34m\"ignore\"\u001b[0m\u001b[0;34m)\u001b[0m\u001b[0;34m:\u001b[0m\u001b[0;34m\u001b[0m\u001b[0;34m\u001b[0m\u001b[0m\n\u001b[0m\u001b[1;32m   4816\u001b[0m                 \u001b[0;32mreturn\u001b[0m \u001b[0mop\u001b[0m\u001b[0;34m(\u001b[0m\u001b[0mdelegate\u001b[0m\u001b[0;34m,\u001b[0m \u001b[0mskipna\u001b[0m\u001b[0;34m=\u001b[0m\u001b[0mskipna\u001b[0m\u001b[0;34m,\u001b[0m \u001b[0;34m**\u001b[0m\u001b[0mkwds\u001b[0m\u001b[0;34m)\u001b[0m\u001b[0;34m\u001b[0m\u001b[0;34m\u001b[0m\u001b[0m\n\u001b[1;32m   4817\u001b[0m \u001b[0;34m\u001b[0m\u001b[0m\n",
      "\u001b[0;32m/usr/local/lib/python3.10/dist-packages/numpy/core/_ufunc_config.py\u001b[0m in \u001b[0;36m__exit__\u001b[0;34m(self, *exc_info)\u001b[0m\n\u001b[1;32m    433\u001b[0m \u001b[0;34m\u001b[0m\u001b[0m\n\u001b[1;32m    434\u001b[0m     \u001b[0;32mdef\u001b[0m \u001b[0m__exit__\u001b[0m\u001b[0;34m(\u001b[0m\u001b[0mself\u001b[0m\u001b[0;34m,\u001b[0m \u001b[0;34m*\u001b[0m\u001b[0mexc_info\u001b[0m\u001b[0;34m)\u001b[0m\u001b[0;34m:\u001b[0m\u001b[0;34m\u001b[0m\u001b[0;34m\u001b[0m\u001b[0m\n\u001b[0;32m--> 435\u001b[0;31m         \u001b[0mseterr\u001b[0m\u001b[0;34m(\u001b[0m\u001b[0;34m**\u001b[0m\u001b[0mself\u001b[0m\u001b[0;34m.\u001b[0m\u001b[0moldstate\u001b[0m\u001b[0;34m)\u001b[0m\u001b[0;34m\u001b[0m\u001b[0;34m\u001b[0m\u001b[0m\n\u001b[0m\u001b[1;32m    436\u001b[0m         \u001b[0;32mif\u001b[0m \u001b[0mself\u001b[0m\u001b[0;34m.\u001b[0m\u001b[0mcall\u001b[0m \u001b[0;32mis\u001b[0m \u001b[0;32mnot\u001b[0m \u001b[0m_Unspecified\u001b[0m\u001b[0;34m:\u001b[0m\u001b[0;34m\u001b[0m\u001b[0;34m\u001b[0m\u001b[0m\n\u001b[1;32m    437\u001b[0m             \u001b[0mseterrcall\u001b[0m\u001b[0;34m(\u001b[0m\u001b[0mself\u001b[0m\u001b[0;34m.\u001b[0m\u001b[0moldcall\u001b[0m\u001b[0;34m)\u001b[0m\u001b[0;34m\u001b[0m\u001b[0;34m\u001b[0m\u001b[0m\n",
      "\u001b[0;32m/usr/local/lib/python3.10/dist-packages/numpy/core/_ufunc_config.py\u001b[0m in \u001b[0;36mseterr\u001b[0;34m(all, divide, over, under, invalid)\u001b[0m\n\u001b[1;32m    125\u001b[0m \u001b[0;34m\u001b[0m\u001b[0m\n\u001b[1;32m    126\u001b[0m     \u001b[0mpyvals\u001b[0m\u001b[0;34m[\u001b[0m\u001b[0;36m1\u001b[0m\u001b[0;34m]\u001b[0m \u001b[0;34m=\u001b[0m \u001b[0mmaskvalue\u001b[0m\u001b[0;34m\u001b[0m\u001b[0;34m\u001b[0m\u001b[0m\n\u001b[0;32m--> 127\u001b[0;31m     \u001b[0mumath\u001b[0m\u001b[0;34m.\u001b[0m\u001b[0mseterrobj\u001b[0m\u001b[0;34m(\u001b[0m\u001b[0mpyvals\u001b[0m\u001b[0;34m)\u001b[0m\u001b[0;34m\u001b[0m\u001b[0;34m\u001b[0m\u001b[0m\n\u001b[0m\u001b[1;32m    128\u001b[0m     \u001b[0;32mreturn\u001b[0m \u001b[0mold\u001b[0m\u001b[0;34m\u001b[0m\u001b[0;34m\u001b[0m\u001b[0m\n\u001b[1;32m    129\u001b[0m \u001b[0;34m\u001b[0m\u001b[0m\n",
      "\u001b[0;31mKeyboardInterrupt\u001b[0m: "
     ]
    }
   ],
   "source": [
    "#catboost random hyperparameter search\n",
    "import random\n",
    "best_accuracy = 0\n",
    "best_accuracy_train = 0\n",
    "best_parameters = {}\n",
    "acc_list = []\n",
    "for i in range(5000):\n",
    "    print(i)\n",
    "    cat = CatBoostClassifier(iterations = random.randint(10, 100), \n",
    "                             learning_rate = random.uniform(.01, .10), \n",
    "                             depth = random.randint(1, 10), task_type=\"GPU\", verbose=False)\n",
    "    cat.fit(pool_train,plot=False)\n",
    "    \n",
    "    y_pred = cat.predict(pool_test)\n",
    "    predictions = [round(value) for value in y_pred]\n",
    "    accuracy = accuracy_score(y_valid, predictions)\n",
    "    print(\"Accuracy: %.2f%%\" % (accuracy * 100.0))\n",
    "\n",
    "    y_pred_train = cat.predict(pool_train)\n",
    "    predictions_train = [round(value) for value in y_pred_train]\n",
    "    train_accuracy = accuracy_score(y_train, predictions_train)\n",
    "    print(\"Train Accuracy: %.2f%%\" % (train_accuracy * 100.0))\n",
    "    \n",
    "    if (accuracy * 100.0 > best_accuracy):\n",
    "        print(\"New highest Accuracy: %.2f%%\" % (accuracy * 100.0))\n",
    "        print(\"Train Accuracy: %.2f%%\" % (train_accuracy * 100.0))\n",
    "        best_accuracy = accuracy * 100\n",
    "        best_parameters = {accuracy*100.0: params}\n",
    "        acc_list.append((best_accuracy, train_accuracy*100.0, params))"
   ]
  },
  {
   "cell_type": "code",
   "execution_count": null,
   "metadata": {
    "id": "_LsnDd1VV_co"
   },
   "outputs": [],
   "source": [
    "#modify test file\n",
    "df_test = pd.read_csv('edx_test.csv')\n",
    "df_test_reg = df_test\n",
    "df_test_reg['LoE_DI'] = df_test['LoE_DI'].fillna('None')\n",
    "df_test_reg['gender'] = df_test_reg['gender'].fillna('None')\n",
    "# df_test_reg['date_diff'] = (pd.to_datetime(df_test_reg['last_event_DI'], infer_datetime_format=True) - pd.to_datetime(df_test_reg['start_time_DI'], infer_datetime_format=True))\n",
    "# df_test_reg['date_diff'] = df_test_reg['date_diff'].dt.days\n",
    "# df_test_reg['date_diff'] = df_test_reg['date_diff'].fillna(0)\n",
    "df_test_reg['start_time_DI'] = df_test_reg['start_time_DI'].fillna('None')\n",
    "df_test_reg['last_event_DI'] = df_test_reg['last_event_DI'].fillna('None')\n",
    "df_test_reg\n",
    "pool_test = Pool(df_test_reg, cat_features = ['course_id','userid_DI','registered','viewed','explored','final_cc_cname_DI','LoE_DI','gender','start_time_DI','last_event_DI'])"
   ]
  },
  {
   "cell_type": "code",
   "execution_count": null,
   "metadata": {
    "id": "6gin3J0tWC1p"
   },
   "outputs": [],
   "source": [
    "#save predictions\n",
    "cb_pred = cat.predict(df_test_reg)\n",
    "predictions = [round(value) for value in cb_pred]\n",
    "to_save = df_test[['userid_DI']].copy()\n",
    "to_save.loc[:, 'certified'] = predictions\n",
    "to_save.to_csv('submission.csv', index=False)"
   ]
  },
  {
   "cell_type": "markdown",
   "metadata": {
    "id": "aOwxTjy3OPh6"
   },
   "source": [
    "### **Discussion**\n",
    "\n"
   ]
  },
  {
   "cell_type": "markdown",
   "metadata": {
    "id": "1QFdF3wSXLgd"
   },
   "source": [
    "Decision Tree Classifier:\n",
    "The first model we tried was a Decision Tree classifier. There were a few columns with several null observations, so we restricted the features to the ones we thought were important (as discussed in the next section). The hyperparameters we used were the maximum tree depth and the minimum samples in leaf nodes, which seemed important to prevent the tree from growing too complex.\n",
    "\n",
    "XGBoost & Catboost:\n",
    "\n",
    "We implemented our own randomsearch for the hyperparameters of XGBoost & Catboost. We created our own implementation as we had to use the non-sklearn API for their objects in order to for them to handle categorical data more easily. We let these searches run for thousands of iterations each, but they never managed to produce a set of hyperparameters which improved either model's validation accuracy past their default parameters.\n"
   ]
  },
  {
   "cell_type": "markdown",
   "metadata": {
    "id": "4uCjBLL1Ow-Q"
   },
   "source": [
    "#### Feature Selection"
   ]
  },
  {
   "cell_type": "markdown",
   "metadata": {
    "id": "oOGdC9EGXKst"
   },
   "source": [
    "For the Decision Tree model, as mentioned above, we dropped columns that had a large number of missing values. The features we retained were ones that we thought were important and had no missing values: 'course_id', 'registered', 'viewed', 'explored', 'final_cc_cname_DI', 'nforum_posts'. From a contextual standpoint, we felt these features would have the highest likelihood of explaining whether a student would complete a course or not.\n",
    "\n",
    "\n",
    "For XGBoost and Catboost, we used all features available in the dataset. Dropping userid_DI had no effect on accuracy so we did not bother so as to avoid the hassle. XGboost automatically handled encoding categorical data without issue. Catboost also did, but required us to manually rename NAN elements in categorical columns to a string. We also tried calculating the difference in days between start time and last event, as having a small gap inbetween the start time and last event means that the user has not interacted with the course recently, and replacing NANs from this difference with 0 for 0 days. Intuitively this additional feature would be predictive of whether or not the user completed the certificate. Adding this feature slightly increased our xgboost accuracy, but slightly decreased our catboost accuracy, and since the default catboost validation accuracy was still the highest, we chose that as our final model. We also tried manually replacing predictions with 0 whenever last_event_DI was nan, but both XGBoost and Catboost managed to learn this rule perfectly as doing this resulted in identical accuracy to the models' original predictions. To detect which features were important, we iteratively dropped a feature and re-ran our XGboost model, but this had minimal effect on accuracy. We could have also tried dropping combinations of features, but felt this would take too long to run and be too complex.\n",
    "\n",
    "The final model we decided on was Catboost with default parameters. This achieved the highest validation accuracy of 97.6%. XGBoost with the added feature for day difference between start_time_DI and last_event_DI came in second. Our decision tree model came in last at 92.387%."
   ]
  }
 ],
 "metadata": {
  "accelerator": "GPU",
  "colab": {
   "gpuType": "T4",
   "provenance": []
  },
  "gpuClass": "standard",
  "kernelspec": {
   "display_name": "Python 3 (ipykernel)",
   "language": "python",
   "name": "python3"
  },
  "language_info": {
   "codemirror_mode": {
    "name": "ipython",
    "version": 3
   },
   "file_extension": ".py",
   "mimetype": "text/x-python",
   "name": "python",
   "nbconvert_exporter": "python",
   "pygments_lexer": "ipython3",
   "version": "3.11.4"
  },
  "widgets": {
   "application/vnd.jupyter.widget-state+json": {
    "11c3d1dcc894419cbcf12e28998dd7a1": {
     "model_module": "catboost-widget",
     "model_module_version": "^1.0.0",
     "model_name": "CatboostWidgetModel",
     "state": {
      "_dom_classes": [],
      "_model_module": "catboost-widget",
      "_model_module_version": "^1.0.0",
      "_model_name": "CatboostWidgetModel",
      "_view_count": null,
      "_view_module": "catboost-widget",
      "_view_module_version": "^1.0.0",
      "_view_name": "CatboostWidgetView",
      "data": {
       "catboost_info": {
        "content": {
         "data": {
          "iterations": [
           {
            "iteration": 0,
            "learn": [
             0.6293698593
            ],
            "passed_time": 0.05382434253,
            "remaining_time": 53.77051819
           },
           {
            "iteration": 1,
            "learn": [
             0.5716004934
            ],
            "passed_time": 0.09779385284,
            "remaining_time": 48.79913257
           },
           {
            "iteration": 2,
            "learn": [
             0.5268586399
            ],
            "passed_time": 0.1378408314,
            "remaining_time": 45.80910297
           },
           {
            "iteration": 3,
            "learn": [
             0.4797079624
            ],
            "passed_time": 0.1811171336,
            "remaining_time": 45.09816627
           },
           {
            "iteration": 4,
            "learn": [
             0.4394795045
            ],
            "passed_time": 0.2202825311,
            "remaining_time": 43.83622368
           },
           {
            "iteration": 5,
            "learn": [
             0.4032063268
            ],
            "passed_time": 0.2565530634,
            "remaining_time": 42.50229084
           },
           {
            "iteration": 6,
            "learn": [
             0.3782920304
            ],
            "passed_time": 0.2892417684,
            "remaining_time": 41.03101086
           },
           {
            "iteration": 7,
            "learn": [
             0.3545715698
            ],
            "passed_time": 0.3281626699,
            "remaining_time": 40.69217107
           },
           {
            "iteration": 8,
            "learn": [
             0.3286118525
            ],
            "passed_time": 0.3705327663,
            "remaining_time": 40.7997746
           },
           {
            "iteration": 9,
            "learn": [
             0.309977713
            ],
            "passed_time": 0.4154718189,
            "remaining_time": 41.13171007
           },
           {
            "iteration": 10,
            "learn": [
             0.288620043
            ],
            "passed_time": 0.4525268934,
            "remaining_time": 40.6862816
           },
           {
            "iteration": 11,
            "learn": [
             0.2696556202
            ],
            "passed_time": 0.4909543551,
            "remaining_time": 40.42190857
           },
           {
            "iteration": 12,
            "learn": [
             0.2524495083
            ],
            "passed_time": 0.530864221,
            "remaining_time": 40.30484508
           },
           {
            "iteration": 13,
            "learn": [
             0.2387287773
            ],
            "passed_time": 0.5733395828,
            "remaining_time": 40.37948776
           },
           {
            "iteration": 14,
            "learn": [
             0.2257717262
            ],
            "passed_time": 0.6287107501,
            "remaining_time": 41.28533926
           },
           {
            "iteration": 15,
            "learn": [
             0.2161925172
            ],
            "passed_time": 0.669333027,
            "remaining_time": 41.16398116
           },
           {
            "iteration": 16,
            "learn": [
             0.2068671712
            ],
            "passed_time": 0.7186266362,
            "remaining_time": 41.55352843
           },
           {
            "iteration": 17,
            "learn": [
             0.1976948051
            ],
            "passed_time": 0.7538410006,
            "remaining_time": 41.12621459
           },
           {
            "iteration": 18,
            "learn": [
             0.189545941
            ],
            "passed_time": 0.7932218432,
            "remaining_time": 40.95529622
           },
           {
            "iteration": 19,
            "learn": [
             0.1815714356
            ],
            "passed_time": 0.8339109745,
            "remaining_time": 40.86163775
           },
           {
            "iteration": 20,
            "learn": [
             0.1747686205
            ],
            "passed_time": 0.8747478478,
            "remaining_time": 40.77991157
           },
           {
            "iteration": 21,
            "learn": [
             0.1694681101
            ],
            "passed_time": 0.9246990779,
            "remaining_time": 41.10707719
           },
           {
            "iteration": 22,
            "learn": [
             0.1642751909
            ],
            "passed_time": 0.9636919883,
            "remaining_time": 40.93595968
           },
           {
            "iteration": 23,
            "learn": [
             0.1591174675
            ],
            "passed_time": 1.002221114,
            "remaining_time": 40.75699196
           },
           {
            "iteration": 24,
            "learn": [
             0.153472125
            ],
            "passed_time": 1.050970889,
            "remaining_time": 40.98786466
           },
           {
            "iteration": 25,
            "learn": [
             0.1480894794
            ],
            "passed_time": 1.096264704,
            "remaining_time": 41.06776236
           },
           {
            "iteration": 26,
            "learn": [
             0.143915349
            ],
            "passed_time": 1.134086158,
            "remaining_time": 40.86910488
           },
           {
            "iteration": 27,
            "learn": [
             0.1417676625
            ],
            "passed_time": 1.173447571,
            "remaining_time": 40.73539424
           },
           {
            "iteration": 28,
            "learn": [
             0.1377250373
            ],
            "passed_time": 1.212949045,
            "remaining_time": 40.61288009
           },
           {
            "iteration": 29,
            "learn": [
             0.1346283612
            ],
            "passed_time": 1.257713664,
            "remaining_time": 40.66607512
           },
           {
            "iteration": 30,
            "learn": [
             0.1316965829
            ],
            "passed_time": 1.298390989,
            "remaining_time": 40.58518931
           },
           {
            "iteration": 31,
            "learn": [
             0.1281481282
            ],
            "passed_time": 1.336862512,
            "remaining_time": 40.44009099
           },
           {
            "iteration": 32,
            "learn": [
             0.1249438435
            ],
            "passed_time": 1.376795225,
            "remaining_time": 40.34427219
           },
           {
            "iteration": 33,
            "learn": [
             0.1224929152
            ],
            "passed_time": 1.433247713,
            "remaining_time": 40.72109678
           },
           {
            "iteration": 34,
            "learn": [
             0.1204601727
            ],
            "passed_time": 1.481444729,
            "remaining_time": 40.84554753
           },
           {
            "iteration": 35,
            "learn": [
             0.1182007219
            ],
            "passed_time": 1.523010731,
            "remaining_time": 40.7828429
           },
           {
            "iteration": 36,
            "learn": [
             0.1160149821
            ],
            "passed_time": 1.559879207,
            "remaining_time": 40.59901829
           },
           {
            "iteration": 37,
            "learn": [
             0.114377278
            ],
            "passed_time": 1.597652,
            "remaining_time": 40.44582169
           },
           {
            "iteration": 38,
            "learn": [
             0.1125044239
            ],
            "passed_time": 1.638705016,
            "remaining_time": 40.37937231
           },
           {
            "iteration": 39,
            "learn": [
             0.1104295945
            ],
            "passed_time": 1.677585236,
            "remaining_time": 40.26204566
           },
           {
            "iteration": 40,
            "learn": [
             0.1088453114
            ],
            "passed_time": 1.71903764,
            "remaining_time": 40.20870968
           },
           {
            "iteration": 41,
            "learn": [
             0.1074448133
            ],
            "passed_time": 1.757635657,
            "remaining_time": 40.09083236
           },
           {
            "iteration": 42,
            "learn": [
             0.106007194
            ],
            "passed_time": 1.797584827,
            "remaining_time": 40.00671348
           },
           {
            "iteration": 43,
            "learn": [
             0.1051743508
            ],
            "passed_time": 1.836022907,
            "remaining_time": 39.89177044
           },
           {
            "iteration": 44,
            "learn": [
             0.1044839461
            ],
            "passed_time": 1.886983154,
            "remaining_time": 40.04597582
           },
           {
            "iteration": 45,
            "learn": [
             0.1028914216
            ],
            "passed_time": 1.930189121,
            "remaining_time": 40.03044395
           },
           {
            "iteration": 46,
            "learn": [
             0.1018244825
            ],
            "passed_time": 1.968739409,
            "remaining_time": 39.91933312
           },
           {
            "iteration": 47,
            "learn": [
             0.100322927
            ],
            "passed_time": 2.006225342,
            "remaining_time": 39.79013596
           },
           {
            "iteration": 48,
            "learn": [
             0.09907255137
            ],
            "passed_time": 2.046105009,
            "remaining_time": 39.71114007
           },
           {
            "iteration": 49,
            "learn": [
             0.0982350647
            ],
            "passed_time": 2.104387756,
            "remaining_time": 39.98336737
           },
           {
            "iteration": 50,
            "learn": [
             0.09741519337
            ],
            "passed_time": 2.148120381,
            "remaining_time": 39.9718871
           },
           {
            "iteration": 51,
            "learn": [
             0.09657364697
            ],
            "passed_time": 2.184217975,
            "remaining_time": 39.81997385
           },
           {
            "iteration": 52,
            "learn": [
             0.09588946256
            ],
            "passed_time": 2.22289206,
            "remaining_time": 39.71846757
           },
           {
            "iteration": 53,
            "learn": [
             0.09528763118
            ],
            "passed_time": 2.260345229,
            "remaining_time": 39.59789975
           },
           {
            "iteration": 54,
            "learn": [
             0.09480350548
            ],
            "passed_time": 2.298228151,
            "remaining_time": 39.48773822
           },
           {
            "iteration": 55,
            "learn": [
             0.09424546852
            ],
            "passed_time": 2.336207101,
            "remaining_time": 39.38177684
           },
           {
            "iteration": 56,
            "learn": [
             0.0935859299
            ],
            "passed_time": 2.377607388,
            "remaining_time": 39.33480293
           },
           {
            "iteration": 57,
            "learn": [
             0.09279413683
            ],
            "passed_time": 2.417407893,
            "remaining_time": 39.26203853
           },
           {
            "iteration": 58,
            "learn": [
             0.09221720389
            ],
            "passed_time": 2.45297774,
            "remaining_time": 39.12291615
           },
           {
            "iteration": 59,
            "learn": [
             0.09158731167
            ],
            "passed_time": 2.493717876,
            "remaining_time": 39.06824672
           },
           {
            "iteration": 60,
            "learn": [
             0.09108899438
            ],
            "passed_time": 2.553803677,
            "remaining_time": 39.31183037
           },
           {
            "iteration": 61,
            "learn": [
             0.09029478813
            ],
            "passed_time": 2.60455834,
            "remaining_time": 39.40444714
           },
           {
            "iteration": 62,
            "learn": [
             0.08971592987
            ],
            "passed_time": 2.64454225,
            "remaining_time": 39.33231886
           },
           {
            "iteration": 63,
            "learn": [
             0.08935816942
            ],
            "passed_time": 2.681744703,
            "remaining_time": 39.22051628
           },
           {
            "iteration": 64,
            "learn": [
             0.08870349201
            ],
            "passed_time": 2.718864124,
            "remaining_time": 39.10981471
           },
           {
            "iteration": 65,
            "learn": [
             0.0883471603
            ],
            "passed_time": 2.757252995,
            "remaining_time": 39.01930753
           },
           {
            "iteration": 66,
            "learn": [
             0.0878403751
            ],
            "passed_time": 2.795812687,
            "remaining_time": 38.93273488
           },
           {
            "iteration": 67,
            "learn": [
             0.08728891558
            ],
            "passed_time": 2.846311907,
            "remaining_time": 39.01121613
           },
           {
            "iteration": 68,
            "learn": [
             0.08655433317
            ],
            "passed_time": 2.893073847,
            "remaining_time": 39.03553264
           },
           {
            "iteration": 69,
            "learn": [
             0.08624297198
            ],
            "passed_time": 2.930953703,
            "remaining_time": 38.93981349
           },
           {
            "iteration": 70,
            "learn": [
             0.08580009685
            ],
            "passed_time": 2.968839689,
            "remaining_time": 38.84580382
           },
           {
            "iteration": 71,
            "learn": [
             0.08530831344
            ],
            "passed_time": 3.016310651,
            "remaining_time": 38.87689283
           },
           {
            "iteration": 72,
            "learn": [
             0.08509151928
            ],
            "passed_time": 3.053061329,
            "remaining_time": 38.76969661
           },
           {
            "iteration": 73,
            "learn": [
             0.08490435409
            ],
            "passed_time": 3.102697879,
            "remaining_time": 38.82565184
           },
           {
            "iteration": 74,
            "learn": [
             0.08451145879
            ],
            "passed_time": 3.140068303,
            "remaining_time": 38.72750907
           },
           {
            "iteration": 75,
            "learn": [
             0.08426542769
            ],
            "passed_time": 3.184909593,
            "remaining_time": 38.72179558
           },
           {
            "iteration": 76,
            "learn": [
             0.08386841169
            ],
            "passed_time": 3.223152823,
            "remaining_time": 38.63597475
           },
           {
            "iteration": 77,
            "learn": [
             0.08345255197
            ],
            "passed_time": 3.263793146,
            "remaining_time": 38.57970873
           },
           {
            "iteration": 78,
            "learn": [
             0.08316548811
            ],
            "passed_time": 3.302947138,
            "remaining_time": 38.5065103
           },
           {
            "iteration": 79,
            "learn": [
             0.08289197987
            ],
            "passed_time": 3.351432299,
            "remaining_time": 38.54147144
           },
           {
            "iteration": 80,
            "learn": [
             0.0825386276
            ],
            "passed_time": 3.389704743,
            "remaining_time": 38.45850196
           },
           {
            "iteration": 81,
            "learn": [
             0.08229338929
            ],
            "passed_time": 3.428172449,
            "remaining_time": 38.37880864
           },
           {
            "iteration": 82,
            "learn": [
             0.08198755141
            ],
            "passed_time": 3.471240939,
            "remaining_time": 38.35093904
           },
           {
            "iteration": 83,
            "learn": [
             0.08170230832
            ],
            "passed_time": 3.510483805,
            "remaining_time": 38.28099006
           },
           {
            "iteration": 84,
            "learn": [
             0.08128091658
            ],
            "passed_time": 3.560115161,
            "remaining_time": 38.32359261
           },
           {
            "iteration": 85,
            "learn": [
             0.08106014111
            ],
            "passed_time": 3.601018936,
            "remaining_time": 38.27129428
           },
           {
            "iteration": 86,
            "learn": [
             0.08070010687
            ],
            "passed_time": 3.643551236,
            "remaining_time": 38.23634803
           },
           {
            "iteration": 87,
            "learn": [
             0.08052559128
            ],
            "passed_time": 3.685981474,
            "remaining_time": 38.20017164
           },
           {
            "iteration": 88,
            "learn": [
             0.08023049509
            ],
            "passed_time": 3.724486915,
            "remaining_time": 38.12368067
           },
           {
            "iteration": 89,
            "learn": [
             0.08018053269
            ],
            "passed_time": 3.760139864,
            "remaining_time": 38.01919196
           },
           {
            "iteration": 90,
            "learn": [
             0.07989254537
            ],
            "passed_time": 3.799633827,
            "remaining_time": 37.95458405
           },
           {
            "iteration": 91,
            "learn": [
             0.07965932939
            ],
            "passed_time": 3.837469747,
            "remaining_time": 37.87415794
           },
           {
            "iteration": 92,
            "learn": [
             0.07926231339
            ],
            "passed_time": 3.884165819,
            "remaining_time": 37.88105804
           },
           {
            "iteration": 93,
            "learn": [
             0.07913662766
            ],
            "passed_time": 3.927390075,
            "remaining_time": 37.8533554
           },
           {
            "iteration": 94,
            "learn": [
             0.07891904072
            ],
            "passed_time": 3.965894468,
            "remaining_time": 37.78036309
           },
           {
            "iteration": 95,
            "learn": [
             0.07847592166
            ],
            "passed_time": 4.00389894,
            "remaining_time": 37.70338168
           },
           {
            "iteration": 96,
            "learn": [
             0.07834738716
            ],
            "passed_time": 4.040285636,
            "remaining_time": 37.6121436
           },
           {
            "iteration": 97,
            "learn": [
             0.07790566199
            ],
            "passed_time": 4.092991761,
            "remaining_time": 37.67223029
           },
           {
            "iteration": 98,
            "learn": [
             0.07767107825
            ],
            "passed_time": 4.135085053,
            "remaining_time": 37.63345083
           },
           {
            "iteration": 99,
            "learn": [
             0.0775034363
            ],
            "passed_time": 4.173893236,
            "remaining_time": 37.56503913
           },
           {
            "iteration": 100,
            "learn": [
             0.07727946358
            ],
            "passed_time": 4.213915589,
            "remaining_time": 37.50802093
           },
           {
            "iteration": 101,
            "learn": [
             0.07712214516
            ],
            "passed_time": 4.25192505,
            "remaining_time": 37.43361466
           },
           {
            "iteration": 102,
            "learn": [
             0.07698636241
            ],
            "passed_time": 4.289517415,
            "remaining_time": 37.35628273
           },
           {
            "iteration": 103,
            "learn": [
             0.07686127781
            ],
            "passed_time": 4.328950567,
            "remaining_time": 37.29557411
           },
           {
            "iteration": 104,
            "learn": [
             0.07658101789
            ],
            "passed_time": 4.379823193,
            "remaining_time": 37.33277865
           },
           {
            "iteration": 105,
            "learn": [
             0.07643499873
            ],
            "passed_time": 4.41826366,
            "remaining_time": 37.26346898
           },
           {
            "iteration": 106,
            "learn": [
             0.07633223385
            ],
            "passed_time": 4.456096313,
            "remaining_time": 37.18966362
           },
           {
            "iteration": 107,
            "learn": [
             0.07617210151
            ],
            "passed_time": 4.49577821,
            "remaining_time": 37.13179781
           },
           {
            "iteration": 108,
            "learn": [
             0.07598010996
            ],
            "passed_time": 4.533683127,
            "remaining_time": 37.05974005
           },
           {
            "iteration": 109,
            "learn": [
             0.07590109357
            ],
            "passed_time": 4.588058436,
            "remaining_time": 37.12156371
           },
           {
            "iteration": 110,
            "learn": [
             0.07558107281
            ],
            "passed_time": 4.628439552,
            "remaining_time": 37.06921407
           },
           {
            "iteration": 111,
            "learn": [
             0.07549817964
            ],
            "passed_time": 4.665687255,
            "remaining_time": 36.99223467
           },
           {
            "iteration": 112,
            "learn": [
             0.07544654456
            ],
            "passed_time": 4.703980087,
            "remaining_time": 36.92416228
           },
           {
            "iteration": 113,
            "learn": [
             0.07538085728
            ],
            "passed_time": 4.747975325,
            "remaining_time": 36.90093104
           },
           {
            "iteration": 114,
            "learn": [
             0.07537827858
            ],
            "passed_time": 4.783000849,
            "remaining_time": 36.80831088
           },
           {
            "iteration": 115,
            "learn": [
             0.07525215726
            ],
            "passed_time": 4.827036492,
            "remaining_time": 36.78534706
           },
           {
            "iteration": 116,
            "learn": [
             0.07495536227
            ],
            "passed_time": 4.872987816,
            "remaining_time": 36.7764807
           },
           {
            "iteration": 117,
            "learn": [
             0.07487552696
            ],
            "passed_time": 4.911079284,
            "remaining_time": 36.70823668
           },
           {
            "iteration": 118,
            "learn": [
             0.0747662195
            ],
            "passed_time": 4.94859627,
            "remaining_time": 36.63624634
           },
           {
            "iteration": 119,
            "learn": [
             0.07468363996
            ],
            "passed_time": 4.988523338,
            "remaining_time": 36.58250448
           },
           {
            "iteration": 120,
            "learn": [
             0.07456607367
            ],
            "passed_time": 5.030708603,
            "remaining_time": 36.54539556
           },
           {
            "iteration": 121,
            "learn": [
             0.07449930612
            ],
            "passed_time": 5.08083735,
            "remaining_time": 36.56537044
           },
           {
            "iteration": 122,
            "learn": [
             0.07437697445
            ],
            "passed_time": 5.128506835,
            "remaining_time": 36.56667069
           },
           {
            "iteration": 123,
            "learn": [
             0.0743415434
            ],
            "passed_time": 5.166843162,
            "remaining_time": 36.50124685
           },
           {
            "iteration": 124,
            "learn": [
             0.07420956772
            ],
            "passed_time": 5.207079854,
            "remaining_time": 36.44955898
           },
           {
            "iteration": 125,
            "learn": [
             0.07406589204
            ],
            "passed_time": 5.257085248,
            "remaining_time": 36.46581355
           },
           {
            "iteration": 126,
            "learn": [
             0.07389416424
            ],
            "passed_time": 5.295390786,
            "remaining_time": 36.40059966
           },
           {
            "iteration": 127,
            "learn": [
             0.07376638767
            ],
            "passed_time": 5.334883011,
            "remaining_time": 36.34389051
           },
           {
            "iteration": 128,
            "learn": [
             0.07361775495
            ],
            "passed_time": 5.374727622,
            "remaining_time": 36.28982759
           },
           {
            "iteration": 129,
            "learn": [
             0.07358667982
            ],
            "passed_time": 5.422028486,
            "remaining_time": 36.28588294
           },
           {
            "iteration": 130,
            "learn": [
             0.07351533855
            ],
            "passed_time": 5.467329732,
            "remaining_time": 36.26801173
           },
           {
            "iteration": 131,
            "learn": [
             0.0733619666
            ],
            "passed_time": 5.507136399,
            "remaining_time": 36.2135939
           },
           {
            "iteration": 132,
            "learn": [
             0.07320226985
            ],
            "passed_time": 5.56442164,
            "remaining_time": 36.27333505
           },
           {
            "iteration": 133,
            "learn": [
             0.07305749648
            ],
            "passed_time": 5.61214298,
            "remaining_time": 36.26952105
           },
           {
            "iteration": 134,
            "learn": [
             0.07293881507
            ],
            "passed_time": 5.691796525,
            "remaining_time": 36.46965922
           },
           {
            "iteration": 135,
            "learn": [
             0.07271732523
            ],
            "passed_time": 5.774168732,
            "remaining_time": 36.6829543
           },
           {
            "iteration": 136,
            "learn": [
             0.07250395047
            ],
            "passed_time": 5.856524075,
            "remaining_time": 36.89182684
           },
           {
            "iteration": 137,
            "learn": [
             0.07237386091
            ],
            "passed_time": 6.015202105,
            "remaining_time": 37.57321895
           },
           {
            "iteration": 138,
            "learn": [
             0.07229363357
            ],
            "passed_time": 6.176863435,
            "remaining_time": 38.261003
           },
           {
            "iteration": 139,
            "learn": [
             0.07212139176
            ],
            "passed_time": 6.295865389,
            "remaining_time": 38.67460167
           },
           {
            "iteration": 140,
            "learn": [
             0.07190414024
            ],
            "passed_time": 6.470468593,
            "remaining_time": 39.41937958
           },
           {
            "iteration": 141,
            "learn": [
             0.07171439634
            ],
            "passed_time": 6.637126047,
            "remaining_time": 40.10319823
           },
           {
            "iteration": 142,
            "learn": [
             0.07155878109
            ],
            "passed_time": 6.795218753,
            "remaining_time": 40.72379351
           },
           {
            "iteration": 143,
            "learn": [
             0.07152257032
            ],
            "passed_time": 6.953512703,
            "remaining_time": 41.33476996
           },
           {
            "iteration": 144,
            "learn": [
             0.0714113419
            ],
            "passed_time": 7.118315613,
            "remaining_time": 41.9735162
           },
           {
            "iteration": 145,
            "learn": [
             0.07118315265
            ],
            "passed_time": 7.283930251,
            "remaining_time": 42.60600298
           },
           {
            "iteration": 146,
            "learn": [
             0.07102945836
            ],
            "passed_time": 7.441043582,
            "remaining_time": 43.17830051
           },
           {
            "iteration": 147,
            "learn": [
             0.07080235809
            ],
            "passed_time": 7.619496455,
            "remaining_time": 43.8635877
           },
           {
            "iteration": 148,
            "learn": [
             0.07071047866
            ],
            "passed_time": 7.783867767,
            "remaining_time": 44.4568555
           },
           {
            "iteration": 149,
            "learn": [
             0.07061328501
            ],
            "passed_time": 7.937612251,
            "remaining_time": 44.97980275
           },
           {
            "iteration": 150,
            "learn": [
             0.07056770031
            ],
            "passed_time": 8.026222711,
            "remaining_time": 45.12757008
           },
           {
            "iteration": 151,
            "learn": [
             0.07051882252
            ],
            "passed_time": 8.084951932,
            "remaining_time": 45.1055213
           },
           {
            "iteration": 152,
            "learn": [
             0.07035021356
            ],
            "passed_time": 8.142872787,
            "remaining_time": 45.07851798
           },
           {
            "iteration": 153,
            "learn": [
             0.07020324481
            ],
            "passed_time": 8.191978765,
            "remaining_time": 45.00268854
           },
           {
            "iteration": 154,
            "learn": [
             0.07017438248
            ],
            "passed_time": 8.22267984,
            "remaining_time": 44.82686752
           },
           {
            "iteration": 155,
            "learn": [
             0.07008412345
            ],
            "passed_time": 8.263266693,
            "remaining_time": 44.70639159
           },
           {
            "iteration": 156,
            "learn": [
             0.07000092102
            ],
            "passed_time": 8.305836471,
            "remaining_time": 44.59758054
           },
           {
            "iteration": 157,
            "learn": [
             0.06988724892
            ],
            "passed_time": 8.358473011,
            "remaining_time": 44.54325491
           },
           {
            "iteration": 158,
            "learn": [
             0.06979381878
            ],
            "passed_time": 8.395714986,
            "remaining_time": 44.40752392
           },
           {
            "iteration": 159,
            "learn": [
             0.06960961998
            ],
            "passed_time": 8.446686946,
            "remaining_time": 44.34510647
           },
           {
            "iteration": 160,
            "learn": [
             0.06953009829
            ],
            "passed_time": 8.483989941,
            "remaining_time": 44.21159976
           },
           {
            "iteration": 161,
            "learn": [
             0.06952132547
            ],
            "passed_time": 8.524820455,
            "remaining_time": 44.09752803
           },
           {
            "iteration": 162,
            "learn": [
             0.06943845844
            ],
            "passed_time": 8.568535619,
            "remaining_time": 43.99916757
           },
           {
            "iteration": 163,
            "learn": [
             0.06941943614
            ],
            "passed_time": 8.61268007,
            "remaining_time": 43.90366182
           },
           {
            "iteration": 164,
            "learn": [
             0.06932957786
            ],
            "passed_time": 8.654900337,
            "remaining_time": 43.7990411
           },
           {
            "iteration": 165,
            "learn": [
             0.06930520213
            ],
            "passed_time": 8.693590982,
            "remaining_time": 43.67743903
           },
           {
            "iteration": 166,
            "learn": [
             0.06921324429
            ],
            "passed_time": 8.73294377,
            "remaining_time": 43.5601327
           },
           {
            "iteration": 167,
            "learn": [
             0.06915392101
            ],
            "passed_time": 8.772538664,
            "remaining_time": 43.44495338
           },
           {
            "iteration": 168,
            "learn": [
             0.0690881379
            ],
            "passed_time": 8.818322057,
            "remaining_time": 43.3610984
           },
           {
            "iteration": 169,
            "learn": [
             0.06907368931
            ],
            "passed_time": 8.856747994,
            "remaining_time": 43.24176962
           },
           {
            "iteration": 170,
            "learn": [
             0.06902007665
            ],
            "passed_time": 8.907106671,
            "remaining_time": 43.18123643
           },
           {
            "iteration": 171,
            "learn": [
             0.06896812358
            ],
            "passed_time": 8.947503509,
            "remaining_time": 43.07286573
           },
           {
            "iteration": 172,
            "learn": [
             0.06884652807
            ],
            "passed_time": 8.992007546,
            "remaining_time": 42.98491469
           },
           {
            "iteration": 173,
            "learn": [
             0.06875253166
            ],
            "passed_time": 9.031958271,
            "remaining_time": 42.87584788
           },
           {
            "iteration": 174,
            "learn": [
             0.06868447476
            ],
            "passed_time": 9.071741124,
            "remaining_time": 42.76677958
           },
           {
            "iteration": 175,
            "learn": [
             0.06863449493
            ],
            "passed_time": 9.124743708,
            "remaining_time": 42.720391
           },
           {
            "iteration": 176,
            "learn": [
             0.0685249566
            ],
            "passed_time": 9.164149409,
            "remaining_time": 42.61070601
           },
           {
            "iteration": 177,
            "learn": [
             0.06847382245
            ],
            "passed_time": 9.216733859,
            "remaining_time": 42.56266984
           },
           {
            "iteration": 178,
            "learn": [
             0.06831313255
            ],
            "passed_time": 9.255757367,
            "remaining_time": 42.45238435
           },
           {
            "iteration": 179,
            "learn": [
             0.06827789315
            ],
            "passed_time": 9.295061162,
            "remaining_time": 42.34416751
           },
           {
            "iteration": 180,
            "learn": [
             0.06822040807
            ],
            "passed_time": 9.338680252,
            "remaining_time": 42.25623827
           },
           {
            "iteration": 181,
            "learn": [
             0.06815519123
            ],
            "passed_time": 9.376803068,
            "remaining_time": 42.14409291
           },
           {
            "iteration": 182,
            "learn": [
             0.06799923186
            ],
            "passed_time": 9.415613879,
            "remaining_time": 42.03582808
           },
           {
            "iteration": 183,
            "learn": [
             0.06788711483
            ],
            "passed_time": 9.460949255,
            "remaining_time": 41.95725322
           },
           {
            "iteration": 184,
            "learn": [
             0.06775785289
            ],
            "passed_time": 9.4991303,
            "remaining_time": 41.84751997
           },
           {
            "iteration": 185,
            "learn": [
             0.06765341099
            ],
            "passed_time": 9.538921489,
            "remaining_time": 41.74560264
           },
           {
            "iteration": 186,
            "learn": [
             0.06758578532
            ],
            "passed_time": 9.578548561,
            "remaining_time": 41.64363626
           },
           {
            "iteration": 187,
            "learn": [
             0.06745828318
            ],
            "passed_time": 9.629579411,
            "remaining_time": 41.59158767
           },
           {
            "iteration": 188,
            "learn": [
             0.06743260938
            ],
            "passed_time": 9.669164688,
            "remaining_time": 41.49043684
           },
           {
            "iteration": 189,
            "learn": [
             0.06733649164
            ],
            "passed_time": 9.706565119,
            "remaining_time": 41.38061972
           },
           {
            "iteration": 190,
            "learn": [
             0.0673082043
            ],
            "passed_time": 9.743546437,
            "remaining_time": 41.26978569
           },
           {
            "iteration": 191,
            "learn": [
             0.06715352121
            ],
            "passed_time": 9.780773444,
            "remaining_time": 41.16075491
           },
           {
            "iteration": 192,
            "learn": [
             0.06708773374
            ],
            "passed_time": 9.824597764,
            "remaining_time": 41.08005386
           },
           {
            "iteration": 193,
            "learn": [
             0.06706576248
            ],
            "passed_time": 9.865119603,
            "remaining_time": 40.98601237
           },
           {
            "iteration": 194,
            "learn": [
             0.06700192211
            ],
            "passed_time": 9.919279959,
            "remaining_time": 40.9488224
           },
           {
            "iteration": 195,
            "learn": [
             0.06692250933
            ],
            "passed_time": 9.957533468,
            "remaining_time": 40.84620872
           },
           {
            "iteration": 196,
            "learn": [
             0.06679247204
            ],
            "passed_time": 9.99561784,
            "remaining_time": 40.74355901
           },
           {
            "iteration": 197,
            "learn": [
             0.06674897381
            ],
            "passed_time": 10.03604593,
            "remaining_time": 40.65105474
           },
           {
            "iteration": 198,
            "learn": [
             0.06667130775
            ],
            "passed_time": 10.07635798,
            "remaining_time": 40.55860675
           },
           {
            "iteration": 199,
            "learn": [
             0.06662911631
            ],
            "passed_time": 10.11474139,
            "remaining_time": 40.45896558
           },
           {
            "iteration": 200,
            "learn": [
             0.06653523316
            ],
            "passed_time": 10.15522997,
            "remaining_time": 40.36830224
           },
           {
            "iteration": 201,
            "learn": [
             0.06638738015
            ],
            "passed_time": 10.20332185,
            "remaining_time": 40.30817246
           },
           {
            "iteration": 202,
            "learn": [
             0.0663259094
            ],
            "passed_time": 10.24462476,
            "remaining_time": 40.22150707
           },
           {
            "iteration": 203,
            "learn": [
             0.06622852409
            ],
            "passed_time": 10.28886588,
            "remaining_time": 40.14675117
           },
           {
            "iteration": 204,
            "learn": [
             0.06616009694
            ],
            "passed_time": 10.33021207,
            "remaining_time": 40.0610663
           },
           {
            "iteration": 205,
            "learn": [
             0.0660615486
            ],
            "passed_time": 10.36930881,
            "remaining_time": 39.96714173
           },
           {
            "iteration": 206,
            "learn": [
             0.06590812437
            ],
            "passed_time": 10.40915774,
            "remaining_time": 39.87662843
           },
           {
            "iteration": 207,
            "learn": [
             0.06571280926
            ],
            "passed_time": 10.46156375,
            "remaining_time": 39.83441581
           },
           {
            "iteration": 208,
            "learn": [
             0.06567943855
            ],
            "passed_time": 10.50085092,
            "remaining_time": 39.7424549
           },
           {
            "iteration": 209,
            "learn": [
             0.06556557479
            ],
            "passed_time": 10.53858427,
            "remaining_time": 39.64515035
           },
           {
            "iteration": 210,
            "learn": [
             0.06555048588
            ],
            "passed_time": 10.58112896,
            "remaining_time": 39.56640164
           },
           {
            "iteration": 211,
            "learn": [
             0.06550788063
            ],
            "passed_time": 10.62645332,
            "remaining_time": 39.49832649
           },
           {
            "iteration": 212,
            "learn": [
             0.06543979324
            ],
            "passed_time": 10.66743679,
            "remaining_time": 39.41442606
           },
           {
            "iteration": 213,
            "learn": [
             0.06535014404
            ],
            "passed_time": 10.71091573,
            "remaining_time": 39.34009235
           },
           {
            "iteration": 214,
            "learn": [
             0.06526732928
            ],
            "passed_time": 10.75122184,
            "remaining_time": 39.25446115
           },
           {
            "iteration": 215,
            "learn": [
             0.0651821057
            ],
            "passed_time": 10.80129841,
            "remaining_time": 39.20471274
           },
           {
            "iteration": 216,
            "learn": [
             0.06506029238
            ],
            "passed_time": 10.83873958,
            "remaining_time": 39.10936908
           },
           {
            "iteration": 217,
            "learn": [
             0.06498456906
            ],
            "passed_time": 10.87573886,
            "remaining_time": 39.0129715
           },
           {
            "iteration": 218,
            "learn": [
             0.06494727367
            ],
            "passed_time": 10.92903681,
            "remaining_time": 38.97524086
           },
           {
            "iteration": 219,
            "learn": [
             0.06492031053
            ],
            "passed_time": 10.9744457,
            "remaining_time": 38.90939839
           },
           {
            "iteration": 220,
            "learn": [
             0.06488915699
            ],
            "passed_time": 11.00985055,
            "remaining_time": 38.80847773
           },
           {
            "iteration": 221,
            "learn": [
             0.06478901002
            ],
            "passed_time": 11.05200598,
            "remaining_time": 38.73180475
           },
           {
            "iteration": 222,
            "learn": [
             0.06473383793
            ],
            "passed_time": 11.08997909,
            "remaining_time": 38.64086885
           },
           {
            "iteration": 223,
            "learn": [
             0.06466722284
            ],
            "passed_time": 11.13392152,
            "remaining_time": 38.57108528
           },
           {
            "iteration": 224,
            "learn": [
             0.06448709247
            ],
            "passed_time": 11.17202074,
            "remaining_time": 38.48140477
           },
           {
            "iteration": 225,
            "learn": [
             0.06442394033
            ],
            "passed_time": 11.22428723,
            "remaining_time": 38.44070052
           },
           {
            "iteration": 226,
            "learn": [
             0.06438376132
            ],
            "passed_time": 11.25962403,
            "remaining_time": 38.34224395
           },
           {
            "iteration": 227,
            "learn": [
             0.06429687378
            ],
            "passed_time": 11.29783839,
            "remaining_time": 38.25408439
           },
           {
            "iteration": 228,
            "learn": [
             0.06420350898
            ],
            "passed_time": 11.33786943,
            "remaining_time": 38.17247743
           },
           {
            "iteration": 229,
            "learn": [
             0.06412794248
            ],
            "passed_time": 11.37541147,
            "remaining_time": 38.08289925
           },
           {
            "iteration": 230,
            "learn": [
             0.06399071356
            ],
            "passed_time": 11.42703273,
            "remaining_time": 38.04064142
           },
           {
            "iteration": 231,
            "learn": [
             0.06385781007
            ],
            "passed_time": 11.46574607,
            "remaining_time": 37.9555732
           },
           {
            "iteration": 232,
            "learn": [
             0.06382062794
            ],
            "passed_time": 11.50433733,
            "remaining_time": 37.87050098
           },
           {
            "iteration": 233,
            "learn": [
             0.06378083225
            ],
            "passed_time": 11.54510054,
            "remaining_time": 37.79293595
           },
           {
            "iteration": 234,
            "learn": [
             0.06366411101
            ],
            "passed_time": 11.59474418,
            "remaining_time": 37.74459277
           },
           {
            "iteration": 235,
            "learn": [
             0.06358901058
            ],
            "passed_time": 11.63085632,
            "remaining_time": 37.65243318
           },
           {
            "iteration": 236,
            "learn": [
             0.06357342946
            ],
            "passed_time": 11.66721223,
            "remaining_time": 37.56153135
           },
           {
            "iteration": 237,
            "learn": [
             0.0634817896
            ],
            "passed_time": 11.70661308,
            "remaining_time": 37.48083684
           },
           {
            "iteration": 238,
            "learn": [
             0.06340917641
            ],
            "passed_time": 11.74877455,
            "remaining_time": 37.40927797
           },
           {
            "iteration": 239,
            "learn": [
             0.06321004116
            ],
            "passed_time": 11.78506387,
            "remaining_time": 37.31936891
           },
           {
            "iteration": 240,
            "learn": [
             0.06311678961
            ],
            "passed_time": 11.82952487,
            "remaining_time": 37.25564055
           },
           {
            "iteration": 241,
            "learn": [
             0.06309490111
            ],
            "passed_time": 11.86710699,
            "remaining_time": 37.17052521
           },
           {
            "iteration": 242,
            "learn": [
             0.06290810182
            ],
            "passed_time": 11.92691721,
            "remaining_time": 37.15504661
           },
           {
            "iteration": 243,
            "learn": [
             0.06286331861
            ],
            "passed_time": 11.97283062,
            "remaining_time": 37.09614733
           },
           {
            "iteration": 244,
            "learn": [
             0.0628192454
            ],
            "passed_time": 12.01305734,
            "remaining_time": 37.01982976
           },
           {
            "iteration": 245,
            "learn": [
             0.06279688211
            ],
            "passed_time": 12.055366,
            "remaining_time": 36.95018684
           },
           {
            "iteration": 246,
            "learn": [
             0.06267588335
            ],
            "passed_time": 12.09204972,
            "remaining_time": 36.86361717
           },
           {
            "iteration": 247,
            "learn": [
             0.06265284053
            ],
            "passed_time": 12.12997714,
            "remaining_time": 36.78122102
           },
           {
            "iteration": 248,
            "learn": [
             0.06258002261
            ],
            "passed_time": 12.16702482,
            "remaining_time": 36.69652867
           },
           {
            "iteration": 249,
            "learn": [
             0.06252832219
            ],
            "passed_time": 12.22125748,
            "remaining_time": 36.66377245
           },
           {
            "iteration": 250,
            "learn": [
             0.06247770204
            ],
            "passed_time": 12.26526262,
            "remaining_time": 36.60032551
           },
           {
            "iteration": 251,
            "learn": [
             0.06241062087
            ],
            "passed_time": 12.30351644,
            "remaining_time": 36.51996151
           },
           {
            "iteration": 252,
            "learn": [
             0.06238800058
            ],
            "passed_time": 12.34106556,
            "remaining_time": 36.43784968
           },
           {
            "iteration": 253,
            "learn": [
             0.06236752775
            ],
            "passed_time": 12.37930413,
            "remaining_time": 36.35811371
           },
           {
            "iteration": 254,
            "learn": [
             0.06234621859
            ],
            "passed_time": 12.42029198,
            "remaining_time": 36.28673539
           },
           {
            "iteration": 255,
            "learn": [
             0.06226895327
            ],
            "passed_time": 12.46106204,
            "remaining_time": 36.21496155
           },
           {
            "iteration": 256,
            "learn": [
             0.06221444764
            ],
            "passed_time": 12.50050442,
            "remaining_time": 36.1395906
           },
           {
            "iteration": 257,
            "learn": [
             0.06208080365
            ],
            "passed_time": 12.5488634,
            "remaining_time": 36.09014202
           },
           {
            "iteration": 258,
            "learn": [
             0.06203397315
            ],
            "passed_time": 12.58726815,
            "remaining_time": 36.01222278
           },
           {
            "iteration": 259,
            "learn": [
             0.06196079804
            ],
            "passed_time": 12.62802219,
            "remaining_time": 35.94129394
           },
           {
            "iteration": 260,
            "learn": [
             0.06190070376
            ],
            "passed_time": 12.66566245,
            "remaining_time": 35.86177988
           },
           {
            "iteration": 261,
            "learn": [
             0.06186686697
            ],
            "passed_time": 12.70266967,
            "remaining_time": 35.78080235
           },
           {
            "iteration": 262,
            "learn": [
             0.0618102313
            ],
            "passed_time": 12.74957708,
            "remaining_time": 35.72790231
           },
           {
            "iteration": 263,
            "learn": [
             0.06175938028
            ],
            "passed_time": 12.78855327,
            "remaining_time": 35.65293638
           },
           {
            "iteration": 264,
            "learn": [
             0.0616394618
            ],
            "passed_time": 12.83161083,
            "remaining_time": 35.5895621
           },
           {
            "iteration": 265,
            "learn": [
             0.06161281663
            ],
            "passed_time": 12.86924451,
            "remaining_time": 35.51137394
           },
           {
            "iteration": 266,
            "learn": [
             0.06151215131
            ],
            "passed_time": 12.93453253,
            "remaining_time": 35.50940953
           },
           {
            "iteration": 267,
            "learn": [
             0.06149071583
            ],
            "passed_time": 12.97117384,
            "remaining_time": 35.42872854
           },
           {
            "iteration": 268,
            "learn": [
             0.06142025446
            ],
            "passed_time": 13.00818661,
            "remaining_time": 35.34938443
           },
           {
            "iteration": 269,
            "learn": [
             0.06137823725
            ],
            "passed_time": 13.05592766,
            "remaining_time": 35.29935998
           },
           {
            "iteration": 270,
            "learn": [
             0.06127569888
            ],
            "passed_time": 13.0946449,
            "remaining_time": 35.22507798
           },
           {
            "iteration": 271,
            "learn": [
             0.06124528585
            ],
            "passed_time": 13.14113267,
            "remaining_time": 35.17185509
           },
           {
            "iteration": 272,
            "learn": [
             0.06117487675
            ],
            "passed_time": 13.18344387,
            "remaining_time": 35.10755932
           },
           {
            "iteration": 273,
            "learn": [
             0.06116211391
            ],
            "passed_time": 13.23082167,
            "remaining_time": 35.05684865
           },
           {
            "iteration": 274,
            "learn": [
             0.06102932803
            ],
            "passed_time": 13.27298105,
            "remaining_time": 34.99240458
           },
           {
            "iteration": 275,
            "learn": [
             0.06094132973
            ],
            "passed_time": 13.31291843,
            "remaining_time": 34.92229326
           },
           {
            "iteration": 276,
            "learn": [
             0.06072794625
            ],
            "passed_time": 13.35874539,
            "remaining_time": 34.86777228
           },
           {
            "iteration": 277,
            "learn": [
             0.06070278646
            ],
            "passed_time": 13.39760139,
            "remaining_time": 34.79520938
           },
           {
            "iteration": 278,
            "learn": [
             0.06066593973
            ],
            "passed_time": 13.43704746,
            "remaining_time": 34.72441296
           },
           {
            "iteration": 279,
            "learn": [
             0.06062350435
            ],
            "passed_time": 13.49085281,
            "remaining_time": 34.69076438
           },
           {
            "iteration": 280,
            "learn": [
             0.06050240976
            ],
            "passed_time": 13.53103869,
            "remaining_time": 34.6221239
           },
           {
            "iteration": 281,
            "learn": [
             0.06037109619
            ],
            "passed_time": 13.5697075,
            "remaining_time": 34.54982265
           },
           {
            "iteration": 282,
            "learn": [
             0.0602378573
            ],
            "passed_time": 13.60747458,
            "remaining_time": 34.47547447
           },
           {
            "iteration": 283,
            "learn": [
             0.06019791351
            ],
            "passed_time": 13.6463128,
            "remaining_time": 34.4040844
           },
           {
            "iteration": 284,
            "learn": [
             0.06017901317
            ],
            "passed_time": 13.68203181,
            "remaining_time": 34.32509736
           },
           {
            "iteration": 285,
            "learn": [
             0.06014761569
            ],
            "passed_time": 13.73139355,
            "remaining_time": 34.28047202
           },
           {
            "iteration": 286,
            "learn": [
             0.06014078561
            ],
            "passed_time": 13.76845536,
            "remaining_time": 34.20525669
           },
           {
            "iteration": 287,
            "learn": [
             0.06008998687
            ],
            "passed_time": 13.80949543,
            "remaining_time": 34.14014147
           },
           {
            "iteration": 288,
            "learn": [
             0.06007714561
            ],
            "passed_time": 13.84832755,
            "remaining_time": 34.06976086
           },
           {
            "iteration": 289,
            "learn": [
             0.06004722044
            ],
            "passed_time": 13.88016176,
            "remaining_time": 33.98246499
           },
           {
            "iteration": 290,
            "learn": [
             0.06000818704
            ],
            "passed_time": 13.93755736,
            "remaining_time": 33.95782875
           },
           {
            "iteration": 291,
            "learn": [
             0.05998185986
            ],
            "passed_time": 13.97487008,
            "remaining_time": 33.88427402
           },
           {
            "iteration": 292,
            "learn": [
             0.05995554139
            ],
            "passed_time": 14.01481711,
            "remaining_time": 33.8173232
           },
           {
            "iteration": 293,
            "learn": [
             0.0598149497
            ],
            "passed_time": 14.06419121,
            "remaining_time": 33.77319386
           },
           {
            "iteration": 294,
            "learn": [
             0.05979008611
            ],
            "passed_time": 14.1024515,
            "remaining_time": 33.70246883
           },
           {
            "iteration": 295,
            "learn": [
             0.05973435646
            ],
            "passed_time": 14.14586364,
            "remaining_time": 33.64421622
           },
           {
            "iteration": 296,
            "learn": [
             0.05967169219
            ],
            "passed_time": 14.18651337,
            "remaining_time": 33.57952491
           },
           {
            "iteration": 297,
            "learn": [
             0.05960271184
            ],
            "passed_time": 14.23871179,
            "remaining_time": 33.54220025
           },
           {
            "iteration": 298,
            "learn": [
             0.05945569952
            ],
            "passed_time": 14.27872562,
            "remaining_time": 33.47620957
           },
           {
            "iteration": 299,
            "learn": [
             0.05938760778
            ],
            "passed_time": 14.31821013,
            "remaining_time": 33.40915696
           },
           {
            "iteration": 300,
            "learn": [
             0.0593199734
            ],
            "passed_time": 14.36175647,
            "remaining_time": 33.35172019
           },
           {
            "iteration": 301,
            "learn": [
             0.05929987954
            ],
            "passed_time": 14.40157791,
            "remaining_time": 33.28576616
           },
           {
            "iteration": 302,
            "learn": [
             0.05924733843
            ],
            "passed_time": 14.44283694,
            "remaining_time": 33.22329158
           },
           {
            "iteration": 303,
            "learn": [
             0.05915293692
            ],
            "passed_time": 14.48195601,
            "remaining_time": 33.15605718
           },
           {
            "iteration": 304,
            "learn": [
             0.05900178648
            ],
            "passed_time": 14.52420067,
            "remaining_time": 33.0961294
           },
           {
            "iteration": 305,
            "learn": [
             0.05892094931
            ],
            "passed_time": 14.57267785,
            "remaining_time": 33.05045238
           },
           {
            "iteration": 306,
            "learn": [
             0.05884286944
            ],
            "passed_time": 14.62109588,
            "remaining_time": 33.0046236
           },
           {
            "iteration": 307,
            "learn": [
             0.05878214356
            ],
            "passed_time": 14.66963866,
            "remaining_time": 32.9590583
           },
           {
            "iteration": 308,
            "learn": [
             0.05865308635
            ],
            "passed_time": 14.70770491,
            "remaining_time": 32.89004561
           },
           {
            "iteration": 309,
            "learn": [
             0.0584681906
            ],
            "passed_time": 14.74697631,
            "remaining_time": 32.82391501
           },
           {
            "iteration": 310,
            "learn": [
             0.05839572986
            ],
            "passed_time": 14.79584999,
            "remaining_time": 32.77923036
           },
           {
            "iteration": 311,
            "learn": [
             0.05825248106
            ],
            "passed_time": 14.83505409,
            "remaining_time": 32.71319621
           },
           {
            "iteration": 312,
            "learn": [
             0.05821865298
            ],
            "passed_time": 14.87328193,
            "remaining_time": 32.64519069
           },
           {
            "iteration": 313,
            "learn": [
             0.05818012051
            ],
            "passed_time": 14.91226611,
            "remaining_time": 32.57902723
           },
           {
            "iteration": 314,
            "learn": [
             0.05816906519
            ],
            "passed_time": 14.97436065,
            "remaining_time": 32.56329222
           },
           {
            "iteration": 315,
            "learn": [
             0.05812574556
            ],
            "passed_time": 15.01868567,
            "remaining_time": 32.50880062
           },
           {
            "iteration": 316,
            "learn": [
             0.05809700955
            ],
            "passed_time": 15.05711983,
            "remaining_time": 32.44168089
           },
           {
            "iteration": 317,
            "learn": [
             0.05804531349
            ],
            "passed_time": 15.09767089,
            "remaining_time": 32.3792816
           },
           {
            "iteration": 318,
            "learn": [
             0.05798061936
            ],
            "passed_time": 15.143628,
            "remaining_time": 32.32856008
           },
           {
            "iteration": 319,
            "learn": [
             0.05790426008
            ],
            "passed_time": 15.18446437,
            "remaining_time": 32.26698679
           },
           {
            "iteration": 320,
            "learn": [
             0.05785201081
            ],
            "passed_time": 15.23256895,
            "remaining_time": 32.22091688
           },
           {
            "iteration": 321,
            "learn": [
             0.05768838502
            ],
            "passed_time": 15.27610333,
            "remaining_time": 32.16521136
           },
           {
            "iteration": 322,
            "learn": [
             0.05762724968
            ],
            "passed_time": 15.32567196,
            "remaining_time": 32.12222884
           },
           {
            "iteration": 323,
            "learn": [
             0.05749167165
            ],
            "passed_time": 15.37534848,
            "remaining_time": 32.07943078
           },
           {
            "iteration": 324,
            "learn": [
             0.05741692842
            ],
            "passed_time": 15.41365306,
            "remaining_time": 32.01297174
           },
           {
            "iteration": 325,
            "learn": [
             0.05738124472
            ],
            "passed_time": 15.46254994,
            "remaining_time": 31.96858484
           },
           {
            "iteration": 326,
            "learn": [
             0.05729232731
            ],
            "passed_time": 15.50105189,
            "remaining_time": 31.90277652
           },
           {
            "iteration": 327,
            "learn": [
             0.05722517209
            ],
            "passed_time": 15.54154773,
            "remaining_time": 31.84121973
           },
           {
            "iteration": 328,
            "learn": [
             0.05720371483
            ],
            "passed_time": 15.57881062,
            "remaining_time": 31.77319735
           },
           {
            "iteration": 329,
            "learn": [
             0.05712223298
            ],
            "passed_time": 15.62125558,
            "remaining_time": 31.71588255
           },
           {
            "iteration": 330,
            "learn": [
             0.05708193636
            ],
            "passed_time": 15.65945928,
            "remaining_time": 31.65008538
           },
           {
            "iteration": 331,
            "learn": [
             0.05702411152
            ],
            "passed_time": 15.70322548,
            "remaining_time": 31.59564645
           },
           {
            "iteration": 332,
            "learn": [
             0.0569973139
            ],
            "passed_time": 15.74087606,
            "remaining_time": 31.52902202
           },
           {
            "iteration": 333,
            "learn": [
             0.05694790033
            ],
            "passed_time": 15.78129203,
            "remaining_time": 31.4680853
           },
           {
            "iteration": 334,
            "learn": [
             0.05693175294
            ],
            "passed_time": 15.81037659,
            "remaining_time": 31.38477741
           },
           {
            "iteration": 335,
            "learn": [
             0.05688166857
            ],
            "passed_time": 15.85944823,
            "remaining_time": 31.34129054
           },
           {
            "iteration": 336,
            "learn": [
             0.05685781119
            ],
            "passed_time": 15.89649785,
            "remaining_time": 31.27411891
           },
           {
            "iteration": 337,
            "learn": [
             0.05674249691
            ],
            "passed_time": 15.95795794,
            "remaining_time": 31.25493538
           },
           {
            "iteration": 338,
            "learn": [
             0.05671104281
            ],
            "passed_time": 15.99956144,
            "remaining_time": 31.19678498
           },
           {
            "iteration": 339,
            "learn": [
             0.05669336213
            ],
            "passed_time": 16.03747309,
            "remaining_time": 31.13156541
           },
           {
            "iteration": 340,
            "learn": [
             0.05660284175
            ],
            "passed_time": 16.07750752,
            "remaining_time": 31.07060838
           },
           {
            "iteration": 341,
            "learn": [
             0.05657256374
            ],
            "passed_time": 16.1162838,
            "remaining_time": 31.00735304
           },
           {
            "iteration": 342,
            "learn": [
             0.05652348995
            ],
            "passed_time": 16.15672073,
            "remaining_time": 30.94742133
           },
           {
            "iteration": 343,
            "learn": [
             0.05643671566
            ],
            "passed_time": 16.19745302,
            "remaining_time": 30.88816622
           },
           {
            "iteration": 344,
            "learn": [
             0.05638186591
            ],
            "passed_time": 16.24237519,
            "remaining_time": 30.83697319
           },
           {
            "iteration": 345,
            "learn": [
             0.05634945786
            ],
            "passed_time": 16.28965872,
            "remaining_time": 30.79027977
           },
           {
            "iteration": 346,
            "learn": [
             0.05620344305
            ],
            "passed_time": 16.32579221,
            "remaining_time": 30.72260033
           },
           {
            "iteration": 347,
            "learn": [
             0.05616641773
            ],
            "passed_time": 16.36866707,
            "remaining_time": 30.66773256
           },
           {
            "iteration": 348,
            "learn": [
             0.05609420964
            ],
            "passed_time": 16.40478418,
            "remaining_time": 30.60032809
           },
           {
            "iteration": 349,
            "learn": [
             0.05599006829
            ],
            "passed_time": 16.44600554,
            "remaining_time": 30.54258172
           },
           {
            "iteration": 350,
            "learn": [
             0.0558942424
            ],
            "passed_time": 16.48482143,
            "remaining_time": 30.48048179
           },
           {
            "iteration": 351,
            "learn": [
             0.0558715045
            ],
            "passed_time": 16.53420904,
            "remaining_time": 30.43797573
           },
           {
            "iteration": 352,
            "learn": [
             0.05585008644
            ],
            "passed_time": 16.5762448,
            "remaining_time": 30.38195576
           },
           {
            "iteration": 353,
            "learn": [
             0.05583909645
            ],
            "passed_time": 16.61361327,
            "remaining_time": 30.31749767
           },
           {
            "iteration": 354,
            "learn": [
             0.05576510678
            ],
            "passed_time": 16.65353004,
            "remaining_time": 30.25782218
           },
           {
            "iteration": 355,
            "learn": [
             0.05570775674
            ],
            "passed_time": 16.69966404,
            "remaining_time": 30.20950461
           },
           {
            "iteration": 356,
            "learn": [
             0.05558708032
            ],
            "passed_time": 16.7390499,
            "remaining_time": 30.14904506
           },
           {
            "iteration": 357,
            "learn": [
             0.05553678686
            ],
            "passed_time": 16.78170191,
            "remaining_time": 30.09456041
           },
           {
            "iteration": 358,
            "learn": [
             0.05551857476
            ],
            "passed_time": 16.8193694,
            "remaining_time": 30.03124174
           },
           {
            "iteration": 359,
            "learn": [
             0.05541745642
            ],
            "passed_time": 16.85808769,
            "remaining_time": 29.96993368
           },
           {
            "iteration": 360,
            "learn": [
             0.05533411896
            ],
            "passed_time": 16.89838015,
            "remaining_time": 29.91153715
           },
           {
            "iteration": 361,
            "learn": [
             0.05532590805
            ],
            "passed_time": 16.96123406,
            "remaining_time": 29.89300367
           },
           {
            "iteration": 362,
            "learn": [
             0.05531584587
            ],
            "passed_time": 17.00569798,
            "remaining_time": 29.84195485
           },
           {
            "iteration": 363,
            "learn": [
             0.05530010357
            ],
            "passed_time": 17.0482714,
            "remaining_time": 29.78763905
           },
           {
            "iteration": 364,
            "learn": [
             0.05528612542
            ],
            "passed_time": 17.08726688,
            "remaining_time": 29.72716294
           },
           {
            "iteration": 365,
            "learn": [
             0.05525534214
            ],
            "passed_time": 17.12634964,
            "remaining_time": 29.66695539
           },
           {
            "iteration": 366,
            "learn": [
             0.05519082224
            ],
            "passed_time": 17.16534058,
            "remaining_time": 29.60670459
           },
           {
            "iteration": 367,
            "learn": [
             0.05514268932
            ],
            "passed_time": 17.20969322,
            "remaining_time": 29.55577749
           },
           {
            "iteration": 368,
            "learn": [
             0.05513288415
            ],
            "passed_time": 17.2650851,
            "remaining_time": 29.5237634
           },
           {
            "iteration": 369,
            "learn": [
             0.05506170405
            ],
            "passed_time": 17.30611562,
            "remaining_time": 29.46716983
           },
           {
            "iteration": 370,
            "learn": [
             0.05501676838
            ],
            "passed_time": 17.34907781,
            "remaining_time": 29.41393515
           },
           {
            "iteration": 371,
            "learn": [
             0.0549681171
            ],
            "passed_time": 17.3894851,
            "remaining_time": 29.35644259
           },
           {
            "iteration": 372,
            "learn": [
             0.0549424041
            ],
            "passed_time": 17.43204376,
            "remaining_time": 29.302658
           },
           {
            "iteration": 373,
            "learn": [
             0.05493610109
            ],
            "passed_time": 17.48189172,
            "remaining_time": 29.26113427
           },
           {
            "iteration": 374,
            "learn": [
             0.05483844571
            ],
            "passed_time": 17.52498128,
            "remaining_time": 29.20830213
           },
           {
            "iteration": 375,
            "learn": [
             0.05475943367
            ],
            "passed_time": 17.56596367,
            "remaining_time": 29.15202481
           },
           {
            "iteration": 376,
            "learn": [
             0.05468205946
            ],
            "passed_time": 17.60424614,
            "remaining_time": 29.09136697
           },
           {
            "iteration": 377,
            "learn": [
             0.05460614012
            ],
            "passed_time": 17.65102452,
            "remaining_time": 29.04480754
           },
           {
            "iteration": 378,
            "learn": [
             0.05458992303
            ],
            "passed_time": 17.68910975,
            "remaining_time": 28.98400304
           },
           {
            "iteration": 379,
            "learn": [
             0.05453743419
            ],
            "passed_time": 17.73060894,
            "remaining_time": 28.92888826
           },
           {
            "iteration": 380,
            "learn": [
             0.05447710469
            ],
            "passed_time": 17.76753396,
            "remaining_time": 28.86641344
           },
           {
            "iteration": 381,
            "learn": [
             0.05442176272
            ],
            "passed_time": 17.80714947,
            "remaining_time": 28.80842507
           },
           {
            "iteration": 382,
            "learn": [
             0.05434221055
            ],
            "passed_time": 17.84788733,
            "remaining_time": 28.75234069
           },
           {
            "iteration": 383,
            "learn": [
             0.05432626352
            ],
            "passed_time": 17.89383825,
            "remaining_time": 28.70469886
           },
           {
            "iteration": 384,
            "learn": [
             0.05427424948
            ],
            "passed_time": 17.9724493,
            "remaining_time": 28.70923719
           },
           {
            "iteration": 385,
            "learn": [
             0.05427241999
            ],
            "passed_time": 18.01901156,
            "remaining_time": 28.66236554
           },
           {
            "iteration": 386,
            "learn": [
             0.05426646545
            ],
            "passed_time": 18.06760716,
            "remaining_time": 28.61871625
           },
           {
            "iteration": 387,
            "learn": [
             0.05419367802
            ],
            "passed_time": 18.11556465,
            "remaining_time": 28.57403497
           },
           {
            "iteration": 388,
            "learn": [
             0.05414965709
            ],
            "passed_time": 18.15903045,
            "remaining_time": 28.52228175
           },
           {
            "iteration": 389,
            "learn": [
             0.05402616675
            ],
            "passed_time": 18.24067979,
            "remaining_time": 28.53029403
           },
           {
            "iteration": 390,
            "learn": [
             0.05400443506
            ],
            "passed_time": 18.39636133,
            "remaining_time": 28.65315614
           },
           {
            "iteration": 391,
            "learn": [
             0.05395092258
            ],
            "passed_time": 18.47859418,
            "remaining_time": 28.66067668
           },
           {
            "iteration": 392,
            "learn": [
             0.05393589465
            ],
            "passed_time": 18.52478735,
            "remaining_time": 28.61207614
           },
           {
            "iteration": 393,
            "learn": [
             0.05388452964
            ],
            "passed_time": 18.57151337,
            "remaining_time": 28.56430737
           },
           {
            "iteration": 394,
            "learn": [
             0.05386032815
            ],
            "passed_time": 18.6197725,
            "remaining_time": 28.51889206
           },
           {
            "iteration": 395,
            "learn": [
             0.05382095498
            ],
            "passed_time": 18.70279141,
            "remaining_time": 28.52647983
           },
           {
            "iteration": 396,
            "learn": [
             0.05381956109
            ],
            "passed_time": 18.78101768,
            "remaining_time": 28.52633164
           },
           {
            "iteration": 397,
            "learn": [
             0.0536940888
            ],
            "passed_time": 18.94645979,
            "remaining_time": 28.65771054
           },
           {
            "iteration": 398,
            "learn": [
             0.05359465185
            ],
            "passed_time": 19.13676817,
            "remaining_time": 28.82505682
           },
           {
            "iteration": 399,
            "learn": [
             0.05356828982
            ],
            "passed_time": 19.3169425,
            "remaining_time": 28.97541375
           },
           {
            "iteration": 400,
            "learn": [
             0.05349693549
            ],
            "passed_time": 19.48926354,
            "remaining_time": 29.11239117
           },
           {
            "iteration": 401,
            "learn": [
             0.05344453377
            ],
            "passed_time": 19.64918301,
            "remaining_time": 29.22938169
           },
           {
            "iteration": 402,
            "learn": [
             0.0533109072
            ],
            "passed_time": 19.81413101,
            "remaining_time": 29.35244718
           },
           {
            "iteration": 403,
            "learn": [
             0.0532861525
            ],
            "passed_time": 19.97945703,
            "remaining_time": 29.47464454
           },
           {
            "iteration": 404,
            "learn": [
             0.05325314769
            ],
            "passed_time": 20.1447357,
            "remaining_time": 29.59535245
           },
           {
            "iteration": 405,
            "learn": [
             0.0531850211
            ],
            "passed_time": 20.30714456,
            "remaining_time": 29.71045287
           },
           {
            "iteration": 406,
            "learn": [
             0.05318191533
            ],
            "passed_time": 20.46834398,
            "remaining_time": 29.82242746
           },
           {
            "iteration": 407,
            "learn": [
             0.05312149436
            ],
            "passed_time": 20.57441469,
            "remaining_time": 29.85307229
           },
           {
            "iteration": 408,
            "learn": [
             0.05311047823
            ],
            "passed_time": 20.63553719,
            "remaining_time": 29.81809897
           },
           {
            "iteration": 409,
            "learn": [
             0.0529966319
            ],
            "passed_time": 20.70722826,
            "remaining_time": 29.79820652
           },
           {
            "iteration": 410,
            "learn": [
             0.05298186097
            ],
            "passed_time": 20.75603945,
            "remaining_time": 29.74527307
           },
           {
            "iteration": 411,
            "learn": [
             0.05295803844
            ],
            "passed_time": 20.81024983,
            "remaining_time": 29.70006529
           },
           {
            "iteration": 412,
            "learn": [
             0.05295023263
            ],
            "passed_time": 20.85355191,
            "remaining_time": 29.63930986
           },
           {
            "iteration": 413,
            "learn": [
             0.05291251908
            ],
            "passed_time": 20.8950865,
            "remaining_time": 29.57613693
           },
           {
            "iteration": 414,
            "learn": [
             0.05283984054
            ],
            "passed_time": 20.95041302,
            "remaining_time": 29.53250993
           },
           {
            "iteration": 415,
            "learn": [
             0.05281914121
            ],
            "passed_time": 20.99373157,
            "remaining_time": 29.47196932
           },
           {
            "iteration": 416,
            "learn": [
             0.05280352959
            ],
            "passed_time": 21.06894539,
            "remaining_time": 29.45610351
           },
           {
            "iteration": 417,
            "learn": [
             0.05278678543
            ],
            "passed_time": 21.1081297,
            "remaining_time": 29.38978824
           },
           {
            "iteration": 418,
            "learn": [
             0.0527624097
            ],
            "passed_time": 21.14621948,
            "remaining_time": 29.32208477
           },
           {
            "iteration": 419,
            "learn": [
             0.0527141069
            ],
            "passed_time": 21.18485461,
            "remaining_time": 29.25527541
           },
           {
            "iteration": 420,
            "learn": [
             0.05265324163
            ],
            "passed_time": 21.23219502,
            "remaining_time": 29.20057225
           },
           {
            "iteration": 421,
            "learn": [
             0.05264209483
            ],
            "passed_time": 21.27448352,
            "remaining_time": 29.13898454
           },
           {
            "iteration": 422,
            "learn": [
             0.0526374427
            ],
            "passed_time": 21.31502605,
            "remaining_time": 29.07510645
           },
           {
            "iteration": 423,
            "learn": [
             0.05260673782
            ],
            "passed_time": 21.35955252,
            "remaining_time": 29.0167506
           },
           {
            "iteration": 424,
            "learn": [
             0.05259613551
            ],
            "passed_time": 21.40299244,
            "remaining_time": 28.95698978
           },
           {
            "iteration": 425,
            "learn": [
             0.05258507583
            ],
            "passed_time": 21.44010029,
            "remaining_time": 28.88877363
           },
           {
            "iteration": 426,
            "learn": [
             0.05257170751
            ],
            "passed_time": 21.48243333,
            "remaining_time": 28.82771498
           },
           {
            "iteration": 427,
            "learn": [
             0.05249590143
            ],
            "passed_time": 21.52217181,
            "remaining_time": 28.76327635
           },
           {
            "iteration": 428,
            "learn": [
             0.05248089093
            ],
            "passed_time": 21.5623849,
            "remaining_time": 28.69958457
           },
           {
            "iteration": 429,
            "learn": [
             0.05243273187
            ],
            "passed_time": 21.60326198,
            "remaining_time": 28.63688216
           },
           {
            "iteration": 430,
            "learn": [
             0.05237366559
            ],
            "passed_time": 21.64199543,
            "remaining_time": 28.57145104
           },
           {
            "iteration": 431,
            "learn": [
             0.05228991431
            ],
            "passed_time": 21.69337499,
            "remaining_time": 28.52277082
           },
           {
            "iteration": 432,
            "learn": [
             0.05228509666
            ],
            "passed_time": 21.73113045,
            "remaining_time": 28.45623779
           },
           {
            "iteration": 433,
            "learn": [
             0.05215921927
            ],
            "passed_time": 21.77118159,
            "remaining_time": 28.39283128
           },
           {
            "iteration": 434,
            "learn": [
             0.05212519082
            ],
            "passed_time": 21.81130847,
            "remaining_time": 28.32963054
           },
           {
            "iteration": 435,
            "learn": [
             0.05205351415
            ],
            "passed_time": 21.85019274,
            "remaining_time": 28.26492822
           },
           {
            "iteration": 436,
            "learn": [
             0.05200661832
            ],
            "passed_time": 21.88527064,
            "remaining_time": 28.1954402
           },
           {
            "iteration": 437,
            "learn": [
             0.05199787598
            ],
            "passed_time": 21.94161046,
            "remaining_time": 28.15339059
           },
           {
            "iteration": 438,
            "learn": [
             0.05196770688
            ],
            "passed_time": 21.98289701,
            "remaining_time": 28.09203923
           },
           {
            "iteration": 439,
            "learn": [
             0.05190045147
            ],
            "passed_time": 22.02216799,
            "remaining_time": 28.0282138
           },
           {
            "iteration": 440,
            "learn": [
             0.05181215696
            ],
            "passed_time": 22.07821619,
            "remaining_time": 27.9857661
           },
           {
            "iteration": 441,
            "learn": [
             0.05174702724
            ],
            "passed_time": 22.11871562,
            "remaining_time": 27.92362742
           },
           {
            "iteration": 442,
            "learn": [
             0.05169973501
            ],
            "passed_time": 22.16408293,
            "remaining_time": 27.86770697
           },
           {
            "iteration": 443,
            "learn": [
             0.05162950451
            ],
            "passed_time": 22.20308718,
            "remaining_time": 27.80386593
           },
           {
            "iteration": 444,
            "learn": [
             0.05156601697
            ],
            "passed_time": 22.24246254,
            "remaining_time": 27.74059935
           },
           {
            "iteration": 445,
            "learn": [
             0.05148847288
            ],
            "passed_time": 22.28199494,
            "remaining_time": 27.67763497
           },
           {
            "iteration": 446,
            "learn": [
             0.05147466896
            ],
            "passed_time": 22.32255974,
            "remaining_time": 27.61605266
           },
           {
            "iteration": 447,
            "learn": [
             0.05145567715
            ],
            "passed_time": 22.3805232,
            "remaining_time": 27.5760018
           },
           {
            "iteration": 448,
            "learn": [
             0.05139282122
            ],
            "passed_time": 22.43048042,
            "remaining_time": 27.52604613
           },
           {
            "iteration": 449,
            "learn": [
             0.05131508111
            ],
            "passed_time": 22.46884032,
            "remaining_time": 27.46191595
           },
           {
            "iteration": 450,
            "learn": [
             0.05125440314
            ],
            "passed_time": 22.50889013,
            "remaining_time": 27.39995717
           },
           {
            "iteration": 451,
            "learn": [
             0.05123286747
            ],
            "passed_time": 22.54879358,
            "remaining_time": 27.33791788
           },
           {
            "iteration": 452,
            "learn": [
             0.05117457654
            ],
            "passed_time": 22.60273373,
            "remaining_time": 27.29292571
           },
           {
            "iteration": 453,
            "learn": [
             0.05112535029
            ],
            "passed_time": 22.64315336,
            "remaining_time": 27.23163377
           },
           {
            "iteration": 454,
            "learn": [
             0.05105068981
            ],
            "passed_time": 22.67971948,
            "remaining_time": 27.16581783
           },
           {
            "iteration": 455,
            "learn": [
             0.05095285584
            ],
            "passed_time": 22.71830131,
            "remaining_time": 27.1025349
           },
           {
            "iteration": 456,
            "learn": [
             0.05088126629
            ],
            "passed_time": 22.75658393,
            "remaining_time": 27.03900454
           },
           {
            "iteration": 457,
            "learn": [
             0.0508451165
            ],
            "passed_time": 22.79505112,
            "remaining_time": 26.97580286
           },
           {
            "iteration": 458,
            "learn": [
             0.05081748255
            ],
            "passed_time": 22.83982931,
            "remaining_time": 26.92014739
           },
           {
            "iteration": 459,
            "learn": [
             0.05071993606
            ],
            "passed_time": 22.87656774,
            "remaining_time": 26.85510126
           },
           {
            "iteration": 460,
            "learn": [
             0.05068160397
            ],
            "passed_time": 22.91460269,
            "remaining_time": 26.79169382
           },
           {
            "iteration": 461,
            "learn": [
             0.05057881731
            ],
            "passed_time": 22.95771404,
            "remaining_time": 26.73430769
           },
           {
            "iteration": 462,
            "learn": [
             0.05054589962
            ],
            "passed_time": 22.99938981,
            "remaining_time": 26.6753182
           },
           {
            "iteration": 463,
            "learn": [
             0.05051085189
            ],
            "passed_time": 23.04443079,
            "remaining_time": 26.62029074
           },
           {
            "iteration": 464,
            "learn": [
             0.05046795478
            ],
            "passed_time": 23.10451054,
            "remaining_time": 26.5826089
           },
           {
            "iteration": 465,
            "learn": [
             0.05046457023
            ],
            "passed_time": 23.16257288,
            "remaining_time": 26.54251914
           },
           {
            "iteration": 466,
            "learn": [
             0.05043380437
            ],
            "passed_time": 23.20440153,
            "remaining_time": 26.48382444
           },
           {
            "iteration": 467,
            "learn": [
             0.05040256806
            ],
            "passed_time": 23.24248539,
            "remaining_time": 26.42094493
           },
           {
            "iteration": 468,
            "learn": [
             0.05036705424
            ],
            "passed_time": 23.28563247,
            "remaining_time": 26.36390371
           },
           {
            "iteration": 469,
            "learn": [
             0.05019699911
            ],
            "passed_time": 23.32572396,
            "remaining_time": 26.30347596
           },
           {
            "iteration": 470,
            "learn": [
             0.05015039948
            ],
            "passed_time": 23.37365704,
            "remaining_time": 26.25194177
           },
           {
            "iteration": 471,
            "learn": [
             0.05012095345
            ],
            "passed_time": 23.42783082,
            "remaining_time": 26.20740397
           },
           {
            "iteration": 472,
            "learn": [
             0.05011269463
            ],
            "passed_time": 23.48689502,
            "remaining_time": 26.16827415
           },
           {
            "iteration": 473,
            "learn": [
             0.05008415028
            ],
            "passed_time": 23.5370873,
            "remaining_time": 26.11921502
           },
           {
            "iteration": 474,
            "learn": [
             0.05005556673
            ],
            "passed_time": 23.58031855,
            "remaining_time": 26.06245734
           },
           {
            "iteration": 475,
            "learn": [
             0.04990284381
            ],
            "passed_time": 23.61895877,
            "remaining_time": 26.00070251
           },
           {
            "iteration": 476,
            "learn": [
             0.04988838651
            ],
            "passed_time": 23.65585182,
            "remaining_time": 25.93712893
           },
           {
            "iteration": 477,
            "learn": [
             0.04984490136
            ],
            "passed_time": 23.70246741,
            "remaining_time": 25.8842845
           },
           {
            "iteration": 478,
            "learn": [
             0.04982776952
            ],
            "passed_time": 23.74029715,
            "remaining_time": 25.82190985
           },
           {
            "iteration": 479,
            "learn": [
             0.04977141698
            ],
            "passed_time": 23.77932696,
            "remaining_time": 25.76093754
           },
           {
            "iteration": 480,
            "learn": [
             0.0497516803
            ],
            "passed_time": 23.81543478,
            "remaining_time": 25.69690365
           },
           {
            "iteration": 481,
            "learn": [
             0.04973542837
            ],
            "passed_time": 23.85304018,
            "remaining_time": 25.63459505
           },
           {
            "iteration": 482,
            "learn": [
             0.04972174206
            ],
            "passed_time": 23.89176604,
            "remaining_time": 25.57358808
           },
           {
            "iteration": 483,
            "learn": [
             0.04965586748
            ],
            "passed_time": 23.93539787,
            "remaining_time": 25.51790351
           },
           {
            "iteration": 484,
            "learn": [
             0.04964193725
            ],
            "passed_time": 23.97488833,
            "remaining_time": 25.45787111
           },
           {
            "iteration": 485,
            "learn": [
             0.04954835901
            ],
            "passed_time": 24.01630758,
            "remaining_time": 25.39996317
           },
           {
            "iteration": 486,
            "learn": [
             0.04939577983
            ],
            "passed_time": 24.05443728,
            "remaining_time": 25.33865775
           },
           {
            "iteration": 487,
            "learn": [
             0.04937555094
            ],
            "passed_time": 24.11442541,
            "remaining_time": 25.30038076
           },
           {
            "iteration": 488,
            "learn": [
             0.04936342841
            ],
            "passed_time": 24.15529758,
            "remaining_time": 25.24203899
           },
           {
            "iteration": 489,
            "learn": [
             0.04935327912
            ],
            "passed_time": 24.19415422,
            "remaining_time": 25.18167072
           },
           {
            "iteration": 490,
            "learn": [
             0.04933934888
            ],
            "passed_time": 24.23270965,
            "remaining_time": 25.12107783
           },
           {
            "iteration": 491,
            "learn": [
             0.04930560357
            ],
            "passed_time": 24.27283925,
            "remaining_time": 25.06219988
           },
           {
            "iteration": 492,
            "learn": [
             0.04922075895
            ],
            "passed_time": 24.31436654,
            "remaining_time": 25.00483537
           },
           {
            "iteration": 493,
            "learn": [
             0.04921826301
            ],
            "passed_time": 24.35881971,
            "remaining_time": 24.95053193
           },
           {
            "iteration": 494,
            "learn": [
             0.04918237894
            ],
            "passed_time": 24.41602145,
            "remaining_time": 24.90927441
           },
           {
            "iteration": 495,
            "learn": [
             0.04910976139
            ],
            "passed_time": 24.45565582,
            "remaining_time": 24.85010188
           },
           {
            "iteration": 496,
            "learn": [
             0.04905527318
            ],
            "passed_time": 24.50311327,
            "remaining_time": 24.7989255
           },
           {
            "iteration": 497,
            "learn": [
             0.04902927269
            ],
            "passed_time": 24.54359095,
            "remaining_time": 24.74072823
           },
           {
            "iteration": 498,
            "learn": [
             0.0490169585
            ],
            "passed_time": 24.58624643,
            "remaining_time": 24.6847885
           },
           {
            "iteration": 499,
            "learn": [
             0.04900542838
            ],
            "passed_time": 24.63185919,
            "remaining_time": 24.63185919
           },
           {
            "iteration": 500,
            "learn": [
             0.0489977881
            ],
            "passed_time": 24.6708478,
            "remaining_time": 24.57236138
           },
           {
            "iteration": 501,
            "learn": [
             0.04891205487
            ],
            "passed_time": 24.70960193,
            "remaining_time": 24.51271267
           },
           {
            "iteration": 502,
            "learn": [
             0.04890529449
            ],
            "passed_time": 24.74685473,
            "remaining_time": 24.45166362
           },
           {
            "iteration": 503,
            "learn": [
             0.04886673588
            ],
            "passed_time": 24.79645229,
            "remaining_time": 24.40285781
           },
           {
            "iteration": 504,
            "learn": [
             0.0488003168
            ],
            "passed_time": 24.83280285,
            "remaining_time": 24.34106418
           },
           {
            "iteration": 505,
            "learn": [
             0.04879047242
            ],
            "passed_time": 24.87131726,
            "remaining_time": 24.28148364
           },
           {
            "iteration": 506,
            "learn": [
             0.04875849997
            ],
            "passed_time": 24.91030705,
            "remaining_time": 24.22244847
           },
           {
            "iteration": 507,
            "learn": [
             0.04870670372
            ],
            "passed_time": 24.94983853,
            "remaining_time": 24.16401685
           },
           {
            "iteration": 508,
            "learn": [
             0.04866417687
            ],
            "passed_time": 24.99285405,
            "remaining_time": 24.10902031
           },
           {
            "iteration": 509,
            "learn": [
             0.04865953781
            ],
            "passed_time": 25.0354054,
            "remaining_time": 24.05362479
           },
           {
            "iteration": 510,
            "learn": [
             0.04858928989
            ],
            "passed_time": 25.07357258,
            "remaining_time": 23.99408413
           },
           {
            "iteration": 511,
            "learn": [
             0.04858053013
            ],
            "passed_time": 25.13522308,
            "remaining_time": 23.9570095
           },
           {
            "iteration": 512,
            "learn": [
             0.04854640585
            ],
            "passed_time": 25.18849314,
            "remaining_time": 23.91188335
           },
           {
            "iteration": 513,
            "learn": [
             0.04846315114
            ],
            "passed_time": 25.22807289,
            "remaining_time": 23.85378098
           },
           {
            "iteration": 514,
            "learn": [
             0.04843489864
            ],
            "passed_time": 25.27319021,
            "remaining_time": 23.80096554
           },
           {
            "iteration": 515,
            "learn": [
             0.04831371694
            ],
            "passed_time": 25.31486386,
            "remaining_time": 23.74494983
           },
           {
            "iteration": 516,
            "learn": [
             0.04826995736
            ],
            "passed_time": 25.3530302,
            "remaining_time": 23.68571293
           },
           {
            "iteration": 517,
            "learn": [
             0.0482633233
            ],
            "passed_time": 25.40821716,
            "remaining_time": 23.64239512
           },
           {
            "iteration": 518,
            "learn": [
             0.0482543109
            ],
            "passed_time": 25.45063735,
            "remaining_time": 23.58719955
           },
           {
            "iteration": 519,
            "learn": [
             0.0482099502
            ],
            "passed_time": 25.49442041,
            "remaining_time": 23.53331115
           },
           {
            "iteration": 520,
            "learn": [
             0.04818291736
            ],
            "passed_time": 25.53206694,
            "remaining_time": 23.4738197
           },
           {
            "iteration": 521,
            "learn": [
             0.04814019885
            ],
            "passed_time": 25.5728247,
            "remaining_time": 23.41726093
           },
           {
            "iteration": 522,
            "learn": [
             0.04813768113
            ],
            "passed_time": 25.61205318,
            "remaining_time": 23.35936781
           },
           {
            "iteration": 523,
            "learn": [
             0.04810668876
            ],
            "passed_time": 25.65116877,
            "remaining_time": 23.30144339
           },
           {
            "iteration": 524,
            "learn": [
             0.04809935339
            ],
            "passed_time": 25.69029527,
            "remaining_time": 23.24360048
           },
           {
            "iteration": 525,
            "learn": [
             0.04804288759
            ],
            "passed_time": 25.74008164,
            "remaining_time": 23.19543479
           },
           {
            "iteration": 526,
            "learn": [
             0.04802864809
            ],
            "passed_time": 25.77729003,
            "remaining_time": 23.13597378
           },
           {
            "iteration": 527,
            "learn": [
             0.04799480259
            ],
            "passed_time": 25.81656829,
            "remaining_time": 23.07844741
           },
           {
            "iteration": 528,
            "learn": [
             0.04799039439
            ],
            "passed_time": 25.85299209,
            "remaining_time": 23.01844853
           },
           {
            "iteration": 529,
            "learn": [
             0.04797283132
            ],
            "passed_time": 25.89311888,
            "remaining_time": 22.96182241
           },
           {
            "iteration": 530,
            "learn": [
             0.04795082521
            ],
            "passed_time": 25.93308714,
            "remaining_time": 22.9051184
           },
           {
            "iteration": 531,
            "learn": [
             0.0479236312
            ],
            "passed_time": 25.97699322,
            "remaining_time": 22.8519414
           },
           {
            "iteration": 532,
            "learn": [
             0.04791363437
            ],
            "passed_time": 26.01453221,
            "remaining_time": 22.79322053
           },
           {
            "iteration": 533,
            "learn": [
             0.04785112255
            ],
            "passed_time": 26.05280026,
            "remaining_time": 22.73521521
           },
           {
            "iteration": 534,
            "learn": [
             0.04782117996
            ],
            "passed_time": 26.09011196,
            "remaining_time": 22.67645245
           },
           {
            "iteration": 535,
            "learn": [
             0.04777972466
            ],
            "passed_time": 26.15644298,
            "remaining_time": 22.64289094
           },
           {
            "iteration": 536,
            "learn": [
             0.04774766073
            ],
            "passed_time": 26.19827786,
            "remaining_time": 22.58808687
           },
           {
            "iteration": 537,
            "learn": [
             0.04774226375
            ],
            "passed_time": 26.23635862,
            "remaining_time": 22.53010721
           },
           {
            "iteration": 538,
            "learn": [
             0.04772901739
            ],
            "passed_time": 26.2765662,
            "remaining_time": 22.47402044
           },
           {
            "iteration": 539,
            "learn": [
             0.04772500123
            ],
            "passed_time": 26.31435646,
            "remaining_time": 22.41593328
           },
           {
            "iteration": 540,
            "learn": [
             0.04771094468
            ],
            "passed_time": 26.35300762,
            "remaining_time": 22.35865157
           },
           {
            "iteration": 541,
            "learn": [
             0.04770843567
            ],
            "passed_time": 26.39075228,
            "remaining_time": 22.30067259
           },
           {
            "iteration": 542,
            "learn": [
             0.04769026712
            ],
            "passed_time": 26.46164008,
            "remaining_time": 22.27066209
           },
           {
            "iteration": 543,
            "learn": [
             0.0476863468
            ],
            "passed_time": 26.50015707,
            "remaining_time": 22.21336696
           },
           {
            "iteration": 544,
            "learn": [
             0.04768257021
            ],
            "passed_time": 26.533388,
            "remaining_time": 22.1517276
           },
           {
            "iteration": 545,
            "learn": [
             0.04767176753
            ],
            "passed_time": 26.57044507,
            "remaining_time": 22.09337374
           },
           {
            "iteration": 546,
            "learn": [
             0.04765319389
            ],
            "passed_time": 26.6176232,
            "remaining_time": 22.04347954
           },
           {
            "iteration": 547,
            "learn": [
             0.0476223409
            ],
            "passed_time": 26.65682023,
            "remaining_time": 21.98701231
           },
           {
            "iteration": 548,
            "learn": [
             0.04761139012
            ],
            "passed_time": 26.70013895,
            "remaining_time": 21.93399393
           },
           {
            "iteration": 549,
            "learn": [
             0.04757014391
            ],
            "passed_time": 26.7379882,
            "remaining_time": 21.8765358
           },
           {
            "iteration": 550,
            "learn": [
             0.04756571394
            ],
            "passed_time": 26.77502175,
            "remaining_time": 21.81848415
           },
           {
            "iteration": 551,
            "learn": [
             0.04756140158
            ],
            "passed_time": 26.82153278,
            "remaining_time": 21.76820052
           },
           {
            "iteration": 552,
            "learn": [
             0.04745181969
            ],
            "passed_time": 26.86257071,
            "remaining_time": 21.71350653
           },
           {
            "iteration": 553,
            "learn": [
             0.04743807676
            ],
            "passed_time": 26.90833777,
            "remaining_time": 21.66266903
           },
           {
            "iteration": 554,
            "learn": [
             0.04743487516
            ],
            "passed_time": 26.94618727,
            "remaining_time": 21.6055015
           },
           {
            "iteration": 555,
            "learn": [
             0.04742944332
            ],
            "passed_time": 26.98628349,
            "remaining_time": 21.55019761
           },
           {
            "iteration": 556,
            "learn": [
             0.04740181372
            ],
            "passed_time": 27.02735076,
            "remaining_time": 21.49572062
           },
           {
            "iteration": 557,
            "learn": [
             0.04736617358
            ],
            "passed_time": 27.06710544,
            "remaining_time": 21.44025198
           },
           {
            "iteration": 558,
            "learn": [
             0.04736511945
            ],
            "passed_time": 27.11702765,
            "remaining_time": 21.39286081
           },
           {
            "iteration": 559,
            "learn": [
             0.04733806047
            ],
            "passed_time": 27.18457099,
            "remaining_time": 21.35930578
           },
           {
            "iteration": 560,
            "learn": [
             0.04733161371
            ],
            "passed_time": 27.22481232,
            "remaining_time": 21.3042649
           },
           {
            "iteration": 561,
            "learn": [
             0.0473292528
            ],
            "passed_time": 27.26763404,
            "remaining_time": 21.25128774
           },
           {
            "iteration": 562,
            "learn": [
             0.04727467312
            ],
            "passed_time": 27.30655357,
            "remaining_time": 21.19531778
           },
           {
            "iteration": 563,
            "learn": [
             0.04726984676
            ],
            "passed_time": 27.34982885,
            "remaining_time": 21.14277549
           },
           {
            "iteration": 564,
            "learn": [
             0.04725627807
            ],
            "passed_time": 27.38755077,
            "remaining_time": 21.08599042
           },
           {
            "iteration": 565,
            "learn": [
             0.04723202866
            ],
            "passed_time": 27.44066737,
            "remaining_time": 21.0410771
           },
           {
            "iteration": 566,
            "learn": [
             0.04710656508
            ],
            "passed_time": 27.48888859,
            "remaining_time": 20.9923964
           },
           {
            "iteration": 567,
            "learn": [
             0.04710440019
            ],
            "passed_time": 27.52781891,
            "remaining_time": 20.936651
           },
           {
            "iteration": 568,
            "learn": [
             0.04699805911
            ],
            "passed_time": 27.57174632,
            "remaining_time": 20.88474985
           },
           {
            "iteration": 569,
            "learn": [
             0.04697556513
            ],
            "passed_time": 27.62113239,
            "remaining_time": 20.83699461
           },
           {
            "iteration": 570,
            "learn": [
             0.04694551364
            ],
            "passed_time": 27.66297392,
            "remaining_time": 20.78356534
           },
           {
            "iteration": 571,
            "learn": [
             0.04694043899
            ],
            "passed_time": 27.70201183,
            "remaining_time": 20.72807878
           },
           {
            "iteration": 572,
            "learn": [
             0.0469202101
            ],
            "passed_time": 27.7436826,
            "remaining_time": 20.67461164
           },
           {
            "iteration": 573,
            "learn": [
             0.04691319271
            ],
            "passed_time": 27.7830551,
            "remaining_time": 20.61947992
           },
           {
            "iteration": 574,
            "learn": [
             0.04691185544
            ],
            "passed_time": 27.81844787,
            "remaining_time": 20.56146147
           },
           {
            "iteration": 575,
            "learn": [
             0.04690185425
            ],
            "passed_time": 27.8546806,
            "remaining_time": 20.50413989
           },
           {
            "iteration": 576,
            "learn": [
             0.04689021087
            ],
            "passed_time": 27.89491968,
            "remaining_time": 20.44982847
           },
           {
            "iteration": 577,
            "learn": [
             0.04688372926
            ],
            "passed_time": 27.93172125,
            "remaining_time": 20.393056
           },
           {
            "iteration": 578,
            "learn": [
             0.04684408603
            ],
            "passed_time": 27.97459331,
            "remaining_time": 20.34076647
           },
           {
            "iteration": 579,
            "learn": [
             0.04682863123
            ],
            "passed_time": 28.01917323,
            "remaining_time": 20.28974613
           },
           {
            "iteration": 580,
            "learn": [
             0.04674104674
            ],
            "passed_time": 28.05951474,
            "remaining_time": 20.23569135
           },
           {
            "iteration": 581,
            "learn": [
             0.04669892934
            ],
            "passed_time": 28.09935846,
            "remaining_time": 20.18132618
           },
           {
            "iteration": 582,
            "learn": [
             0.04660649671
            ],
            "passed_time": 28.14524119,
            "remaining_time": 20.13133032
           },
           {
            "iteration": 583,
            "learn": [
             0.04660442765
            ],
            "passed_time": 28.19976115,
            "remaining_time": 20.08750109
           },
           {
            "iteration": 584,
            "learn": [
             0.04659879109
            ],
            "passed_time": 28.24217141,
            "remaining_time": 20.03504468
           },
           {
            "iteration": 585,
            "learn": [
             0.04655201722
            ],
            "passed_time": 28.28393917,
            "remaining_time": 19.98216863
           },
           {
            "iteration": 586,
            "learn": [
             0.04652885243
            ],
            "passed_time": 28.32263,
            "remaining_time": 19.92716557
           },
           {
            "iteration": 587,
            "learn": [
             0.04651270068
            ],
            "passed_time": 28.38753731,
            "remaining_time": 19.89058737
           },
           {
            "iteration": 588,
            "learn": [
             0.04647909475
            ],
            "passed_time": 28.43780404,
            "remaining_time": 19.84369688
           },
           {
            "iteration": 589,
            "learn": [
             0.04645078998
            ],
            "passed_time": 28.48072461,
            "remaining_time": 19.79168998
           },
           {
            "iteration": 590,
            "learn": [
             0.04644989702
            ],
            "passed_time": 28.51942866,
            "remaining_time": 19.73679581
           },
           {
            "iteration": 591,
            "learn": [
             0.04641846034
            ],
            "passed_time": 28.55916597,
            "remaining_time": 19.68266844
           },
           {
            "iteration": 592,
            "learn": [
             0.0464012501
            ],
            "passed_time": 28.59866501,
            "remaining_time": 19.62842607
           },
           {
            "iteration": 593,
            "learn": [
             0.04637656946
            ],
            "passed_time": 28.63879284,
            "remaining_time": 19.57466312
           },
           {
            "iteration": 594,
            "learn": [
             0.04637152966
            ],
            "passed_time": 28.67237446,
            "remaining_time": 19.51649018
           },
           {
            "iteration": 595,
            "learn": [
             0.0463225212
            ],
            "passed_time": 28.72586523,
            "remaining_time": 19.47189522
           },
           {
            "iteration": 596,
            "learn": [
             0.04631380935
            ],
            "passed_time": 28.76452567,
            "remaining_time": 19.41725937
           },
           {
            "iteration": 597,
            "learn": [
             0.04629931285
            ],
            "passed_time": 28.80418618,
            "remaining_time": 19.36334924
           },
           {
            "iteration": 598,
            "learn": [
             0.04628401486
            ],
            "passed_time": 28.84276276,
            "remaining_time": 19.30876105
           },
           {
            "iteration": 599,
            "learn": [
             0.04623164798
            ],
            "passed_time": 28.88170186,
            "remaining_time": 19.25446791
           },
           {
            "iteration": 600,
            "learn": [
             0.0462012698
            ],
            "passed_time": 28.93475095,
            "remaining_time": 19.2095934
           },
           {
            "iteration": 601,
            "learn": [
             0.046133618
            ],
            "passed_time": 28.97482861,
            "remaining_time": 19.15611593
           },
           {
            "iteration": 602,
            "learn": [
             0.04612403062
            ],
            "passed_time": 29.01242862,
            "remaining_time": 19.10105168
           },
           {
            "iteration": 603,
            "learn": [
             0.04601159124
            ],
            "passed_time": 29.05169432,
            "remaining_time": 19.04713733
           },
           {
            "iteration": 604,
            "learn": [
             0.0459639941
            ],
            "passed_time": 29.09764045,
            "remaining_time": 18.99763302
           },
           {
            "iteration": 605,
            "learn": [
             0.04590238396
            ],
            "passed_time": 29.14168139,
            "remaining_time": 18.94690176
           },
           {
            "iteration": 606,
            "learn": [
             0.04589423404
            ],
            "passed_time": 29.20345659,
            "remaining_time": 18.90767453
           },
           {
            "iteration": 607,
            "learn": [
             0.0458923697
            ],
            "passed_time": 29.24475982,
            "remaining_time": 18.85517409
           },
           {
            "iteration": 608,
            "learn": [
             0.04583981552
            ],
            "passed_time": 29.29082269,
            "remaining_time": 18.80576629
           },
           {
            "iteration": 609,
            "learn": [
             0.04580221522
            ],
            "passed_time": 29.3305921,
            "remaining_time": 18.75234577
           },
           {
            "iteration": 610,
            "learn": [
             0.04580086488
            ],
            "passed_time": 29.37208178,
            "remaining_time": 18.70006516
           },
           {
            "iteration": 611,
            "learn": [
             0.04578918231
            ],
            "passed_time": 29.4154686,
            "remaining_time": 18.64902258
           },
           {
            "iteration": 612,
            "learn": [
             0.04578480461
            ],
            "passed_time": 29.47223679,
            "remaining_time": 18.60645292
           },
           {
            "iteration": 613,
            "learn": [
             0.04571153367
            ],
            "passed_time": 29.51118975,
            "remaining_time": 18.5526372
           },
           {
            "iteration": 614,
            "learn": [
             0.04570167622
            ],
            "passed_time": 29.55029663,
            "remaining_time": 18.49896618
           },
           {
            "iteration": 615,
            "learn": [
             0.04569886665
            ],
            "passed_time": 29.59240354,
            "remaining_time": 18.4472126
           },
           {
            "iteration": 616,
            "learn": [
             0.04569706766
            ],
            "passed_time": 29.63704876,
            "remaining_time": 18.39706592
           },
           {
            "iteration": 617,
            "learn": [
             0.04569536014
            ],
            "passed_time": 29.67168806,
            "remaining_time": 18.34075217
           },
           {
            "iteration": 618,
            "learn": [
             0.04569188847
            ],
            "passed_time": 29.70849509,
            "remaining_time": 18.2858427
           },
           {
            "iteration": 619,
            "learn": [
             0.04563814077
            ],
            "passed_time": 29.74775433,
            "remaining_time": 18.23249459
           },
           {
            "iteration": 620,
            "learn": [
             0.04563136731
            ],
            "passed_time": 29.78529398,
            "remaining_time": 18.17814238
           },
           {
            "iteration": 621,
            "learn": [
             0.04561452732
            ],
            "passed_time": 29.82865019,
            "remaining_time": 18.12737905
           },
           {
            "iteration": 622,
            "learn": [
             0.04560027475
            ],
            "passed_time": 29.86966336,
            "remaining_time": 18.07522165
           },
           {
            "iteration": 623,
            "learn": [
             0.04559405885
            ],
            "passed_time": 29.91054904,
            "remaining_time": 18.02302314
           },
           {
            "iteration": 624,
            "learn": [
             0.0455219553
            ],
            "passed_time": 29.96403853,
            "remaining_time": 17.97842312
           },
           {
            "iteration": 625,
            "learn": [
             0.04549939599
            ],
            "passed_time": 30.00245086,
            "remaining_time": 17.92478693
           },
           {
            "iteration": 626,
            "learn": [
             0.04542767576
            ],
            "passed_time": 30.04578746,
            "remaining_time": 17.87412874
           },
           {
            "iteration": 627,
            "learn": [
             0.04542279277
            ],
            "passed_time": 30.08257446,
            "remaining_time": 17.81961417
           },
           {
            "iteration": 628,
            "learn": [
             0.0454140156
            ],
            "passed_time": 30.11890949,
            "remaining_time": 17.76488938
           },
           {
            "iteration": 629,
            "learn": [
             0.04541301809
            ],
            "passed_time": 30.15690952,
            "remaining_time": 17.71120083
           },
           {
            "iteration": 630,
            "learn": [
             0.04539997646
            ],
            "passed_time": 30.21781586,
            "remaining_time": 17.6709573
           },
           {
            "iteration": 631,
            "learn": [
             0.04536038986
            ],
            "passed_time": 30.2675813,
            "remaining_time": 17.62416126
           },
           {
            "iteration": 632,
            "learn": [
             0.04529210645
            ],
            "passed_time": 30.3090507,
            "remaining_time": 17.57254598
           },
           {
            "iteration": 633,
            "learn": [
             0.04524552424
            ],
            "passed_time": 30.35080425,
            "remaining_time": 17.52112674
           },
           {
            "iteration": 634,
            "learn": [
             0.04521924497
            ],
            "passed_time": 30.39032684,
            "remaining_time": 17.46845558
           },
           {
            "iteration": 635,
            "learn": [
             0.04521800353
            ],
            "passed_time": 30.43013277,
            "remaining_time": 17.41598794
           },
           {
            "iteration": 636,
            "learn": [
             0.04519558361
            ],
            "passed_time": 30.48862548,
            "remaining_time": 17.37420887
           },
           {
            "iteration": 637,
            "learn": [
             0.04516725706
            ],
            "passed_time": 30.52726151,
            "remaining_time": 17.32111076
           },
           {
            "iteration": 638,
            "learn": [
             0.0451249088
            ],
            "passed_time": 30.57523947,
            "remaining_time": 17.2733356
           },
           {
            "iteration": 639,
            "learn": [
             0.04505529684
            ],
            "passed_time": 30.65895665,
            "remaining_time": 17.24566312
           },
           {
            "iteration": 640,
            "learn": [
             0.04498005267
            ],
            "passed_time": 30.75204262,
            "remaining_time": 17.22306287
           },
           {
            "iteration": 641,
            "learn": [
             0.04497928603
            ],
            "passed_time": 30.8258164,
            "remaining_time": 17.18947394
           },
           {
            "iteration": 642,
            "learn": [
             0.04496852691
            ],
            "passed_time": 30.90990247,
            "remaining_time": 17.16148551
           },
           {
            "iteration": 643,
            "learn": [
             0.04494706964
            ],
            "passed_time": 31.01800374,
            "remaining_time": 17.14659834
           },
           {
            "iteration": 644,
            "learn": [
             0.04494406841
            ],
            "passed_time": 31.16053244,
            "remaining_time": 17.15037057
           },
           {
            "iteration": 645,
            "learn": [
             0.04482509081
            ],
            "passed_time": 31.36458241,
            "remaining_time": 17.18740275
           },
           {
            "iteration": 646,
            "learn": [
             0.0447811962
            ],
            "passed_time": 31.52237203,
            "remaining_time": 17.19845027
           },
           {
            "iteration": 647,
            "learn": [
             0.04477090751
            ],
            "passed_time": 31.67210901,
            "remaining_time": 17.20460243
           },
           {
            "iteration": 648,
            "learn": [
             0.04476839415
            ],
            "passed_time": 31.82372929,
            "remaining_time": 17.21129273
           },
           {
            "iteration": 649,
            "learn": [
             0.0447634676
            ],
            "passed_time": 31.87852933,
            "remaining_time": 17.16536195
           },
           {
            "iteration": 650,
            "learn": [
             0.04469940072
            ],
            "passed_time": 31.92182916,
            "remaining_time": 17.11323867
           },
           {
            "iteration": 651,
            "learn": [
             0.0446928712
            ],
            "passed_time": 31.96607887,
            "remaining_time": 17.06164946
           },
           {
            "iteration": 652,
            "learn": [
             0.04465250488
            ],
            "passed_time": 32.01465515,
            "remaining_time": 17.01238183
           },
           {
            "iteration": 653,
            "learn": [
             0.04458563715
            ],
            "passed_time": 32.05941922,
            "remaining_time": 16.96109946
           },
           {
            "iteration": 654,
            "learn": [
             0.04458123767
            ],
            "passed_time": 32.11121384,
            "remaining_time": 16.91354011
           },
           {
            "iteration": 655,
            "learn": [
             0.0445638619
            ],
            "passed_time": 32.16295535,
            "remaining_time": 16.86594
           },
           {
            "iteration": 656,
            "learn": [
             0.04455299388
            ],
            "passed_time": 32.29130626,
            "remaining_time": 16.85832275
           },
           {
            "iteration": 657,
            "learn": [
             0.04450707377
            ],
            "passed_time": 32.43784788,
            "remaining_time": 16.85979328
           },
           {
            "iteration": 658,
            "learn": [
             0.04439225607
            ],
            "passed_time": 32.59489653,
            "remaining_time": 16.86625147
           },
           {
            "iteration": 659,
            "learn": [
             0.04432033111
            ],
            "passed_time": 32.74152616,
            "remaining_time": 16.86684681
           },
           {
            "iteration": 660,
            "learn": [
             0.04428544019
            ],
            "passed_time": 32.86607513,
            "remaining_time": 16.85567242
           },
           {
            "iteration": 661,
            "learn": [
             0.04428497846
            ],
            "passed_time": 33.00401828,
            "remaining_time": 16.85099423
           },
           {
            "iteration": 662,
            "learn": [
             0.04428323173
            ],
            "passed_time": 33.10855144,
            "remaining_time": 16.82893188
           },
           {
            "iteration": 663,
            "learn": [
             0.04425882551
            ],
            "passed_time": 33.14922486,
            "remaining_time": 16.77430655
           },
           {
            "iteration": 664,
            "learn": [
             0.04423327804
            ],
            "passed_time": 33.18830904,
            "remaining_time": 16.7189226
           },
           {
            "iteration": 665,
            "learn": [
             0.04419697144
            ],
            "passed_time": 33.2361825,
            "remaining_time": 16.66799543
           },
           {
            "iteration": 666,
            "learn": [
             0.04417890744
            ],
            "passed_time": 33.27646179,
            "remaining_time": 16.61328602
           },
           {
            "iteration": 667,
            "learn": [
             0.044117881
            ],
            "passed_time": 33.3285585,
            "remaining_time": 16.56449315
           },
           {
            "iteration": 668,
            "learn": [
             0.04410731353
            ],
            "passed_time": 33.40007249,
            "remaining_time": 16.52529745
           },
           {
            "iteration": 669,
            "learn": [
             0.04409441565
            ],
            "passed_time": 33.43998289,
            "remaining_time": 16.47043933
           },
           {
            "iteration": 670,
            "learn": [
             0.04402703828
            ],
            "passed_time": 33.47903071,
            "remaining_time": 16.41520284
           },
           {
            "iteration": 671,
            "learn": [
             0.04401887528
            ],
            "passed_time": 33.5282408,
            "remaining_time": 16.36497468
           },
           {
            "iteration": 672,
            "learn": [
             0.04401227171
            ],
            "passed_time": 33.57605051,
            "remaining_time": 16.31406912
           },
           {
            "iteration": 673,
            "learn": [
             0.04401018958
            ],
            "passed_time": 33.61356722,
            "remaining_time": 16.25819423
           },
           {
            "iteration": 674,
            "learn": [
             0.04392833312
            ],
            "passed_time": 33.65658202,
            "remaining_time": 16.20502097
           },
           {
            "iteration": 675,
            "learn": [
             0.04392717445
            ],
            "passed_time": 33.69836311,
            "remaining_time": 16.15128646
           },
           {
            "iteration": 676,
            "learn": [
             0.04392554098
            ],
            "passed_time": 33.73864132,
            "remaining_time": 16.09687023
           },
           {
            "iteration": 677,
            "learn": [
             0.04390473275
            ],
            "passed_time": 33.7776841,
            "remaining_time": 16.04190897
           },
           {
            "iteration": 678,
            "learn": [
             0.04387370117
            ],
            "passed_time": 33.81534531,
            "remaining_time": 15.98634145
           },
           {
            "iteration": 679,
            "learn": [
             0.04386017604
            ],
            "passed_time": 33.85235541,
            "remaining_time": 15.93052019
           },
           {
            "iteration": 680,
            "learn": [
             0.04385808084
            ],
            "passed_time": 33.90533108,
            "remaining_time": 15.88223291
           },
           {
            "iteration": 681,
            "learn": [
             0.04385467886
            ],
            "passed_time": 33.947482,
            "remaining_time": 15.82888457
           },
           {
            "iteration": 682,
            "learn": [
             0.04385335467
            ],
            "passed_time": 33.98508231,
            "remaining_time": 15.77345694
           },
           {
            "iteration": 683,
            "learn": [
             0.04385289729
            ],
            "passed_time": 34.02136265,
            "remaining_time": 15.71747163
           },
           {
            "iteration": 684,
            "learn": [
             0.0438511767
            ],
            "passed_time": 34.05842395,
            "remaining_time": 15.66190298
           },
           {
            "iteration": 685,
            "learn": [
             0.04385050154
            ],
            "passed_time": 34.09452575,
            "remaining_time": 15.6059491
           },
           {
            "iteration": 686,
            "learn": [
             0.04384986122
            ],
            "passed_time": 34.13452204,
            "remaining_time": 15.55182736
           },
           {
            "iteration": 687,
            "learn": [
             0.0438477181
            ],
            "passed_time": 34.17329256,
            "remaining_time": 15.49719081
           },
           {
            "iteration": 688,
            "learn": [
             0.04384178098
            ],
            "passed_time": 34.21361147,
            "remaining_time": 15.44329923
           },
           {
            "iteration": 689,
            "learn": [
             0.04380382785
            ],
            "passed_time": 34.25443506,
            "remaining_time": 15.38967372
           },
           {
            "iteration": 690,
            "learn": [
             0.04380343146
            ],
            "passed_time": 34.29422691,
            "remaining_time": 15.3356239
           },
           {
            "iteration": 691,
            "learn": [
             0.04380118381
            ],
            "passed_time": 34.3425784,
            "remaining_time": 15.28542507
           },
           {
            "iteration": 692,
            "learn": [
             0.04379920186
            ],
            "passed_time": 34.40161065,
            "remaining_time": 15.23996316
           },
           {
            "iteration": 693,
            "learn": [
             0.04379309922
            ],
            "passed_time": 34.44245019,
            "remaining_time": 15.18644057
           },
           {
            "iteration": 694,
            "learn": [
             0.04376188469
            ],
            "passed_time": 34.48149878,
            "remaining_time": 15.13216853
           },
           {
            "iteration": 695,
            "learn": [
             0.04375330789
            ],
            "passed_time": 34.53452261,
            "remaining_time": 15.08404436
           },
           {
            "iteration": 696,
            "learn": [
             0.04374537575
            ],
            "passed_time": 34.58175407,
            "remaining_time": 15.03338807
           },
           {
            "iteration": 697,
            "learn": [
             0.04373609764
            ],
            "passed_time": 34.62033638,
            "remaining_time": 14.97899941
           },
           {
            "iteration": 698,
            "learn": [
             0.04373148037
            ],
            "passed_time": 34.6585017,
            "remaining_time": 14.92447641
           },
           {
            "iteration": 699,
            "learn": [
             0.04372939388
            ],
            "passed_time": 34.69889344,
            "remaining_time": 14.87095433
           },
           {
            "iteration": 700,
            "learn": [
             0.0437237007
            ],
            "passed_time": 34.73675274,
            "remaining_time": 14.81638954
           },
           {
            "iteration": 701,
            "learn": [
             0.04371942754
            ],
            "passed_time": 34.77681018,
            "remaining_time": 14.76280546
           },
           {
            "iteration": 702,
            "learn": [
             0.04371002311
            ],
            "passed_time": 34.81794661,
            "remaining_time": 14.70971571
           },
           {
            "iteration": 703,
            "learn": [
             0.04368065549
            ],
            "passed_time": 34.85827602,
            "remaining_time": 14.6563206
           },
           {
            "iteration": 704,
            "learn": [
             0.04366598475
            ],
            "passed_time": 34.90498232,
            "remaining_time": 14.6056309
           },
           {
            "iteration": 705,
            "learn": [
             0.04366540106
            ],
            "passed_time": 34.945617,
            "remaining_time": 14.55242408
           },
           {
            "iteration": 706,
            "learn": [
             0.04366349316
            ],
            "passed_time": 34.98528223,
            "remaining_time": 14.49885105
           },
           {
            "iteration": 707,
            "learn": [
             0.04366304015
            ],
            "passed_time": 35.02554812,
            "remaining_time": 14.44556504
           },
           {
            "iteration": 708,
            "learn": [
             0.04366272652
            ],
            "passed_time": 35.05883237,
            "remaining_time": 14.38945024
           },
           {
            "iteration": 709,
            "learn": [
             0.04363672603
            ],
            "passed_time": 35.10483513,
            "remaining_time": 14.33859463
           },
           {
            "iteration": 710,
            "learn": [
             0.04361576099
            ],
            "passed_time": 35.14296065,
            "remaining_time": 14.28455081
           },
           {
            "iteration": 711,
            "learn": [
             0.0435921911
            ],
            "passed_time": 35.18051964,
            "remaining_time": 14.23032255
           },
           {
            "iteration": 712,
            "learn": [
             0.04353438368
            ],
            "passed_time": 35.22140164,
            "remaining_time": 14.17747864
           },
           {
            "iteration": 713,
            "learn": [
             0.04353360397
            ],
            "passed_time": 35.2606437,
            "remaining_time": 14.12401134
           },
           {
            "iteration": 714,
            "learn": [
             0.04352568056
            ],
            "passed_time": 35.30448731,
            "remaining_time": 14.07241802
           },
           {
            "iteration": 715,
            "learn": [
             0.04352521012
            ],
            "passed_time": 35.34152594,
            "remaining_time": 14.01814716
           },
           {
            "iteration": 716,
            "learn": [
             0.04351912054
            ],
            "passed_time": 35.4050153,
            "remaining_time": 13.97436448
           },
           {
            "iteration": 717,
            "learn": [
             0.04343077812
            ],
            "passed_time": 35.45728104,
            "remaining_time": 13.92611874
           },
           {
            "iteration": 718,
            "learn": [
             0.04342031955
            ],
            "passed_time": 35.50076459,
            "remaining_time": 13.87442956
           },
           {
            "iteration": 719,
            "learn": [
             0.04340948638
            ],
            "passed_time": 35.54385011,
            "remaining_time": 13.82260838
           },
           {
            "iteration": 720,
            "learn": [
             0.04335305543
            ],
            "passed_time": 35.58194314,
            "remaining_time": 13.76887952
           },
           {
            "iteration": 721,
            "learn": [
             0.04335237591
            ],
            "passed_time": 35.61854195,
            "remaining_time": 13.71461865
           },
           {
            "iteration": 722,
            "learn": [
             0.04334846429
            ],
            "passed_time": 35.66466168,
            "remaining_time": 13.66405434
           },
           {
            "iteration": 723,
            "learn": [
             0.04334679162
            ],
            "passed_time": 35.70494347,
            "remaining_time": 13.61127679
           },
           {
            "iteration": 724,
            "learn": [
             0.04330037493
            ],
            "passed_time": 35.74359912,
            "remaining_time": 13.55791691
           },
           {
            "iteration": 725,
            "learn": [
             0.0432603658
            ],
            "passed_time": 35.78219405,
            "remaining_time": 13.50457461
           },
           {
            "iteration": 726,
            "learn": [
             0.04322855887
            ],
            "passed_time": 35.82126488,
            "remaining_time": 13.4514516
           },
           {
            "iteration": 727,
            "learn": [
             0.04313206217
            ],
            "passed_time": 35.86230172,
            "remaining_time": 13.39910174
           },
           {
            "iteration": 728,
            "learn": [
             0.04310644935
            ],
            "passed_time": 35.91254421,
            "remaining_time": 13.35020505
           },
           {
            "iteration": 729,
            "learn": [
             0.04308879481
            ],
            "passed_time": 35.95323172,
            "remaining_time": 13.29777063
           },
           {
            "iteration": 730,
            "learn": [
             0.04306313408
            ],
            "passed_time": 35.99173128,
            "remaining_time": 13.24456322
           },
           {
            "iteration": 731,
            "learn": [
             0.04305875203
            ],
            "passed_time": 36.03079986,
            "remaining_time": 13.19160432
           },
           {
            "iteration": 732,
            "learn": [
             0.04300286557
            ],
            "passed_time": 36.06961398,
            "remaining_time": 13.13859063
           },
           {
            "iteration": 733,
            "learn": [
             0.04300087927
            ],
            "passed_time": 36.10620439,
            "remaining_time": 13.08480976
           },
           {
            "iteration": 734,
            "learn": [
             0.04299399691
            ],
            "passed_time": 36.14462161,
            "remaining_time": 13.03173432
           },
           {
            "iteration": 735,
            "learn": [
             0.04298885693
            ],
            "passed_time": 36.18181386,
            "remaining_time": 12.97825932
           },
           {
            "iteration": 736,
            "learn": [
             0.04293551868
            ],
            "passed_time": 36.2242809,
            "remaining_time": 12.92671082
           },
           {
            "iteration": 737,
            "learn": [
             0.04293055729
            ],
            "passed_time": 36.25809331,
            "remaining_time": 12.87211443
           },
           {
            "iteration": 738,
            "learn": [
             0.0429027883
            ],
            "passed_time": 36.29819386,
            "remaining_time": 12.81979512
           },
           {
            "iteration": 739,
            "learn": [
             0.04289703848
            ],
            "passed_time": 36.33628392,
            "remaining_time": 12.76680246
           },
           {
            "iteration": 740,
            "learn": [
             0.04287683137
            ],
            "passed_time": 36.38661082,
            "remaining_time": 12.71812713
           },
           {
            "iteration": 741,
            "learn": [
             0.04287457936
            ],
            "passed_time": 36.47219661,
            "remaining_time": 12.68170718
           },
           {
            "iteration": 742,
            "learn": [
             0.0428652664
            ],
            "passed_time": 36.51085289,
            "remaining_time": 12.6289222
           },
           {
            "iteration": 743,
            "learn": [
             0.04284819119
            ],
            "passed_time": 36.55872092,
            "remaining_time": 12.57934483
           },
           {
            "iteration": 744,
            "learn": [
             0.0428051155
            ],
            "passed_time": 36.60241469,
            "remaining_time": 12.52834328
           },
           {
            "iteration": 745,
            "learn": [
             0.04277666698
            ],
            "passed_time": 36.64080304,
            "remaining_time": 12.47555492
           },
           {
            "iteration": 746,
            "learn": [
             0.04276712316
            ],
            "passed_time": 36.67982482,
            "remaining_time": 12.42301965
           },
           {
            "iteration": 747,
            "learn": [
             0.0427303679
            ],
            "passed_time": 36.7214611,
            "remaining_time": 12.37140133
           },
           {
            "iteration": 748,
            "learn": [
             0.04271092307
            ],
            "passed_time": 36.77178829,
            "remaining_time": 12.32272211
           },
           {
            "iteration": 749,
            "learn": [
             0.04270967292
            ],
            "passed_time": 36.81578116,
            "remaining_time": 12.27192705
           },
           {
            "iteration": 750,
            "learn": [
             0.04268683048
            ],
            "passed_time": 36.85459953,
            "remaining_time": 12.21943446
           },
           {
            "iteration": 751,
            "learn": [
             0.04267667247
            ],
            "passed_time": 36.89619424,
            "remaining_time": 12.16789385
           },
           {
            "iteration": 752,
            "learn": [
             0.04264006096
            ],
            "passed_time": 36.94216845,
            "remaining_time": 12.11781621
           },
           {
            "iteration": 753,
            "learn": [
             0.04259015518
            ],
            "passed_time": 36.9823503,
            "remaining_time": 12.06585965
           },
           {
            "iteration": 754,
            "learn": [
             0.04252712066
            ],
            "passed_time": 37.02257489,
            "remaining_time": 12.01394814
           },
           {
            "iteration": 755,
            "learn": [
             0.04250709649
            ],
            "passed_time": 37.06206637,
            "remaining_time": 11.96183095
           },
           {
            "iteration": 756,
            "learn": [
             0.0424878651
            ],
            "passed_time": 37.10126969,
            "remaining_time": 11.9096546
           },
           {
            "iteration": 757,
            "learn": [
             0.04248339157
            ],
            "passed_time": 37.14945664,
            "remaining_time": 11.86038062
           },
           {
            "iteration": 758,
            "learn": [
             0.04247598215
            ],
            "passed_time": 37.18938535,
            "remaining_time": 11.80848731
           },
           {
            "iteration": 759,
            "learn": [
             0.04245870657
            ],
            "passed_time": 37.23269969,
            "remaining_time": 11.75769464
           },
           {
            "iteration": 760,
            "learn": [
             0.04240121713
            ],
            "passed_time": 37.27218002,
            "remaining_time": 11.70571751
           },
           {
            "iteration": 761,
            "learn": [
             0.04232531087
            ],
            "passed_time": 37.31111607,
            "remaining_time": 11.65360318
           },
           {
            "iteration": 762,
            "learn": [
             0.04229725003
            ],
            "passed_time": 37.35564527,
            "remaining_time": 11.60326072
           },
           {
            "iteration": 763,
            "learn": [
             0.04229490654
            ],
            "passed_time": 37.39536524,
            "remaining_time": 11.5514479
           },
           {
            "iteration": 764,
            "learn": [
             0.0422714804
            ],
            "passed_time": 37.45603803,
            "remaining_time": 11.50610319
           },
           {
            "iteration": 765,
            "learn": [
             0.04227098818
            ],
            "passed_time": 37.50371852,
            "remaining_time": 11.45674952
           },
           {
            "iteration": 766,
            "learn": [
             0.04223280854
            ],
            "passed_time": 37.5582699,
            "remaining_time": 11.40948747
           },
           {
            "iteration": 767,
            "learn": [
             0.0422170314
            ],
            "passed_time": 37.59539175,
            "remaining_time": 11.35694126
           },
           {
            "iteration": 768,
            "learn": [
             0.04217109386
            ],
            "passed_time": 37.6349365,
            "remaining_time": 11.30516298
           },
           {
            "iteration": 769,
            "learn": [
             0.04213495715
            ],
            "passed_time": 37.68018999,
            "remaining_time": 11.25512168
           },
           {
            "iteration": 770,
            "learn": [
             0.04212794411
            ],
            "passed_time": 37.72019686,
            "remaining_time": 11.20353448
           },
           {
            "iteration": 771,
            "learn": [
             0.04209016522
            ],
            "passed_time": 37.75901485,
            "remaining_time": 11.15162615
           },
           {
            "iteration": 772,
            "learn": [
             0.04206352876
            ],
            "passed_time": 37.80955188,
            "remaining_time": 11.10319311
           },
           {
            "iteration": 773,
            "learn": [
             0.04198679487
            ],
            "passed_time": 37.85996068,
            "remaining_time": 11.0547172
           },
           {
            "iteration": 774,
            "learn": [
             0.04198452108
            ],
            "passed_time": 37.90939999,
            "remaining_time": 11.00595484
           },
           {
            "iteration": 775,
            "learn": [
             0.04197394491
            ],
            "passed_time": 37.95110247,
            "remaining_time": 10.95495741
           },
           {
            "iteration": 776,
            "learn": [
             0.0419734222
            ],
            "passed_time": 37.9889046,
            "remaining_time": 10.90286451
           },
           {
            "iteration": 777,
            "learn": [
             0.04195989706
            ],
            "passed_time": 38.02553751,
            "remaining_time": 10.85047471
           },
           {
            "iteration": 778,
            "learn": [
             0.04194526553
            ],
            "passed_time": 38.06630654,
            "remaining_time": 10.79929878
           },
           {
            "iteration": 779,
            "learn": [
             0.04194383678
            ],
            "passed_time": 38.10502881,
            "remaining_time": 10.74757223
           },
           {
            "iteration": 780,
            "learn": [
             0.04193096068
            ],
            "passed_time": 38.15374768,
            "remaining_time": 10.69868213
           },
           {
            "iteration": 781,
            "learn": [
             0.04192731042
            ],
            "passed_time": 38.19335728,
            "remaining_time": 10.64725305
           },
           {
            "iteration": 782,
            "learn": [
             0.04188772817
            ],
            "passed_time": 38.23350934,
            "remaining_time": 10.59600451
           },
           {
            "iteration": 783,
            "learn": [
             0.04186006808
            ],
            "passed_time": 38.27306044,
            "remaining_time": 10.54461869
           },
           {
            "iteration": 784,
            "learn": [
             0.04182327798
            ],
            "passed_time": 38.31187385,
            "remaining_time": 10.49306099
           },
           {
            "iteration": 785,
            "learn": [
             0.04175734241
            ],
            "passed_time": 38.35265651,
            "remaining_time": 10.44207187
           },
           {
            "iteration": 786,
            "learn": [
             0.04175448057
            ],
            "passed_time": 38.39118144,
            "remaining_time": 10.39049765
           },
           {
            "iteration": 787,
            "learn": [
             0.04174589505
            ],
            "passed_time": 38.42814522,
            "remaining_time": 10.33853653
           },
           {
            "iteration": 788,
            "learn": [
             0.04174555964
            ],
            "passed_time": 38.48655685,
            "remaining_time": 10.29234917
           },
           {
            "iteration": 789,
            "learn": [
             0.04174290253
            ],
            "passed_time": 38.53011504,
            "remaining_time": 10.24218248
           },
           {
            "iteration": 790,
            "learn": [
             0.04174261504
            ],
            "passed_time": 38.57391148,
            "remaining_time": 10.19209545
           },
           {
            "iteration": 791,
            "learn": [
             0.04172769602
            ],
            "passed_time": 38.61418836,
            "remaining_time": 10.14109997
           },
           {
            "iteration": 792,
            "learn": [
             0.04171538183
            ],
            "passed_time": 38.65467055,
            "remaining_time": 10.09018512
           },
           {
            "iteration": 793,
            "learn": [
             0.04171223685
            ],
            "passed_time": 38.69976299,
            "remaining_time": 10.04049266
           },
           {
            "iteration": 794,
            "learn": [
             0.0417027061
            ],
            "passed_time": 38.73772944,
            "remaining_time": 9.988974257
           },
           {
            "iteration": 795,
            "learn": [
             0.04170207449
            ],
            "passed_time": 38.77962977,
            "remaining_time": 9.938498081
           },
           {
            "iteration": 796,
            "learn": [
             0.04165496957
            ],
            "passed_time": 38.81951416,
            "remaining_time": 9.887529956
           },
           {
            "iteration": 797,
            "learn": [
             0.04165194656
            ],
            "passed_time": 38.85762716,
            "remaining_time": 9.836141211
           },
           {
            "iteration": 798,
            "learn": [
             0.0416321881
            ],
            "passed_time": 38.89804242,
            "remaining_time": 9.785364864
           },
           {
            "iteration": 799,
            "learn": [
             0.04156836516
            ],
            "passed_time": 38.93929667,
            "remaining_time": 9.734824168
           },
           {
            "iteration": 800,
            "learn": [
             0.04156355187
            ],
            "passed_time": 38.97546235,
            "remaining_time": 9.683042456
           },
           {
            "iteration": 801,
            "learn": [
             0.04153209777
            ],
            "passed_time": 39.02059418,
            "remaining_time": 9.633513277
           },
           {
            "iteration": 802,
            "learn": [
             0.04153067338
            ],
            "passed_time": 39.0590393,
            "remaining_time": 9.582354599
           },
           {
            "iteration": 803,
            "learn": [
             0.04150635863
            ],
            "passed_time": 39.09999525,
            "remaining_time": 9.531839638
           },
           {
            "iteration": 804,
            "learn": [
             0.04149130893
            ],
            "passed_time": 39.14400456,
            "remaining_time": 9.482088061
           },
           {
            "iteration": 805,
            "learn": [
             0.04147478692
            ],
            "passed_time": 39.18705054,
            "remaining_time": 9.432118864
           },
           {
            "iteration": 806,
            "learn": [
             0.04145152195
            ],
            "passed_time": 39.23076102,
            "remaining_time": 9.382325747
           },
           {
            "iteration": 807,
            "learn": [
             0.04139045195
            ],
            "passed_time": 39.27045259,
            "remaining_time": 9.331592695
           },
           {
            "iteration": 808,
            "learn": [
             0.04138832626
            ],
            "passed_time": 39.30817239,
            "remaining_time": 9.280421417
           },
           {
            "iteration": 809,
            "learn": [
             0.04137782413
            ],
            "passed_time": 39.34451443,
            "remaining_time": 9.228960174
           },
           {
            "iteration": 810,
            "learn": [
             0.04128048674
            ],
            "passed_time": 39.38635541,
            "remaining_time": 9.178817721
           },
           {
            "iteration": 811,
            "learn": [
             0.04127932806
            ],
            "passed_time": 39.43473338,
            "remaining_time": 9.130209206
           },
           {
            "iteration": 812,
            "learn": [
             0.04121558788
            ],
            "passed_time": 39.49369648,
            "remaining_time": 9.084035967
           },
           {
            "iteration": 813,
            "learn": [
             0.04120352198
            ],
            "passed_time": 39.55398272,
            "remaining_time": 9.038133644
           },
           {
            "iteration": 814,
            "learn": [
             0.0411998543
            ],
            "passed_time": 39.60968517,
            "remaining_time": 8.991155528
           },
           {
            "iteration": 815,
            "learn": [
             0.04104326767
            ],
            "passed_time": 39.65296839,
            "remaining_time": 8.941355618
           },
           {
            "iteration": 816,
            "learn": [
             0.04098880995
            ],
            "passed_time": 39.69287106,
            "remaining_time": 8.890814449
           },
           {
            "iteration": 817,
            "learn": [
             0.0409734684
            ],
            "passed_time": 39.73642496,
            "remaining_time": 8.841111666
           },
           {
            "iteration": 818,
            "learn": [
             0.04097083307
            ],
            "passed_time": 39.77377257,
            "remaining_time": 8.790052302
           },
           {
            "iteration": 819,
            "learn": [
             0.04096852443
            ],
            "passed_time": 39.81193596,
            "remaining_time": 8.739205455
           },
           {
            "iteration": 820,
            "learn": [
             0.04095159733
            ],
            "passed_time": 39.85158776,
            "remaining_time": 8.688714019
           },
           {
            "iteration": 821,
            "learn": [
             0.04094049844
            ],
            "passed_time": 39.89277185,
            "remaining_time": 8.638580765
           },
           {
            "iteration": 822,
            "learn": [
             0.04094008898
            ],
            "passed_time": 39.93213383,
            "remaining_time": 8.588077385
           },
           {
            "iteration": 823,
            "learn": [
             0.04093029252
            ],
            "passed_time": 39.97140767,
            "remaining_time": 8.53758222
           },
           {
            "iteration": 824,
            "learn": [
             0.04090517193
            ],
            "passed_time": 40.0120631,
            "remaining_time": 8.487407324
           },
           {
            "iteration": 825,
            "learn": [
             0.04090481474
            ],
            "passed_time": 40.04632107,
            "remaining_time": 8.435907829
           },
           {
            "iteration": 826,
            "learn": [
             0.04089960506
            ],
            "passed_time": 40.0909559,
            "remaining_time": 8.386620764
           },
           {
            "iteration": 827,
            "learn": [
             0.04089846381
            ],
            "passed_time": 40.12907568,
            "remaining_time": 8.335991566
           },
           {
            "iteration": 828,
            "learn": [
             0.04087993372
            ],
            "passed_time": 40.16917181,
            "remaining_time": 8.285800217
           },
           {
            "iteration": 829,
            "learn": [
             0.04087927162
            ],
            "passed_time": 40.20572802,
            "remaining_time": 8.23490815
           },
           {
            "iteration": 830,
            "learn": [
             0.04087880554
            ],
            "passed_time": 40.24359185,
            "remaining_time": 8.184316514
           },
           {
            "iteration": 831,
            "learn": [
             0.04087857032
            ],
            "passed_time": 40.28164009,
            "remaining_time": 8.133792711
           },
           {
            "iteration": 832,
            "learn": [
             0.0408254673
            ],
            "passed_time": 40.32792421,
            "remaining_time": 8.084949992
           },
           {
            "iteration": 833,
            "learn": [
             0.04082523643
            ],
            "passed_time": 40.36381881,
            "remaining_time": 8.03404547
           },
           {
            "iteration": 834,
            "learn": [
             0.0407279121
            ],
            "passed_time": 40.41069597,
            "remaining_time": 7.985347107
           },
           {
            "iteration": 835,
            "learn": [
             0.04070147602
            ],
            "passed_time": 40.45147049,
            "remaining_time": 7.935455933
           },
           {
            "iteration": 836,
            "learn": [
             0.04062493379
            ],
            "passed_time": 40.51389554,
            "remaining_time": 7.889802835
           },
           {
            "iteration": 837,
            "learn": [
             0.04061492824
            ],
            "passed_time": 40.57599106,
            "remaining_time": 7.844046005
           },
           {
            "iteration": 838,
            "learn": [
             0.04061359533
            ],
            "passed_time": 40.61890122,
            "remaining_time": 7.794568649
           },
           {
            "iteration": 839,
            "learn": [
             0.04060931346
            ],
            "passed_time": 40.6566068,
            "remaining_time": 7.74411558
           },
           {
            "iteration": 840,
            "learn": [
             0.04060918278
            ],
            "passed_time": 40.70219838,
            "remaining_time": 7.69518376
           },
           {
            "iteration": 841,
            "learn": [
             0.04060453066
            ],
            "passed_time": 40.7384135,
            "remaining_time": 7.644500396
           },
           {
            "iteration": 842,
            "learn": [
             0.0405801375
            ],
            "passed_time": 40.79848491,
            "remaining_time": 7.598294343
           },
           {
            "iteration": 843,
            "learn": [
             0.04057889607
            ],
            "passed_time": 40.8620007,
            "remaining_time": 7.552692072
           },
           {
            "iteration": 844,
            "learn": [
             0.04057804231
            ],
            "passed_time": 40.90555064,
            "remaining_time": 7.50338503
           },
           {
            "iteration": 845,
            "learn": [
             0.04057622589
            ],
            "passed_time": 40.94399932,
            "remaining_time": 7.453162996
           },
           {
            "iteration": 846,
            "learn": [
             0.04054845254
            ],
            "passed_time": 41.00627997,
            "remaining_time": 7.407273713
           },
           {
            "iteration": 847,
            "learn": [
             0.04050021508
            ],
            "passed_time": 41.05536402,
            "remaining_time": 7.358980344
           },
           {
            "iteration": 848,
            "learn": [
             0.04049093697
            ],
            "passed_time": 41.09502034,
            "remaining_time": 7.309008329
           },
           {
            "iteration": 849,
            "learn": [
             0.04047083004
            ],
            "passed_time": 41.13612974,
            "remaining_time": 7.259317012
           },
           {
            "iteration": 850,
            "learn": [
             0.0404275017
            ],
            "passed_time": 41.17525428,
            "remaining_time": 7.209298341
           },
           {
            "iteration": 851,
            "learn": [
             0.04039118639
            ],
            "passed_time": 41.23743888,
            "remaining_time": 7.163310979
           },
           {
            "iteration": 852,
            "learn": [
             0.04038796737
            ],
            "passed_time": 41.39932749,
            "remaining_time": 7.134467926
           },
           {
            "iteration": 853,
            "learn": [
             0.04033594461
            ],
            "passed_time": 41.48481723,
            "remaining_time": 7.092252127
           },
           {
            "iteration": 854,
            "learn": [
             0.04033256441
            ],
            "passed_time": 41.52823651,
            "remaining_time": 7.042800344
           },
           {
            "iteration": 855,
            "learn": [
             0.04022001614
            ],
            "passed_time": 41.6172091,
            "remaining_time": 7.001025829
           },
           {
            "iteration": 856,
            "learn": [
             0.04021726756
            ],
            "passed_time": 41.65525896,
            "remaining_time": 6.950644144
           },
           {
            "iteration": 857,
            "learn": [
             0.04021709768
            ],
            "passed_time": 41.73249389,
            "remaining_time": 6.906776378
           },
           {
            "iteration": 858,
            "learn": [
             0.04021332109
            ],
            "passed_time": 41.89170157,
            "remaining_time": 6.876286289
           },
           {
            "iteration": 859,
            "learn": [
             0.04021047232
            ],
            "passed_time": 42.03461789,
            "remaining_time": 6.842844773
           },
           {
            "iteration": 860,
            "learn": [
             0.04020244436
            ],
            "passed_time": 42.19195577,
            "remaining_time": 6.811477179
           },
           {
            "iteration": 861,
            "learn": [
             0.0402023224
            ],
            "passed_time": 42.32384213,
            "remaining_time": 6.775742708
           },
           {
            "iteration": 862,
            "learn": [
             0.04018882775
            ],
            "passed_time": 42.47008811,
            "remaining_time": 6.742064972
           },
           {
            "iteration": 863,
            "learn": [
             0.04013607756
            ],
            "passed_time": 42.76972043,
            "remaining_time": 6.732270808
           },
           {
            "iteration": 864,
            "learn": [
             0.04013546773
            ],
            "passed_time": 43.09597741,
            "remaining_time": 6.725961793
           },
           {
            "iteration": 865,
            "learn": [
             0.04013148642
            ],
            "passed_time": 43.50176747,
            "remaining_time": 6.731220371
           },
           {
            "iteration": 866,
            "learn": [
             0.04008543563
            ],
            "passed_time": 43.93019735,
            "remaining_time": 6.739003746
           },
           {
            "iteration": 867,
            "learn": [
             0.04008432051
            ],
            "passed_time": 44.19554525,
            "remaining_time": 6.720981535
           },
           {
            "iteration": 868,
            "learn": [
             0.04003785155
            ],
            "passed_time": 44.43855387,
            "remaining_time": 6.699022506
           },
           {
            "iteration": 869,
            "learn": [
             0.04000571357
            ],
            "passed_time": 44.73513021,
            "remaining_time": 6.684559687
           },
           {
            "iteration": 870,
            "learn": [
             0.04000458539
            ],
            "passed_time": 45.08855447,
            "remaining_time": 6.677868572
           },
           {
            "iteration": 871,
            "learn": [
             0.04000407139
            ],
            "passed_time": 45.30646181,
            "remaining_time": 6.650489808
           },
           {
            "iteration": 872,
            "learn": [
             0.03997845858
            ],
            "passed_time": 45.54174815,
            "remaining_time": 6.625202766
           },
           {
            "iteration": 873,
            "learn": [
             0.03997529618
            ],
            "passed_time": 45.73517139,
            "remaining_time": 6.593399994
           },
           {
            "iteration": 874,
            "learn": [
             0.03997471249
            ],
            "passed_time": 45.87356555,
            "remaining_time": 6.553366507
           },
           {
            "iteration": 875,
            "learn": [
             0.03991872584
            ],
            "passed_time": 45.96962601,
            "remaining_time": 6.507116011
           },
           {
            "iteration": 876,
            "learn": [
             0.03991822056
            ],
            "passed_time": 46.04169585,
            "remaining_time": 6.457387218
           },
           {
            "iteration": 877,
            "learn": [
             0.0399022474
            ],
            "passed_time": 46.12361727,
            "remaining_time": 6.408976432
           },
           {
            "iteration": 878,
            "learn": [
             0.0398985318
            ],
            "passed_time": 46.21151756,
            "remaining_time": 6.361312428
           },
           {
            "iteration": 879,
            "learn": [
             0.03988841735
            ],
            "passed_time": 46.26456424,
            "remaining_time": 6.308804214
           },
           {
            "iteration": 880,
            "learn": [
             0.03987748835
            ],
            "passed_time": 46.32572164,
            "remaining_time": 6.257390324
           },
           {
            "iteration": 881,
            "learn": [
             0.03984046302
            ],
            "passed_time": 46.37729537,
            "remaining_time": 6.204672169
           },
           {
            "iteration": 882,
            "learn": [
             0.03983957877
            ],
            "passed_time": 46.41530237,
            "remaining_time": 6.150158978
           },
           {
            "iteration": 883,
            "learn": [
             0.03983837654
            ],
            "passed_time": 46.45469415,
            "remaining_time": 6.095864843
           },
           {
            "iteration": 884,
            "learn": [
             0.03981502009
            ],
            "passed_time": 46.49822937,
            "remaining_time": 6.042142799
           },
           {
            "iteration": 885,
            "learn": [
             0.03981183591
            ],
            "passed_time": 46.5485806,
            "remaining_time": 5.989320754
           },
           {
            "iteration": 886,
            "learn": [
             0.03977358658
            ],
            "passed_time": 46.58698576,
            "remaining_time": 5.934982402
           },
           {
            "iteration": 887,
            "learn": [
             0.03976937876
            ],
            "passed_time": 46.62881457,
            "remaining_time": 5.881111748
           },
           {
            "iteration": 888,
            "learn": [
             0.03975387604
            ],
            "passed_time": 46.66885955,
            "remaining_time": 5.827045456
           },
           {
            "iteration": 889,
            "learn": [
             0.03974849648
            ],
            "passed_time": 46.71562528,
            "remaining_time": 5.773841327
           },
           {
            "iteration": 890,
            "learn": [
             0.03972963098
            ],
            "passed_time": 46.76166369,
            "remaining_time": 5.720562674
           },
           {
            "iteration": 891,
            "learn": [
             0.03972846795
            ],
            "passed_time": 46.80341624,
            "remaining_time": 5.666781339
           },
           {
            "iteration": 892,
            "learn": [
             0.03972247856
            ],
            "passed_time": 46.84414571,
            "remaining_time": 5.612904358
           },
           {
            "iteration": 893,
            "learn": [
             0.03970814323
            ],
            "passed_time": 46.89357919,
            "remaining_time": 5.560088808
           },
           {
            "iteration": 894,
            "learn": [
             0.03966886154
            ],
            "passed_time": 46.93296696,
            "remaining_time": 5.506102269
           },
           {
            "iteration": 895,
            "learn": [
             0.03966850435
            ],
            "passed_time": 46.97165908,
            "remaining_time": 5.452067572
           },
           {
            "iteration": 896,
            "learn": [
             0.03965449571
            ],
            "passed_time": 47.01129831,
            "remaining_time": 5.398175837
           },
           {
            "iteration": 897,
            "learn": [
             0.03956936796
            ],
            "passed_time": 47.05809998,
            "remaining_time": 5.345129397
           },
           {
            "iteration": 898,
            "learn": [
             0.0395273464
            ],
            "passed_time": 47.09987806,
            "remaining_time": 5.291532462
           },
           {
            "iteration": 899,
            "learn": [
             0.03945720737
            ],
            "passed_time": 47.13923534,
            "remaining_time": 5.237692815
           },
           {
            "iteration": 900,
            "learn": [
             0.0394541408
            ],
            "passed_time": 47.20239978,
            "remaining_time": 5.186501197
           },
           {
            "iteration": 901,
            "learn": [
             0.03944337297
            ],
            "passed_time": 47.26424165,
            "remaining_time": 5.135139337
           },
           {
            "iteration": 902,
            "learn": [
             0.03941914534
            ],
            "passed_time": 47.30381618,
            "remaining_time": 5.081362314
           },
           {
            "iteration": 903,
            "learn": [
             0.03941908435
            ],
            "passed_time": 47.3565824,
            "remaining_time": 5.0290176
           },
           {
            "iteration": 904,
            "learn": [
             0.03941059466
            ],
            "passed_time": 47.39515907,
            "remaining_time": 4.975182444
           },
           {
            "iteration": 905,
            "learn": [
             0.03940913979
            ],
            "passed_time": 47.44314285,
            "remaining_time": 4.922356985
           },
           {
            "iteration": 906,
            "learn": [
             0.03938116607
            ],
            "passed_time": 47.48598202,
            "remaining_time": 4.869014695
           },
           {
            "iteration": 907,
            "learn": [
             0.03938090907
            ],
            "passed_time": 47.52216289,
            "remaining_time": 4.815020909
           },
           {
            "iteration": 908,
            "learn": [
             0.0393599266
            ],
            "passed_time": 47.56293323,
            "remaining_time": 4.761525769
           },
           {
            "iteration": 909,
            "learn": [
             0.03935976979
            ],
            "passed_time": 47.59779598,
            "remaining_time": 4.707474327
           },
           {
            "iteration": 910,
            "learn": [
             0.03932572391
            ],
            "passed_time": 47.63851923,
            "remaining_time": 4.654037554
           },
           {
            "iteration": 911,
            "learn": [
             0.03932547562
            ],
            "passed_time": 47.67921077,
            "remaining_time": 4.600625601
           },
           {
            "iteration": 912,
            "learn": [
             0.03931978244
            ],
            "passed_time": 47.72141751,
            "remaining_time": 4.547385897
           },
           {
            "iteration": 913,
            "learn": [
             0.03931849744
            ],
            "passed_time": 47.75880629,
            "remaining_time": 4.493717003
           },
           {
            "iteration": 914,
            "learn": [
             0.03931842339
            ],
            "passed_time": 47.79438836,
            "remaining_time": 4.439915859
           },
           {
            "iteration": 915,
            "learn": [
             0.03931652421
            ],
            "passed_time": 47.83031448,
            "remaining_time": 4.386186044
           },
           {
            "iteration": 916,
            "learn": [
             0.03931134937
            ],
            "passed_time": 47.86446519,
            "remaining_time": 4.332334363
           },
           {
            "iteration": 917,
            "learn": [
             0.0392843993
            ],
            "passed_time": 47.91210797,
            "remaining_time": 4.279730778
           },
           {
            "iteration": 918,
            "learn": [
             0.03927778701
            ],
            "passed_time": 47.94940772,
            "remaining_time": 4.226226361
           },
           {
            "iteration": 919,
            "learn": [
             0.03927490339
            ],
            "passed_time": 47.99092772,
            "remaining_time": 4.173124149
           },
           {
            "iteration": 920,
            "learn": [
             0.03927473351
            ],
            "passed_time": 48.02822239,
            "remaining_time": 4.119684657
           },
           {
            "iteration": 921,
            "learn": [
             0.03927460719
            ],
            "passed_time": 48.06263228,
            "remaining_time": 4.066036136
           },
           {
            "iteration": 922,
            "learn": [
             0.03926417476
            ],
            "passed_time": 48.10219907,
            "remaining_time": 4.012859511
           },
           {
            "iteration": 923,
            "learn": [
             0.0392635083
            ],
            "passed_time": 48.15261425,
            "remaining_time": 3.960604635
           },
           {
            "iteration": 924,
            "learn": [
             0.03924844988
            ],
            "passed_time": 48.19203747,
            "remaining_time": 3.907462498
           },
           {
            "iteration": 925,
            "learn": [
             0.03924795767
            ],
            "passed_time": 48.23982226,
            "remaining_time": 3.855018193
           },
           {
            "iteration": 926,
            "learn": [
             0.03924707777
            ],
            "passed_time": 48.30031028,
            "remaining_time": 3.803584304
           },
           {
            "iteration": 927,
            "learn": [
             0.03924358432
            ],
            "passed_time": 48.35666657,
            "remaining_time": 3.751810337
           },
           {
            "iteration": 928,
            "learn": [
             0.03918220505
            ],
            "passed_time": 48.40294824,
            "remaining_time": 3.69925654
           },
           {
            "iteration": 929,
            "learn": [
             0.03916809187
            ],
            "passed_time": 48.44137126,
            "remaining_time": 3.646124718
           },
           {
            "iteration": 930,
            "learn": [
             0.03916582679
            ],
            "passed_time": 48.47958075,
            "remaining_time": 3.59300867
           },
           {
            "iteration": 931,
            "learn": [
             0.03916157976
            ],
            "passed_time": 48.51916168,
            "remaining_time": 3.540024672
           },
           {
            "iteration": 932,
            "learn": [
             0.03915962831
            ],
            "passed_time": 48.56094782,
            "remaining_time": 3.487227764
           },
           {
            "iteration": 933,
            "learn": [
             0.03915865259
            ],
            "passed_time": 48.59651365,
            "remaining_time": 3.434014883
           },
           {
            "iteration": 934,
            "learn": [
             0.03915708445
            ],
            "passed_time": 48.63485649,
            "remaining_time": 3.381032804
           },
           {
            "iteration": 935,
            "learn": [
             0.03914415173
            ],
            "passed_time": 48.68021731,
            "remaining_time": 3.328561867
           },
           {
            "iteration": 936,
            "learn": [
             0.03914139443
            ],
            "passed_time": 48.7203935,
            "remaining_time": 3.275757514
           },
           {
            "iteration": 937,
            "learn": [
             0.03910119364
            ],
            "passed_time": 48.77480871,
            "remaining_time": 3.223921258
           },
           {
            "iteration": 938,
            "learn": [
             0.03910089308
            ],
            "passed_time": 48.81358733,
            "remaining_time": 3.171063714
           },
           {
            "iteration": 939,
            "learn": [
             0.03910044442
            ],
            "passed_time": 48.85321991,
            "remaining_time": 3.118290633
           },
           {
            "iteration": 940,
            "learn": [
             0.03909980846
            ],
            "passed_time": 48.89648583,
            "remaining_time": 3.065773288
           },
           {
            "iteration": 941,
            "learn": [
             0.03908852227
            ],
            "passed_time": 48.93376401,
            "remaining_time": 3.012906914
           },
           {
            "iteration": 942,
            "learn": [
             0.03908843951
            ],
            "passed_time": 48.98198545,
            "remaining_time": 2.96073507
           },
           {
            "iteration": 943,
            "learn": [
             0.0390880649
            ],
            "passed_time": 49.03863926,
            "remaining_time": 2.909071821
           },
           {
            "iteration": 944,
            "learn": [
             0.03908710224
            ],
            "passed_time": 49.07754865,
            "remaining_time": 2.856365265
           },
           {
            "iteration": 945,
            "learn": [
             0.03904160465
            ],
            "passed_time": 49.12006623,
            "remaining_time": 2.803893844
           },
           {
            "iteration": 946,
            "learn": [
             0.03899001313
            ],
            "passed_time": 49.16054122,
            "remaining_time": 2.751329128
           },
           {
            "iteration": 947,
            "learn": [
             0.03895056156
            ],
            "passed_time": 49.20837552,
            "remaining_time": 2.699193594
           },
           {
            "iteration": 948,
            "learn": [
             0.03891273039
            ],
            "passed_time": 49.25826718,
            "remaining_time": 2.647177689
           },
           {
            "iteration": 949,
            "learn": [
             0.03891258664
            ],
            "passed_time": 49.31381953,
            "remaining_time": 2.595464186
           },
           {
            "iteration": 950,
            "learn": [
             0.03891134521
            ],
            "passed_time": 49.36104604,
            "remaining_time": 2.543313624
           },
           {
            "iteration": 951,
            "learn": [
             0.03888490041
            ],
            "passed_time": 49.41536348,
            "remaining_time": 2.491530932
           },
           {
            "iteration": 952,
            "learn": [
             0.03887566151
            ],
            "passed_time": 49.45602981,
            "remaining_time": 2.439069676
           },
           {
            "iteration": 953,
            "learn": [
             0.03887283887
            ],
            "passed_time": 49.49492495,
            "remaining_time": 2.386547744
           },
           {
            "iteration": 954,
            "learn": [
             0.03886625272
            ],
            "passed_time": 49.53520608,
            "remaining_time": 2.334119658
           },
           {
            "iteration": 955,
            "learn": [
             0.03886552964
            ],
            "passed_time": 49.57227238,
            "remaining_time": 2.281569022
           },
           {
            "iteration": 956,
            "learn": [
             0.03884719121
            ],
            "passed_time": 49.6112686,
            "remaining_time": 2.22913746
           },
           {
            "iteration": 957,
            "learn": [
             0.03884686887
            ],
            "passed_time": 49.6548575,
            "remaining_time": 2.176935298
           },
           {
            "iteration": 958,
            "learn": [
             0.0388247016
            ],
            "passed_time": 49.69588586,
            "remaining_time": 2.124641627
           },
           {
            "iteration": 959,
            "learn": [
             0.0387951641
            ],
            "passed_time": 49.73517482,
            "remaining_time": 2.072298951
           },
           {
            "iteration": 960,
            "learn": [
             0.03875708029
            ],
            "passed_time": 49.77387861,
            "remaining_time": 2.019959694
           },
           {
            "iteration": 961,
            "learn": [
             0.03875679715
            ],
            "passed_time": 49.80811442,
            "remaining_time": 1.967472295
           },
           {
            "iteration": 962,
            "learn": [
             0.03874566778
            ],
            "passed_time": 49.84886676,
            "remaining_time": 1.915273178
           },
           {
            "iteration": 963,
            "learn": [
             0.03872648866
            ],
            "passed_time": 49.89364716,
            "remaining_time": 1.863248234
           },
           {
            "iteration": 964,
            "learn": [
             0.03872630571
            ],
            "passed_time": 49.92785603,
            "remaining_time": 1.810854882
           },
           {
            "iteration": 965,
            "learn": [
             0.03872587012
            ],
            "passed_time": 49.96512349,
            "remaining_time": 1.758606831
           },
           {
            "iteration": 966,
            "learn": [
             0.03871659636
            ],
            "passed_time": 50.00461086,
            "remaining_time": 1.706465521
           },
           {
            "iteration": 967,
            "learn": [
             0.0387150021
            ],
            "passed_time": 50.04374597,
            "remaining_time": 1.65433871
           },
           {
            "iteration": 968,
            "learn": [
             0.03870635559
            ],
            "passed_time": 50.08756017,
            "remaining_time": 1.602388406
           },
           {
            "iteration": 969,
            "learn": [
             0.03870467857
            ],
            "passed_time": 50.13322648,
            "remaining_time": 1.550512159
           },
           {
            "iteration": 970,
            "learn": [
             0.03868554736
            ],
            "passed_time": 50.17457572,
            "remaining_time": 1.498519769
           },
           {
            "iteration": 971,
            "learn": [
             0.03864293775
            ],
            "passed_time": 50.21306246,
            "remaining_time": 1.44646682
           },
           {
            "iteration": 972,
            "learn": [
             0.03863421284
            ],
            "passed_time": 50.27246411,
            "remaining_time": 1.395022128
           },
           {
            "iteration": 973,
            "learn": [
             0.03863308901
            ],
            "passed_time": 50.34998913,
            "remaining_time": 1.344044884
           },
           {
            "iteration": 974,
            "learn": [
             0.03863301932
            ],
            "passed_time": 50.40114216,
            "remaining_time": 1.292336978
           },
           {
            "iteration": 975,
            "learn": [
             0.0386327841
            ],
            "passed_time": 50.44228966,
            "remaining_time": 1.240384172
           },
           {
            "iteration": 976,
            "learn": [
             0.0386037214
            ],
            "passed_time": 50.47985064,
            "remaining_time": 1.188369053
           },
           {
            "iteration": 977,
            "learn": [
             0.03860138663
            ],
            "passed_time": 50.51405889,
            "remaining_time": 1.136308073
           },
           {
            "iteration": 978,
            "learn": [
             0.03859352419
            ],
            "passed_time": 50.56790173,
            "remaining_time": 1.084704736
           },
           {
            "iteration": 979,
            "learn": [
             0.03859344578
            ],
            "passed_time": 50.60763682,
            "remaining_time": 1.032808915
           },
           {
            "iteration": 980,
            "learn": [
             0.03859334995
            ],
            "passed_time": 50.64514008,
            "remaining_time": 0.9808946601
           },
           {
            "iteration": 981,
            "learn": [
             0.03859298405
            ],
            "passed_time": 50.6688013,
            "remaining_time": 0.9287560319
           },
           {
            "iteration": 982,
            "learn": [
             0.0385913593
            ],
            "passed_time": 50.70796116,
            "remaining_time": 0.8769433772
           },
           {
            "iteration": 983,
            "learn": [
             0.03859126782
            ],
            "passed_time": 50.74579398,
            "remaining_time": 0.8251348615
           },
           {
            "iteration": 984,
            "learn": [
             0.03858403699
            ],
            "passed_time": 50.79699501,
            "remaining_time": 0.7735582996
           },
           {
            "iteration": 985,
            "learn": [
             0.03853668814
            ],
            "passed_time": 50.83835799,
            "remaining_time": 0.7218428113
           },
           {
            "iteration": 986,
            "learn": [
             0.03853588665
            ],
            "passed_time": 50.87829613,
            "remaining_time": 0.6701295336
           },
           {
            "iteration": 987,
            "learn": [
             0.03853585616
            ],
            "passed_time": 50.92079203,
            "remaining_time": 0.6184711583
           },
           {
            "iteration": 988,
            "learn": [
             0.03853503289
            ],
            "passed_time": 50.95516024,
            "remaining_time": 0.5667409127
           },
           {
            "iteration": 989,
            "learn": [
             0.03852884313
            ],
            "passed_time": 51.00285181,
            "remaining_time": 0.5151803213
           },
           {
            "iteration": 990,
            "learn": [
             0.03846754662
            ],
            "passed_time": 51.04406187,
            "remaining_time": 0.4635686749
           },
           {
            "iteration": 991,
            "learn": [
             0.03846750741
            ],
            "passed_time": 51.07944996,
            "remaining_time": 0.411931048
           },
           {
            "iteration": 992,
            "learn": [
             0.03845153861
            ],
            "passed_time": 51.11980489,
            "remaining_time": 0.3603611624
           },
           {
            "iteration": 993,
            "learn": [
             0.03842143049
            ],
            "passed_time": 51.16036188,
            "remaining_time": 0.3088150616
           },
           {
            "iteration": 994,
            "learn": [
             0.03841311504
            ],
            "passed_time": 51.20087937,
            "remaining_time": 0.2572908511
           },
           {
            "iteration": 995,
            "learn": [
             0.03841185182
            ],
            "passed_time": 51.25149778,
            "remaining_time": 0.2058293083
           },
           {
            "iteration": 996,
            "learn": [
             0.03840881139
            ],
            "passed_time": 51.33226884,
            "remaining_time": 0.1544601871
           },
           {
            "iteration": 997,
            "learn": [
             0.03837744005
            ],
            "passed_time": 51.38545141,
            "remaining_time": 0.1029768565
           },
           {
            "iteration": 998,
            "learn": [
             0.03837608536
            ],
            "passed_time": 51.42560851,
            "remaining_time": 0.0514770856
           },
           {
            "iteration": 999,
            "learn": [
             0.03837385077
            ],
            "passed_time": 51.46665416,
            "remaining_time": 0
           }
          ],
          "meta": {
           "iteration_count": 1000,
           "launch_mode": "Train",
           "learn_metrics": [
            {
             "best_value": "Min",
             "name": "Logloss"
            }
           ],
           "learn_sets": [
            "learn"
           ],
           "name": "experiment",
           "parameters": "",
           "test_metrics": [],
           "test_sets": []
          }
         },
         "passed_iterations": 999,
         "total_iterations": 1000
        },
        "name": "catboost_info",
        "path": "catboost_info"
       }
      },
      "layout": "IPY_MODEL_c71206412a4b43b0a8b0a0ca7da92558"
     }
    }
   }
  }
 },
 "nbformat": 4,
 "nbformat_minor": 1
}
